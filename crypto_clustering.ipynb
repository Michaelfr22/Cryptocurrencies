{
 "cells": [
  {
   "cell_type": "markdown",
   "metadata": {},
   "source": [
    "# Clustering Crypto"
   ]
  },
  {
   "cell_type": "code",
   "execution_count": 326,
   "metadata": {},
   "outputs": [],
   "source": [
    "# Initial imports\n",
    "import pandas as pd\n",
    "import hvplot.pandas\n",
    "from pathlib import Path\n",
    "import plotly.express as px\n",
    "from sklearn.preprocessing import StandardScaler, MinMaxScaler\n",
    "from sklearn.decomposition import PCA\n",
    "from sklearn.cluster import KMeans\n"
   ]
  },
  {
   "cell_type": "markdown",
   "metadata": {},
   "source": [
    "### Deliverable 1: Preprocessing the Data for PCA"
   ]
  },
  {
   "cell_type": "code",
   "execution_count": 327,
   "metadata": {},
   "outputs": [
    {
     "data": {
      "text/html": [
       "<div>\n",
       "<style scoped>\n",
       "    .dataframe tbody tr th:only-of-type {\n",
       "        vertical-align: middle;\n",
       "    }\n",
       "\n",
       "    .dataframe tbody tr th {\n",
       "        vertical-align: top;\n",
       "    }\n",
       "\n",
       "    .dataframe thead th {\n",
       "        text-align: right;\n",
       "    }\n",
       "</style>\n",
       "<table border=\"1\" class=\"dataframe\">\n",
       "  <thead>\n",
       "    <tr style=\"text-align: right;\">\n",
       "      <th></th>\n",
       "      <th>Unnamed: 0</th>\n",
       "      <th>CoinName</th>\n",
       "      <th>Algorithm</th>\n",
       "      <th>IsTrading</th>\n",
       "      <th>ProofType</th>\n",
       "      <th>TotalCoinsMined</th>\n",
       "      <th>TotalCoinSupply</th>\n",
       "    </tr>\n",
       "  </thead>\n",
       "  <tbody>\n",
       "    <tr>\n",
       "      <th>0</th>\n",
       "      <td>42</td>\n",
       "      <td>42 Coin</td>\n",
       "      <td>Scrypt</td>\n",
       "      <td>True</td>\n",
       "      <td>PoW/PoS</td>\n",
       "      <td>4.199995e+01</td>\n",
       "      <td>42</td>\n",
       "    </tr>\n",
       "    <tr>\n",
       "      <th>1</th>\n",
       "      <td>365</td>\n",
       "      <td>365Coin</td>\n",
       "      <td>X11</td>\n",
       "      <td>True</td>\n",
       "      <td>PoW/PoS</td>\n",
       "      <td>NaN</td>\n",
       "      <td>2300000000</td>\n",
       "    </tr>\n",
       "    <tr>\n",
       "      <th>2</th>\n",
       "      <td>404</td>\n",
       "      <td>404Coin</td>\n",
       "      <td>Scrypt</td>\n",
       "      <td>True</td>\n",
       "      <td>PoW/PoS</td>\n",
       "      <td>1.055185e+09</td>\n",
       "      <td>532000000</td>\n",
       "    </tr>\n",
       "    <tr>\n",
       "      <th>3</th>\n",
       "      <td>611</td>\n",
       "      <td>SixEleven</td>\n",
       "      <td>SHA-256</td>\n",
       "      <td>True</td>\n",
       "      <td>PoW</td>\n",
       "      <td>NaN</td>\n",
       "      <td>611000</td>\n",
       "    </tr>\n",
       "    <tr>\n",
       "      <th>4</th>\n",
       "      <td>808</td>\n",
       "      <td>808</td>\n",
       "      <td>SHA-256</td>\n",
       "      <td>True</td>\n",
       "      <td>PoW/PoS</td>\n",
       "      <td>0.000000e+00</td>\n",
       "      <td>0</td>\n",
       "    </tr>\n",
       "  </tbody>\n",
       "</table>\n",
       "</div>"
      ],
      "text/plain": [
       "  Unnamed: 0   CoinName Algorithm  IsTrading ProofType  TotalCoinsMined  \\\n",
       "0         42    42 Coin    Scrypt       True   PoW/PoS     4.199995e+01   \n",
       "1        365    365Coin       X11       True   PoW/PoS              NaN   \n",
       "2        404    404Coin    Scrypt       True   PoW/PoS     1.055185e+09   \n",
       "3        611  SixEleven   SHA-256       True       PoW              NaN   \n",
       "4        808        808   SHA-256       True   PoW/PoS     0.000000e+00   \n",
       "\n",
       "  TotalCoinSupply  \n",
       "0              42  \n",
       "1      2300000000  \n",
       "2       532000000  \n",
       "3          611000  \n",
       "4               0  "
      ]
     },
     "execution_count": 327,
     "metadata": {},
     "output_type": "execute_result"
    }
   ],
   "source": [
    "# Load the crypto_data.csv dataset.\n",
    "file_path = \"Resources/crypto_data.csv\"\n",
    "crypto_df = pd.read_csv(file_path)\n",
    "crypto_df.head()"
   ]
  },
  {
   "cell_type": "code",
   "execution_count": 328,
   "metadata": {},
   "outputs": [
    {
     "data": {
      "text/plain": [
       "(1252, 7)"
      ]
     },
     "execution_count": 328,
     "metadata": {},
     "output_type": "execute_result"
    }
   ],
   "source": [
    "# Keep all the cryptocurrencies that are being traded.\n",
    "crypto_df.shape"
   ]
  },
  {
   "cell_type": "code",
   "execution_count": 329,
   "metadata": {},
   "outputs": [
    {
     "name": "stdout",
     "output_type": "stream",
     "text": [
      "Column Unnamed: 0 has 0 null values\n",
      "Column CoinName has 0 null values\n",
      "Column Algorithm has 0 null values\n",
      "Column IsTrading has 0 null values\n",
      "Column ProofType has 0 null values\n",
      "Column TotalCoinsMined has 508 null values\n",
      "Column TotalCoinSupply has 0 null values\n"
     ]
    }
   ],
   "source": [
    "# Keep all the cryptocurrencies that have a working algorithm.\n",
    "# Check for null values\n",
    "\n",
    "for column in crypto_df.columns:\n",
    "    print(f\"Column {column} has {crypto_df[column].isnull().sum()} null values\")"
   ]
  },
  {
   "cell_type": "code",
   "execution_count": 330,
   "metadata": {},
   "outputs": [
    {
     "data": {
      "text/html": [
       "<div>\n",
       "<style scoped>\n",
       "    .dataframe tbody tr th:only-of-type {\n",
       "        vertical-align: middle;\n",
       "    }\n",
       "\n",
       "    .dataframe tbody tr th {\n",
       "        vertical-align: top;\n",
       "    }\n",
       "\n",
       "    .dataframe thead th {\n",
       "        text-align: right;\n",
       "    }\n",
       "</style>\n",
       "<table border=\"1\" class=\"dataframe\">\n",
       "  <thead>\n",
       "    <tr style=\"text-align: right;\">\n",
       "      <th></th>\n",
       "      <th>Unnamed: 0</th>\n",
       "      <th>CoinName</th>\n",
       "      <th>Algorithm</th>\n",
       "      <th>ProofType</th>\n",
       "      <th>TotalCoinsMined</th>\n",
       "      <th>TotalCoinSupply</th>\n",
       "    </tr>\n",
       "  </thead>\n",
       "  <tbody>\n",
       "    <tr>\n",
       "      <th>0</th>\n",
       "      <td>42</td>\n",
       "      <td>42 Coin</td>\n",
       "      <td>Scrypt</td>\n",
       "      <td>PoW/PoS</td>\n",
       "      <td>4.199995e+01</td>\n",
       "      <td>42</td>\n",
       "    </tr>\n",
       "    <tr>\n",
       "      <th>1</th>\n",
       "      <td>365</td>\n",
       "      <td>365Coin</td>\n",
       "      <td>X11</td>\n",
       "      <td>PoW/PoS</td>\n",
       "      <td>NaN</td>\n",
       "      <td>2300000000</td>\n",
       "    </tr>\n",
       "    <tr>\n",
       "      <th>2</th>\n",
       "      <td>404</td>\n",
       "      <td>404Coin</td>\n",
       "      <td>Scrypt</td>\n",
       "      <td>PoW/PoS</td>\n",
       "      <td>1.055185e+09</td>\n",
       "      <td>532000000</td>\n",
       "    </tr>\n",
       "    <tr>\n",
       "      <th>3</th>\n",
       "      <td>611</td>\n",
       "      <td>SixEleven</td>\n",
       "      <td>SHA-256</td>\n",
       "      <td>PoW</td>\n",
       "      <td>NaN</td>\n",
       "      <td>611000</td>\n",
       "    </tr>\n",
       "    <tr>\n",
       "      <th>4</th>\n",
       "      <td>808</td>\n",
       "      <td>808</td>\n",
       "      <td>SHA-256</td>\n",
       "      <td>PoW/PoS</td>\n",
       "      <td>0.000000e+00</td>\n",
       "      <td>0</td>\n",
       "    </tr>\n",
       "  </tbody>\n",
       "</table>\n",
       "</div>"
      ],
      "text/plain": [
       "  Unnamed: 0   CoinName Algorithm ProofType  TotalCoinsMined TotalCoinSupply\n",
       "0         42    42 Coin    Scrypt   PoW/PoS     4.199995e+01              42\n",
       "1        365    365Coin       X11   PoW/PoS              NaN      2300000000\n",
       "2        404    404Coin    Scrypt   PoW/PoS     1.055185e+09       532000000\n",
       "3        611  SixEleven   SHA-256       PoW              NaN          611000\n",
       "4        808        808   SHA-256   PoW/PoS     0.000000e+00               0"
      ]
     },
     "execution_count": 330,
     "metadata": {},
     "output_type": "execute_result"
    }
   ],
   "source": [
    "# Drop IsTrading column\n",
    "crypto_df.drop(columns=['IsTrading'], inplace = True)\n",
    "crypto_df.head()"
   ]
  },
  {
   "cell_type": "code",
   "execution_count": 331,
   "metadata": {},
   "outputs": [],
   "source": [
    "# Remove rows that have at least 1 null value.\n",
    "crypto_df = crypto_df.dropna()"
   ]
  },
  {
   "cell_type": "code",
   "execution_count": 332,
   "metadata": {},
   "outputs": [
    {
     "name": "stdout",
     "output_type": "stream",
     "text": [
      "Duplicate entries: 0\n"
     ]
    }
   ],
   "source": [
    "# Find duplicate entries\n",
    "print(f'Duplicate entries: {crypto_df.duplicated().sum()}')"
   ]
  },
  {
   "cell_type": "code",
   "execution_count": 333,
   "metadata": {},
   "outputs": [
    {
     "data": {
      "text/html": [
       "<div>\n",
       "<style scoped>\n",
       "    .dataframe tbody tr th:only-of-type {\n",
       "        vertical-align: middle;\n",
       "    }\n",
       "\n",
       "    .dataframe tbody tr th {\n",
       "        vertical-align: top;\n",
       "    }\n",
       "\n",
       "    .dataframe thead th {\n",
       "        text-align: right;\n",
       "    }\n",
       "</style>\n",
       "<table border=\"1\" class=\"dataframe\">\n",
       "  <thead>\n",
       "    <tr style=\"text-align: right;\">\n",
       "      <th></th>\n",
       "      <th>Unnamed: 0</th>\n",
       "      <th>CoinName</th>\n",
       "      <th>Algorithm</th>\n",
       "      <th>ProofType</th>\n",
       "      <th>TotalCoinsMined</th>\n",
       "      <th>TotalCoinSupply</th>\n",
       "    </tr>\n",
       "  </thead>\n",
       "  <tbody>\n",
       "    <tr>\n",
       "      <th>0</th>\n",
       "      <td>42</td>\n",
       "      <td>42 Coin</td>\n",
       "      <td>Scrypt</td>\n",
       "      <td>PoW/PoS</td>\n",
       "      <td>4.199995e+01</td>\n",
       "      <td>42</td>\n",
       "    </tr>\n",
       "    <tr>\n",
       "      <th>2</th>\n",
       "      <td>404</td>\n",
       "      <td>404Coin</td>\n",
       "      <td>Scrypt</td>\n",
       "      <td>PoW/PoS</td>\n",
       "      <td>1.055185e+09</td>\n",
       "      <td>532000000</td>\n",
       "    </tr>\n",
       "    <tr>\n",
       "      <th>5</th>\n",
       "      <td>1337</td>\n",
       "      <td>EliteCoin</td>\n",
       "      <td>X13</td>\n",
       "      <td>PoW/PoS</td>\n",
       "      <td>2.927942e+10</td>\n",
       "      <td>314159265359</td>\n",
       "    </tr>\n",
       "    <tr>\n",
       "      <th>7</th>\n",
       "      <td>BTC</td>\n",
       "      <td>Bitcoin</td>\n",
       "      <td>SHA-256</td>\n",
       "      <td>PoW</td>\n",
       "      <td>1.792718e+07</td>\n",
       "      <td>21000000</td>\n",
       "    </tr>\n",
       "    <tr>\n",
       "      <th>8</th>\n",
       "      <td>ETH</td>\n",
       "      <td>Ethereum</td>\n",
       "      <td>Ethash</td>\n",
       "      <td>PoW</td>\n",
       "      <td>1.076842e+08</td>\n",
       "      <td>0</td>\n",
       "    </tr>\n",
       "  </tbody>\n",
       "</table>\n",
       "</div>"
      ],
      "text/plain": [
       "  Unnamed: 0   CoinName Algorithm ProofType  TotalCoinsMined TotalCoinSupply\n",
       "0         42    42 Coin    Scrypt   PoW/PoS     4.199995e+01              42\n",
       "2        404    404Coin    Scrypt   PoW/PoS     1.055185e+09       532000000\n",
       "5       1337  EliteCoin       X13   PoW/PoS     2.927942e+10    314159265359\n",
       "7        BTC    Bitcoin   SHA-256       PoW     1.792718e+07        21000000\n",
       "8        ETH   Ethereum    Ethash       PoW     1.076842e+08               0"
      ]
     },
     "execution_count": 333,
     "metadata": {},
     "output_type": "execute_result"
    }
   ],
   "source": [
    "# Keep the rows where coins are mined.\n",
    "crypto_df = crypto_df[(crypto_df['TotalCoinsMined'] != 0)]\n",
    "crypto_df.head()"
   ]
  },
  {
   "cell_type": "code",
   "execution_count": 334,
   "metadata": {},
   "outputs": [
    {
     "data": {
      "text/html": [
       "<div>\n",
       "<style scoped>\n",
       "    .dataframe tbody tr th:only-of-type {\n",
       "        vertical-align: middle;\n",
       "    }\n",
       "\n",
       "    .dataframe tbody tr th {\n",
       "        vertical-align: top;\n",
       "    }\n",
       "\n",
       "    .dataframe thead th {\n",
       "        text-align: right;\n",
       "    }\n",
       "</style>\n",
       "<table border=\"1\" class=\"dataframe\">\n",
       "  <thead>\n",
       "    <tr style=\"text-align: right;\">\n",
       "      <th></th>\n",
       "      <th>CoinName</th>\n",
       "    </tr>\n",
       "  </thead>\n",
       "  <tbody>\n",
       "    <tr>\n",
       "      <th>0</th>\n",
       "      <td>42 Coin</td>\n",
       "    </tr>\n",
       "    <tr>\n",
       "      <th>2</th>\n",
       "      <td>404Coin</td>\n",
       "    </tr>\n",
       "    <tr>\n",
       "      <th>5</th>\n",
       "      <td>EliteCoin</td>\n",
       "    </tr>\n",
       "    <tr>\n",
       "      <th>7</th>\n",
       "      <td>Bitcoin</td>\n",
       "    </tr>\n",
       "    <tr>\n",
       "      <th>8</th>\n",
       "      <td>Ethereum</td>\n",
       "    </tr>\n",
       "  </tbody>\n",
       "</table>\n",
       "</div>"
      ],
      "text/plain": [
       "    CoinName\n",
       "0    42 Coin\n",
       "2    404Coin\n",
       "5  EliteCoin\n",
       "7    Bitcoin\n",
       "8   Ethereum"
      ]
     },
     "execution_count": 334,
     "metadata": {},
     "output_type": "execute_result"
    }
   ],
   "source": [
    "# Create a new DataFrame that holds only the cryptocurrencies names.\n",
    "crypto_names = pd.DataFrame(crypto_df['CoinName'])\n",
    "crypto_names.head()"
   ]
  },
  {
   "cell_type": "code",
   "execution_count": 335,
   "metadata": {},
   "outputs": [
    {
     "data": {
      "text/html": [
       "<div>\n",
       "<style scoped>\n",
       "    .dataframe tbody tr th:only-of-type {\n",
       "        vertical-align: middle;\n",
       "    }\n",
       "\n",
       "    .dataframe tbody tr th {\n",
       "        vertical-align: top;\n",
       "    }\n",
       "\n",
       "    .dataframe thead th {\n",
       "        text-align: right;\n",
       "    }\n",
       "</style>\n",
       "<table border=\"1\" class=\"dataframe\">\n",
       "  <thead>\n",
       "    <tr style=\"text-align: right;\">\n",
       "      <th></th>\n",
       "      <th>Unnamed: 0</th>\n",
       "      <th>Algorithm</th>\n",
       "      <th>ProofType</th>\n",
       "      <th>TotalCoinsMined</th>\n",
       "      <th>TotalCoinSupply</th>\n",
       "    </tr>\n",
       "  </thead>\n",
       "  <tbody>\n",
       "    <tr>\n",
       "      <th>0</th>\n",
       "      <td>42</td>\n",
       "      <td>Scrypt</td>\n",
       "      <td>PoW/PoS</td>\n",
       "      <td>4.199995e+01</td>\n",
       "      <td>42</td>\n",
       "    </tr>\n",
       "    <tr>\n",
       "      <th>2</th>\n",
       "      <td>404</td>\n",
       "      <td>Scrypt</td>\n",
       "      <td>PoW/PoS</td>\n",
       "      <td>1.055185e+09</td>\n",
       "      <td>532000000</td>\n",
       "    </tr>\n",
       "    <tr>\n",
       "      <th>5</th>\n",
       "      <td>1337</td>\n",
       "      <td>X13</td>\n",
       "      <td>PoW/PoS</td>\n",
       "      <td>2.927942e+10</td>\n",
       "      <td>314159265359</td>\n",
       "    </tr>\n",
       "    <tr>\n",
       "      <th>7</th>\n",
       "      <td>BTC</td>\n",
       "      <td>SHA-256</td>\n",
       "      <td>PoW</td>\n",
       "      <td>1.792718e+07</td>\n",
       "      <td>21000000</td>\n",
       "    </tr>\n",
       "    <tr>\n",
       "      <th>8</th>\n",
       "      <td>ETH</td>\n",
       "      <td>Ethash</td>\n",
       "      <td>PoW</td>\n",
       "      <td>1.076842e+08</td>\n",
       "      <td>0</td>\n",
       "    </tr>\n",
       "  </tbody>\n",
       "</table>\n",
       "</div>"
      ],
      "text/plain": [
       "  Unnamed: 0 Algorithm ProofType  TotalCoinsMined TotalCoinSupply\n",
       "0         42    Scrypt   PoW/PoS     4.199995e+01              42\n",
       "2        404    Scrypt   PoW/PoS     1.055185e+09       532000000\n",
       "5       1337       X13   PoW/PoS     2.927942e+10    314159265359\n",
       "7        BTC   SHA-256       PoW     1.792718e+07        21000000\n",
       "8        ETH    Ethash       PoW     1.076842e+08               0"
      ]
     },
     "execution_count": 335,
     "metadata": {},
     "output_type": "execute_result"
    }
   ],
   "source": [
    "# Drop the 'CoinName' column since it's not going to be used on the clustering algorithm.\n",
    "crypto_df.drop(columns=['CoinName'], inplace = True)\n",
    "crypto_df.head()"
   ]
  },
  {
   "cell_type": "code",
   "execution_count": 336,
   "metadata": {},
   "outputs": [
    {
     "data": {
      "text/html": [
       "<div>\n",
       "<style scoped>\n",
       "    .dataframe tbody tr th:only-of-type {\n",
       "        vertical-align: middle;\n",
       "    }\n",
       "\n",
       "    .dataframe tbody tr th {\n",
       "        vertical-align: top;\n",
       "    }\n",
       "\n",
       "    .dataframe thead th {\n",
       "        text-align: right;\n",
       "    }\n",
       "</style>\n",
       "<table border=\"1\" class=\"dataframe\">\n",
       "  <thead>\n",
       "    <tr style=\"text-align: right;\">\n",
       "      <th></th>\n",
       "      <th></th>\n",
       "      <th>Algorithm</th>\n",
       "      <th>ProofType</th>\n",
       "      <th>TotalCoinsMined</th>\n",
       "      <th>TotalCoinSupply</th>\n",
       "    </tr>\n",
       "  </thead>\n",
       "  <tbody>\n",
       "    <tr>\n",
       "      <th>0</th>\n",
       "      <td>42</td>\n",
       "      <td>Scrypt</td>\n",
       "      <td>PoW/PoS</td>\n",
       "      <td>4.199995e+01</td>\n",
       "      <td>42</td>\n",
       "    </tr>\n",
       "    <tr>\n",
       "      <th>2</th>\n",
       "      <td>404</td>\n",
       "      <td>Scrypt</td>\n",
       "      <td>PoW/PoS</td>\n",
       "      <td>1.055185e+09</td>\n",
       "      <td>532000000</td>\n",
       "    </tr>\n",
       "    <tr>\n",
       "      <th>5</th>\n",
       "      <td>1337</td>\n",
       "      <td>X13</td>\n",
       "      <td>PoW/PoS</td>\n",
       "      <td>2.927942e+10</td>\n",
       "      <td>314159265359</td>\n",
       "    </tr>\n",
       "    <tr>\n",
       "      <th>7</th>\n",
       "      <td>BTC</td>\n",
       "      <td>SHA-256</td>\n",
       "      <td>PoW</td>\n",
       "      <td>1.792718e+07</td>\n",
       "      <td>21000000</td>\n",
       "    </tr>\n",
       "    <tr>\n",
       "      <th>8</th>\n",
       "      <td>ETH</td>\n",
       "      <td>Ethash</td>\n",
       "      <td>PoW</td>\n",
       "      <td>1.076842e+08</td>\n",
       "      <td>0</td>\n",
       "    </tr>\n",
       "  </tbody>\n",
       "</table>\n",
       "</div>"
      ],
      "text/plain": [
       "        Algorithm ProofType  TotalCoinsMined TotalCoinSupply\n",
       "0    42    Scrypt   PoW/PoS     4.199995e+01              42\n",
       "2   404    Scrypt   PoW/PoS     1.055185e+09       532000000\n",
       "5  1337       X13   PoW/PoS     2.927942e+10    314159265359\n",
       "7   BTC   SHA-256       PoW     1.792718e+07        21000000\n",
       "8   ETH    Ethash       PoW     1.076842e+08               0"
      ]
     },
     "execution_count": 336,
     "metadata": {},
     "output_type": "execute_result"
    }
   ],
   "source": [
    "crypto_df.columns = [' ','Algorithm', 'ProofType','TotalCoinsMined', 'TotalCoinSupply']\n",
    "crypto_df.head()"
   ]
  },
  {
   "cell_type": "code",
   "execution_count": 337,
   "metadata": {},
   "outputs": [
    {
     "data": {
      "text/html": [
       "<div>\n",
       "<style scoped>\n",
       "    .dataframe tbody tr th:only-of-type {\n",
       "        vertical-align: middle;\n",
       "    }\n",
       "\n",
       "    .dataframe tbody tr th {\n",
       "        vertical-align: top;\n",
       "    }\n",
       "\n",
       "    .dataframe thead th {\n",
       "        text-align: right;\n",
       "    }\n",
       "</style>\n",
       "<table border=\"1\" class=\"dataframe\">\n",
       "  <thead>\n",
       "    <tr style=\"text-align: right;\">\n",
       "      <th></th>\n",
       "      <th>Algorithm</th>\n",
       "      <th>ProofType</th>\n",
       "      <th>TotalCoinsMined</th>\n",
       "      <th>TotalCoinSupply</th>\n",
       "    </tr>\n",
       "    <tr>\n",
       "      <th></th>\n",
       "      <th></th>\n",
       "      <th></th>\n",
       "      <th></th>\n",
       "      <th></th>\n",
       "    </tr>\n",
       "  </thead>\n",
       "  <tbody>\n",
       "    <tr>\n",
       "      <th>42</th>\n",
       "      <td>Scrypt</td>\n",
       "      <td>PoW/PoS</td>\n",
       "      <td>4.199995e+01</td>\n",
       "      <td>42</td>\n",
       "    </tr>\n",
       "    <tr>\n",
       "      <th>404</th>\n",
       "      <td>Scrypt</td>\n",
       "      <td>PoW/PoS</td>\n",
       "      <td>1.055185e+09</td>\n",
       "      <td>532000000</td>\n",
       "    </tr>\n",
       "    <tr>\n",
       "      <th>1337</th>\n",
       "      <td>X13</td>\n",
       "      <td>PoW/PoS</td>\n",
       "      <td>2.927942e+10</td>\n",
       "      <td>314159265359</td>\n",
       "    </tr>\n",
       "    <tr>\n",
       "      <th>BTC</th>\n",
       "      <td>SHA-256</td>\n",
       "      <td>PoW</td>\n",
       "      <td>1.792718e+07</td>\n",
       "      <td>21000000</td>\n",
       "    </tr>\n",
       "    <tr>\n",
       "      <th>ETH</th>\n",
       "      <td>Ethash</td>\n",
       "      <td>PoW</td>\n",
       "      <td>1.076842e+08</td>\n",
       "      <td>0</td>\n",
       "    </tr>\n",
       "  </tbody>\n",
       "</table>\n",
       "</div>"
      ],
      "text/plain": [
       "     Algorithm ProofType  TotalCoinsMined TotalCoinSupply\n",
       "                                                         \n",
       "42      Scrypt   PoW/PoS     4.199995e+01              42\n",
       "404     Scrypt   PoW/PoS     1.055185e+09       532000000\n",
       "1337       X13   PoW/PoS     2.927942e+10    314159265359\n",
       "BTC    SHA-256       PoW     1.792718e+07        21000000\n",
       "ETH     Ethash       PoW     1.076842e+08               0"
      ]
     },
     "execution_count": 337,
     "metadata": {},
     "output_type": "execute_result"
    }
   ],
   "source": [
    "# Set index.\n",
    "crypto_df.set_index(' ', inplace=True)\n",
    "crypto_df.head()"
   ]
  },
  {
   "cell_type": "code",
   "execution_count": 338,
   "metadata": {},
   "outputs": [
    {
     "data": {
      "text/html": [
       "<div>\n",
       "<style scoped>\n",
       "    .dataframe tbody tr th:only-of-type {\n",
       "        vertical-align: middle;\n",
       "    }\n",
       "\n",
       "    .dataframe tbody tr th {\n",
       "        vertical-align: top;\n",
       "    }\n",
       "\n",
       "    .dataframe thead th {\n",
       "        text-align: right;\n",
       "    }\n",
       "</style>\n",
       "<table border=\"1\" class=\"dataframe\">\n",
       "  <thead>\n",
       "    <tr style=\"text-align: right;\">\n",
       "      <th></th>\n",
       "      <th>TotalCoinsMined</th>\n",
       "      <th>TotalCoinSupply</th>\n",
       "      <th>Algorithm_1GB AES Pattern Search</th>\n",
       "      <th>Algorithm_536</th>\n",
       "      <th>Algorithm_Argon2d</th>\n",
       "      <th>Algorithm_BLAKE256</th>\n",
       "      <th>Algorithm_Blake</th>\n",
       "      <th>Algorithm_Blake2S</th>\n",
       "      <th>Algorithm_Blake2b</th>\n",
       "      <th>Algorithm_C11</th>\n",
       "      <th>...</th>\n",
       "      <th>ProofType_PoW/PoS</th>\n",
       "      <th>ProofType_PoW/PoS</th>\n",
       "      <th>ProofType_PoW/PoW</th>\n",
       "      <th>ProofType_PoW/nPoS</th>\n",
       "      <th>ProofType_Pos</th>\n",
       "      <th>ProofType_Proof of Authority</th>\n",
       "      <th>ProofType_Proof of Trust</th>\n",
       "      <th>ProofType_TPoS</th>\n",
       "      <th>ProofType_Zero-Knowledge Proof</th>\n",
       "      <th>ProofType_dPoW/PoW</th>\n",
       "    </tr>\n",
       "    <tr>\n",
       "      <th></th>\n",
       "      <th></th>\n",
       "      <th></th>\n",
       "      <th></th>\n",
       "      <th></th>\n",
       "      <th></th>\n",
       "      <th></th>\n",
       "      <th></th>\n",
       "      <th></th>\n",
       "      <th></th>\n",
       "      <th></th>\n",
       "      <th></th>\n",
       "      <th></th>\n",
       "      <th></th>\n",
       "      <th></th>\n",
       "      <th></th>\n",
       "      <th></th>\n",
       "      <th></th>\n",
       "      <th></th>\n",
       "      <th></th>\n",
       "      <th></th>\n",
       "      <th></th>\n",
       "    </tr>\n",
       "  </thead>\n",
       "  <tbody>\n",
       "    <tr>\n",
       "      <th>42</th>\n",
       "      <td>4.199995e+01</td>\n",
       "      <td>42</td>\n",
       "      <td>0</td>\n",
       "      <td>0</td>\n",
       "      <td>0</td>\n",
       "      <td>0</td>\n",
       "      <td>0</td>\n",
       "      <td>0</td>\n",
       "      <td>0</td>\n",
       "      <td>0</td>\n",
       "      <td>...</td>\n",
       "      <td>1</td>\n",
       "      <td>0</td>\n",
       "      <td>0</td>\n",
       "      <td>0</td>\n",
       "      <td>0</td>\n",
       "      <td>0</td>\n",
       "      <td>0</td>\n",
       "      <td>0</td>\n",
       "      <td>0</td>\n",
       "      <td>0</td>\n",
       "    </tr>\n",
       "    <tr>\n",
       "      <th>404</th>\n",
       "      <td>1.055185e+09</td>\n",
       "      <td>532000000</td>\n",
       "      <td>0</td>\n",
       "      <td>0</td>\n",
       "      <td>0</td>\n",
       "      <td>0</td>\n",
       "      <td>0</td>\n",
       "      <td>0</td>\n",
       "      <td>0</td>\n",
       "      <td>0</td>\n",
       "      <td>...</td>\n",
       "      <td>1</td>\n",
       "      <td>0</td>\n",
       "      <td>0</td>\n",
       "      <td>0</td>\n",
       "      <td>0</td>\n",
       "      <td>0</td>\n",
       "      <td>0</td>\n",
       "      <td>0</td>\n",
       "      <td>0</td>\n",
       "      <td>0</td>\n",
       "    </tr>\n",
       "    <tr>\n",
       "      <th>1337</th>\n",
       "      <td>2.927942e+10</td>\n",
       "      <td>314159265359</td>\n",
       "      <td>0</td>\n",
       "      <td>0</td>\n",
       "      <td>0</td>\n",
       "      <td>0</td>\n",
       "      <td>0</td>\n",
       "      <td>0</td>\n",
       "      <td>0</td>\n",
       "      <td>0</td>\n",
       "      <td>...</td>\n",
       "      <td>1</td>\n",
       "      <td>0</td>\n",
       "      <td>0</td>\n",
       "      <td>0</td>\n",
       "      <td>0</td>\n",
       "      <td>0</td>\n",
       "      <td>0</td>\n",
       "      <td>0</td>\n",
       "      <td>0</td>\n",
       "      <td>0</td>\n",
       "    </tr>\n",
       "    <tr>\n",
       "      <th>BTC</th>\n",
       "      <td>1.792718e+07</td>\n",
       "      <td>21000000</td>\n",
       "      <td>0</td>\n",
       "      <td>0</td>\n",
       "      <td>0</td>\n",
       "      <td>0</td>\n",
       "      <td>0</td>\n",
       "      <td>0</td>\n",
       "      <td>0</td>\n",
       "      <td>0</td>\n",
       "      <td>...</td>\n",
       "      <td>0</td>\n",
       "      <td>0</td>\n",
       "      <td>0</td>\n",
       "      <td>0</td>\n",
       "      <td>0</td>\n",
       "      <td>0</td>\n",
       "      <td>0</td>\n",
       "      <td>0</td>\n",
       "      <td>0</td>\n",
       "      <td>0</td>\n",
       "    </tr>\n",
       "    <tr>\n",
       "      <th>ETH</th>\n",
       "      <td>1.076842e+08</td>\n",
       "      <td>0</td>\n",
       "      <td>0</td>\n",
       "      <td>0</td>\n",
       "      <td>0</td>\n",
       "      <td>0</td>\n",
       "      <td>0</td>\n",
       "      <td>0</td>\n",
       "      <td>0</td>\n",
       "      <td>0</td>\n",
       "      <td>...</td>\n",
       "      <td>0</td>\n",
       "      <td>0</td>\n",
       "      <td>0</td>\n",
       "      <td>0</td>\n",
       "      <td>0</td>\n",
       "      <td>0</td>\n",
       "      <td>0</td>\n",
       "      <td>0</td>\n",
       "      <td>0</td>\n",
       "      <td>0</td>\n",
       "    </tr>\n",
       "  </tbody>\n",
       "</table>\n",
       "<p>5 rows × 103 columns</p>\n",
       "</div>"
      ],
      "text/plain": [
       "      TotalCoinsMined TotalCoinSupply  Algorithm_1GB AES Pattern Search  \\\n",
       "                                                                          \n",
       "42       4.199995e+01              42                                 0   \n",
       "404      1.055185e+09       532000000                                 0   \n",
       "1337     2.927942e+10    314159265359                                 0   \n",
       "BTC      1.792718e+07        21000000                                 0   \n",
       "ETH      1.076842e+08               0                                 0   \n",
       "\n",
       "      Algorithm_536  Algorithm_Argon2d  Algorithm_BLAKE256  Algorithm_Blake  \\\n",
       "                                                                              \n",
       "42                0                  0                   0                0   \n",
       "404               0                  0                   0                0   \n",
       "1337              0                  0                   0                0   \n",
       "BTC               0                  0                   0                0   \n",
       "ETH               0                  0                   0                0   \n",
       "\n",
       "      Algorithm_Blake2S  Algorithm_Blake2b  Algorithm_C11  ...  \\\n",
       "                                                           ...   \n",
       "42                    0                  0              0  ...   \n",
       "404                   0                  0              0  ...   \n",
       "1337                  0                  0              0  ...   \n",
       "BTC                   0                  0              0  ...   \n",
       "ETH                   0                  0              0  ...   \n",
       "\n",
       "      ProofType_PoW/PoS  ProofType_PoW/PoS   ProofType_PoW/PoW  \\\n",
       "                                                                 \n",
       "42                    1                   0                  0   \n",
       "404                   1                   0                  0   \n",
       "1337                  1                   0                  0   \n",
       "BTC                   0                   0                  0   \n",
       "ETH                   0                   0                  0   \n",
       "\n",
       "      ProofType_PoW/nPoS  ProofType_Pos  ProofType_Proof of Authority  \\\n",
       "                                                                        \n",
       "42                     0              0                             0   \n",
       "404                    0              0                             0   \n",
       "1337                   0              0                             0   \n",
       "BTC                    0              0                             0   \n",
       "ETH                    0              0                             0   \n",
       "\n",
       "      ProofType_Proof of Trust  ProofType_TPoS  \\\n",
       "                                                 \n",
       "42                           0               0   \n",
       "404                          0               0   \n",
       "1337                         0               0   \n",
       "BTC                          0               0   \n",
       "ETH                          0               0   \n",
       "\n",
       "      ProofType_Zero-Knowledge Proof  ProofType_dPoW/PoW  \n",
       "                                                          \n",
       "42                                 0                   0  \n",
       "404                                0                   0  \n",
       "1337                               0                   0  \n",
       "BTC                                0                   0  \n",
       "ETH                                0                   0  \n",
       "\n",
       "[5 rows x 103 columns]"
      ]
     },
     "execution_count": 338,
     "metadata": {},
     "output_type": "execute_result"
    }
   ],
   "source": [
    "# Use get_dummies() to create variables for text features.\n",
    "X = pd.get_dummies(crypto_df, columns = ['Algorithm', 'ProofType'])\n",
    "X.head()"
   ]
  },
  {
   "cell_type": "code",
   "execution_count": 339,
   "metadata": {},
   "outputs": [
    {
     "name": "stdout",
     "output_type": "stream",
     "text": [
      "[[-0.11416167 -0.15072664 -0.04163054 ... -0.04163054 -0.04163054\n",
      "  -0.04163054]\n",
      " [-0.09006124 -0.142553   -0.04163054 ... -0.04163054 -0.04163054\n",
      "  -0.04163054]\n",
      " [ 0.55458069  4.67601177 -0.04163054 ... -0.04163054 -0.04163054\n",
      "  -0.04163054]\n",
      " ...\n",
      " [-0.11399502 -0.150404   -0.04163054 ... -0.04163054 -0.04163054\n",
      "  -0.04163054]\n",
      " [-0.11415874 -0.15071128 -0.04163054 ... -0.04163054 -0.04163054\n",
      "  -0.04163054]\n",
      " [-0.11367081 -0.14919024 -0.04163054 ... -0.04163054 -0.04163054\n",
      "  -0.04163054]]\n"
     ]
    }
   ],
   "source": [
    "# Standardize the data with StandardScaler().\n",
    "X_scaled = StandardScaler().fit_transform(X)\n",
    "print(X_scaled)"
   ]
  },
  {
   "cell_type": "markdown",
   "metadata": {},
   "source": [
    "### Deliverable 2: Reducing Data Dimensions Using PCA"
   ]
  },
  {
   "cell_type": "code",
   "execution_count": 340,
   "metadata": {},
   "outputs": [
    {
     "data": {
      "text/plain": [
       "PCA(n_components=3)"
      ]
     },
     "execution_count": 340,
     "metadata": {},
     "output_type": "execute_result"
    }
   ],
   "source": [
    "# Using PCA to reduce dimension to three principal components.\n",
    "pca = PCA(n_components=3)\n",
    "pca"
   ]
  },
  {
   "cell_type": "code",
   "execution_count": 341,
   "metadata": {},
   "outputs": [
    {
     "data": {
      "text/plain": [
       "array([[-0.33358703,  1.09097908, -0.50820508],\n",
       "       [-0.3162334 ,  1.09123671, -0.50848073],\n",
       "       [ 2.41399001,  1.73192407, -0.5341711 ],\n",
       "       ...,\n",
       "       [-0.17573864, -2.06010971,  0.45467715],\n",
       "       [-0.27790382,  0.77164253, -0.22084289],\n",
       "       [-0.33257631,  1.09094528, -0.50821753]])"
      ]
     },
     "execution_count": 341,
     "metadata": {},
     "output_type": "execute_result"
    }
   ],
   "source": [
    "crypto_pca = pca.fit_transform(X_scaled)\n",
    "crypto_pca"
   ]
  },
  {
   "cell_type": "code",
   "execution_count": 342,
   "metadata": {},
   "outputs": [
    {
     "data": {
      "text/html": [
       "<div>\n",
       "<style scoped>\n",
       "    .dataframe tbody tr th:only-of-type {\n",
       "        vertical-align: middle;\n",
       "    }\n",
       "\n",
       "    .dataframe tbody tr th {\n",
       "        vertical-align: top;\n",
       "    }\n",
       "\n",
       "    .dataframe thead th {\n",
       "        text-align: right;\n",
       "    }\n",
       "</style>\n",
       "<table border=\"1\" class=\"dataframe\">\n",
       "  <thead>\n",
       "    <tr style=\"text-align: right;\">\n",
       "      <th></th>\n",
       "      <th>PC1</th>\n",
       "      <th>PC2</th>\n",
       "      <th>PC3</th>\n",
       "    </tr>\n",
       "    <tr>\n",
       "      <th></th>\n",
       "      <th></th>\n",
       "      <th></th>\n",
       "      <th></th>\n",
       "    </tr>\n",
       "  </thead>\n",
       "  <tbody>\n",
       "    <tr>\n",
       "      <th>42</th>\n",
       "      <td>-0.333587</td>\n",
       "      <td>1.090979</td>\n",
       "      <td>-0.508205</td>\n",
       "    </tr>\n",
       "    <tr>\n",
       "      <th>404</th>\n",
       "      <td>-0.316233</td>\n",
       "      <td>1.091237</td>\n",
       "      <td>-0.508481</td>\n",
       "    </tr>\n",
       "    <tr>\n",
       "      <th>1337</th>\n",
       "      <td>2.413990</td>\n",
       "      <td>1.731924</td>\n",
       "      <td>-0.534171</td>\n",
       "    </tr>\n",
       "    <tr>\n",
       "      <th>BTC</th>\n",
       "      <td>-0.136752</td>\n",
       "      <td>-1.345903</td>\n",
       "      <td>0.130609</td>\n",
       "    </tr>\n",
       "    <tr>\n",
       "      <th>ETH</th>\n",
       "      <td>-0.130298</td>\n",
       "      <td>-2.082642</td>\n",
       "      <td>0.313350</td>\n",
       "    </tr>\n",
       "  </tbody>\n",
       "</table>\n",
       "</div>"
      ],
      "text/plain": [
       "           PC1       PC2       PC3\n",
       "                                  \n",
       "42   -0.333587  1.090979 -0.508205\n",
       "404  -0.316233  1.091237 -0.508481\n",
       "1337  2.413990  1.731924 -0.534171\n",
       "BTC  -0.136752 -1.345903  0.130609\n",
       "ETH  -0.130298 -2.082642  0.313350"
      ]
     },
     "execution_count": 342,
     "metadata": {},
     "output_type": "execute_result"
    }
   ],
   "source": [
    "# Create a DataFrame with the three principal components.\n",
    "crypto_pca_df = pd.DataFrame(\n",
    "    data=crypto_pca, columns=['PC1', 'PC2', 'PC3'], index = crypto_df.index)\n",
    "\n",
    "crypto_pca_df.head()"
   ]
  },
  {
   "cell_type": "code",
   "execution_count": 343,
   "metadata": {},
   "outputs": [
    {
     "data": {
      "text/plain": [
       "array([0.02655348, 0.02025564, 0.01948891])"
      ]
     },
     "execution_count": 343,
     "metadata": {},
     "output_type": "execute_result"
    }
   ],
   "source": [
    "# Fetch the explained variance for each component\n",
    "pca.explained_variance_ratio_"
   ]
  },
  {
   "cell_type": "markdown",
   "metadata": {},
   "source": [
    "### Deliverable 3: Clustering Crytocurrencies Using K-Means\n",
    "\n",
    "#### Finding the Best Value for `k` Using the Elbow Curve"
   ]
  },
  {
   "cell_type": "code",
   "execution_count": 344,
   "metadata": {},
   "outputs": [
    {
     "name": "stderr",
     "output_type": "stream",
     "text": [
      "C:\\Users\\micha\\Anaconda3531\\envs\\PythonData\\envs\\mlenv\\lib\\site-packages\\sklearn\\cluster\\_kmeans.py:1037: UserWarning:\n",
      "\n",
      "KMeans is known to have a memory leak on Windows with MKL, when there are less chunks than available threads. You can avoid it by setting the environment variable OMP_NUM_THREADS=3.\n",
      "\n"
     ]
    },
    {
     "data": {},
     "metadata": {},
     "output_type": "display_data"
    },
    {
     "data": {
      "application/vnd.holoviews_exec.v0+json": "",
      "text/html": [
       "<div id='2522'>\n",
       "\n",
       "\n",
       "\n",
       "\n",
       "\n",
       "  <div class=\"bk-root\" id=\"cdf40074-2f5f-4436-a508-05b060b41ac9\" data-root-id=\"2522\"></div>\n",
       "</div>\n",
       "<script type=\"application/javascript\">(function(root) {\n",
       "  function embed_document(root) {\n",
       "    var docs_json = {\"3ab57ffd-cbda-4b53-919b-fbf38b4e336b\":{\"defs\":[{\"extends\":null,\"module\":null,\"name\":\"ReactiveHTML1\",\"overrides\":[],\"properties\":[]},{\"extends\":null,\"module\":null,\"name\":\"FlexBox1\",\"overrides\":[],\"properties\":[{\"default\":\"flex-start\",\"kind\":null,\"name\":\"align_content\"},{\"default\":\"flex-start\",\"kind\":null,\"name\":\"align_items\"},{\"default\":\"row\",\"kind\":null,\"name\":\"flex_direction\"},{\"default\":\"wrap\",\"kind\":null,\"name\":\"flex_wrap\"},{\"default\":\"flex-start\",\"kind\":null,\"name\":\"justify_content\"}]},{\"extends\":null,\"module\":null,\"name\":\"GridStack1\",\"overrides\":[],\"properties\":[{\"default\":\"warn\",\"kind\":null,\"name\":\"mode\"},{\"default\":null,\"kind\":null,\"name\":\"ncols\"},{\"default\":null,\"kind\":null,\"name\":\"nrows\"},{\"default\":true,\"kind\":null,\"name\":\"allow_resize\"},{\"default\":true,\"kind\":null,\"name\":\"allow_drag\"},{\"default\":[],\"kind\":null,\"name\":\"state\"}]},{\"extends\":null,\"module\":null,\"name\":\"click1\",\"overrides\":[],\"properties\":[{\"default\":\"\",\"kind\":null,\"name\":\"terminal_output\"},{\"default\":\"\",\"kind\":null,\"name\":\"debug_name\"},{\"default\":0,\"kind\":null,\"name\":\"clears\"}]},{\"extends\":null,\"module\":null,\"name\":\"TemplateActions1\",\"overrides\":[],\"properties\":[{\"default\":0,\"kind\":null,\"name\":\"open_modal\"},{\"default\":0,\"kind\":null,\"name\":\"close_modal\"}]},{\"extends\":null,\"module\":null,\"name\":\"MaterialTemplateActions1\",\"overrides\":[],\"properties\":[{\"default\":0,\"kind\":null,\"name\":\"open_modal\"},{\"default\":0,\"kind\":null,\"name\":\"close_modal\"}]}],\"roots\":{\"references\":[{\"attributes\":{\"margin\":[5,5,5,5],\"name\":\"HSpacer04505\",\"sizing_mode\":\"stretch_width\"},\"id\":\"2523\",\"type\":\"Spacer\"},{\"attributes\":{},\"id\":\"2541\",\"type\":\"BasicTicker\"},{\"attributes\":{\"end\":10.0,\"reset_end\":10.0,\"reset_start\":1.0,\"start\":1.0,\"tags\":[[[\"k\",\"k\",null]]]},\"id\":\"2524\",\"type\":\"Range1d\"},{\"attributes\":{\"axis\":{\"id\":\"2540\"},\"coordinates\":null,\"dimension\":1,\"grid_line_color\":null,\"group\":null,\"ticker\":null},\"id\":\"2543\",\"type\":\"Grid\"},{\"attributes\":{},\"id\":\"2568\",\"type\":\"BasicTickFormatter\"},{\"attributes\":{},\"id\":\"2574\",\"type\":\"AllLabels\"},{\"attributes\":{\"line_color\":\"#30a2da\",\"line_width\":2,\"x\":{\"field\":\"k\"},\"y\":{\"field\":\"inertia\"}},\"id\":\"2565\",\"type\":\"Line\"},{\"attributes\":{\"source\":{\"id\":\"2557\"}},\"id\":\"2564\",\"type\":\"CDSView\"},{\"attributes\":{\"children\":[{\"id\":\"2523\"},{\"id\":\"2527\"},{\"id\":\"2593\"}],\"margin\":[0,0,0,0],\"name\":\"Row04501\",\"tags\":[\"embedded\"]},\"id\":\"2522\",\"type\":\"Row\"},{\"attributes\":{\"tools\":[{\"id\":\"2526\"},{\"id\":\"2544\"},{\"id\":\"2545\"},{\"id\":\"2546\"},{\"id\":\"2547\"},{\"id\":\"2548\"}]},\"id\":\"2550\",\"type\":\"Toolbar\"},{\"attributes\":{\"bottom_units\":\"screen\",\"coordinates\":null,\"fill_alpha\":0.5,\"fill_color\":\"lightgrey\",\"group\":null,\"left_units\":\"screen\",\"level\":\"overlay\",\"line_alpha\":1.0,\"line_color\":\"black\",\"line_dash\":[4,4],\"line_width\":2,\"right_units\":\"screen\",\"syncable\":false,\"top_units\":\"screen\"},\"id\":\"2549\",\"type\":\"BoxAnnotation\"},{\"attributes\":{\"end\":4327.721993320781,\"reset_end\":4327.721993320781,\"reset_start\":-241.0996798356902,\"start\":-241.0996798356902,\"tags\":[[[\"inertia\",\"inertia\",null]]]},\"id\":\"2525\",\"type\":\"Range1d\"},{\"attributes\":{},\"id\":\"2544\",\"type\":\"SaveTool\"},{\"attributes\":{\"callback\":null,\"renderers\":[{\"id\":\"2563\"}],\"tags\":[\"hv_created\"],\"tooltips\":[[\"k\",\"@{k}\"],[\"inertia\",\"@{inertia}\"]]},\"id\":\"2526\",\"type\":\"HoverTool\"},{\"attributes\":{},\"id\":\"2545\",\"type\":\"PanTool\"},{\"attributes\":{\"line_alpha\":0.2,\"line_color\":\"#30a2da\",\"line_width\":2,\"x\":{\"field\":\"k\"},\"y\":{\"field\":\"inertia\"}},\"id\":\"2562\",\"type\":\"Line\"},{\"attributes\":{},\"id\":\"2548\",\"type\":\"ResetTool\"},{\"attributes\":{\"coordinates\":null,\"data_source\":{\"id\":\"2557\"},\"glyph\":{\"id\":\"2560\"},\"group\":null,\"hover_glyph\":null,\"muted_glyph\":{\"id\":\"2562\"},\"nonselection_glyph\":{\"id\":\"2561\"},\"selection_glyph\":{\"id\":\"2565\"},\"view\":{\"id\":\"2564\"}},\"id\":\"2563\",\"type\":\"GlyphRenderer\"},{\"attributes\":{},\"id\":\"2546\",\"type\":\"WheelZoomTool\"},{\"attributes\":{},\"id\":\"2581\",\"type\":\"UnionRenderers\"},{\"attributes\":{\"margin\":[5,5,5,5],\"name\":\"HSpacer04506\",\"sizing_mode\":\"stretch_width\"},\"id\":\"2593\",\"type\":\"Spacer\"},{\"attributes\":{\"overlay\":{\"id\":\"2549\"}},\"id\":\"2547\",\"type\":\"BoxZoomTool\"},{\"attributes\":{\"line_alpha\":0.1,\"line_color\":\"#30a2da\",\"line_width\":2,\"x\":{\"field\":\"k\"},\"y\":{\"field\":\"inertia\"}},\"id\":\"2561\",\"type\":\"Line\"},{\"attributes\":{},\"id\":\"2558\",\"type\":\"Selection\"},{\"attributes\":{},\"id\":\"2532\",\"type\":\"LinearScale\"},{\"attributes\":{},\"id\":\"2569\",\"type\":\"AllLabels\"},{\"attributes\":{\"coordinates\":null,\"group\":null,\"text\":\"Elbow Curve\",\"text_color\":\"black\",\"text_font_size\":\"12pt\"},\"id\":\"2528\",\"type\":\"Title\"},{\"attributes\":{\"axis\":{\"id\":\"2536\"},\"coordinates\":null,\"grid_line_color\":null,\"group\":null,\"ticker\":null},\"id\":\"2539\",\"type\":\"Grid\"},{\"attributes\":{\"below\":[{\"id\":\"2536\"}],\"center\":[{\"id\":\"2539\"},{\"id\":\"2543\"}],\"height\":300,\"left\":[{\"id\":\"2540\"}],\"margin\":[5,5,5,5],\"min_border_bottom\":10,\"min_border_left\":10,\"min_border_right\":10,\"min_border_top\":10,\"renderers\":[{\"id\":\"2563\"}],\"sizing_mode\":\"fixed\",\"title\":{\"id\":\"2528\"},\"toolbar\":{\"id\":\"2550\"},\"width\":700,\"x_range\":{\"id\":\"2524\"},\"x_scale\":{\"id\":\"2532\"},\"y_range\":{\"id\":\"2525\"},\"y_scale\":{\"id\":\"2534\"}},\"id\":\"2527\",\"subtype\":\"Figure\",\"type\":\"Plot\"},{\"attributes\":{},\"id\":\"2534\",\"type\":\"LinearScale\"},{\"attributes\":{\"ticks\":[1,2,3,4,5,6,7,8,9,10]},\"id\":\"2566\",\"type\":\"FixedTicker\"},{\"attributes\":{\"axis_label\":\"inertia\",\"coordinates\":null,\"formatter\":{\"id\":\"2573\"},\"group\":null,\"major_label_policy\":{\"id\":\"2574\"},\"ticker\":{\"id\":\"2541\"}},\"id\":\"2540\",\"type\":\"LinearAxis\"},{\"attributes\":{\"data\":{\"inertia\":{\"__ndarray__\":\"MsjpRPnVrkBk2BjxIPSkQJbT5RXxTZlA+0Kr3zdvg0AuMTQJU6J6QFab9Lw1KHRA5Vwy6Hqob0Ca5pTL0CdqQLYjVwYz3mRARMdbr1V0YUA=\",\"dtype\":\"float64\",\"order\":\"little\",\"shape\":[10]},\"k\":[1,2,3,4,5,6,7,8,9,10]},\"selected\":{\"id\":\"2558\"},\"selection_policy\":{\"id\":\"2581\"}},\"id\":\"2557\",\"type\":\"ColumnDataSource\"},{\"attributes\":{\"axis_label\":\"k\",\"coordinates\":null,\"formatter\":{\"id\":\"2568\"},\"group\":null,\"major_label_policy\":{\"id\":\"2569\"},\"ticker\":{\"id\":\"2566\"}},\"id\":\"2536\",\"type\":\"LinearAxis\"},{\"attributes\":{},\"id\":\"2573\",\"type\":\"BasicTickFormatter\"},{\"attributes\":{\"line_color\":\"#30a2da\",\"line_width\":2,\"x\":{\"field\":\"k\"},\"y\":{\"field\":\"inertia\"}},\"id\":\"2560\",\"type\":\"Line\"}],\"root_ids\":[\"2522\"]},\"title\":\"Bokeh Application\",\"version\":\"2.4.2\"}};\n",
       "    var render_items = [{\"docid\":\"3ab57ffd-cbda-4b53-919b-fbf38b4e336b\",\"root_ids\":[\"2522\"],\"roots\":{\"2522\":\"cdf40074-2f5f-4436-a508-05b060b41ac9\"}}];\n",
       "    root.Bokeh.embed.embed_items_notebook(docs_json, render_items);\n",
       "  }\n",
       "  if (root.Bokeh !== undefined && root.Bokeh.Panel !== undefined) {\n",
       "    embed_document(root);\n",
       "  } else {\n",
       "    var attempts = 0;\n",
       "    var timer = setInterval(function(root) {\n",
       "      if (root.Bokeh !== undefined && root.Bokeh.Panel !== undefined) {\n",
       "        clearInterval(timer);\n",
       "        embed_document(root);\n",
       "      } else if (document.readyState == \"complete\") {\n",
       "        attempts++;\n",
       "        if (attempts > 200) {\n",
       "          clearInterval(timer);\n",
       "          console.log(\"Bokeh: ERROR: Unable to run BokehJS code because BokehJS library is missing\");\n",
       "        }\n",
       "      }\n",
       "    }, 25, root)\n",
       "  }\n",
       "})(window);</script>"
      ],
      "text/plain": [
       ":Curve   [k]   (inertia)"
      ]
     },
     "execution_count": 344,
     "metadata": {
      "application/vnd.holoviews_exec.v0+json": {
       "id": "2522"
      }
     },
     "output_type": "execute_result"
    }
   ],
   "source": [
    "# Create an elbow curve to find the best value for K.\n",
    "\n",
    "inertia = []\n",
    "k = list(range(1, 11))\n",
    "\n",
    "# Calculate the inertia for the range of K values\n",
    "for i in k:\n",
    "    km = KMeans(n_clusters=i, random_state=0)\n",
    "    km.fit(crypto_pca_df)\n",
    "    inertia.append(km.inertia_)\n",
    "\n",
    "# Create the elbow curve\n",
    "elbow_data = {\"k\": k, \"inertia\": inertia}\n",
    "df_elbow = pd.DataFrame(elbow_data)\n",
    "df_elbow.hvplot.line(x=\"k\", y=\"inertia\", xticks=k, title=\"Elbow Curve\")\n"
   ]
  },
  {
   "cell_type": "markdown",
   "metadata": {},
   "source": [
    "Running K-Means with `k=4`"
   ]
  },
  {
   "cell_type": "code",
   "execution_count": 345,
   "metadata": {},
   "outputs": [
    {
     "data": {
      "text/plain": [
       "array([3, 3, 3, 1, 1, 1, 3, 1, 1, 1, 3, 1, 3, 3, 1, 3, 1, 1, 3, 3, 1, 1,\n",
       "       1, 1, 1, 3, 1, 1, 1, 3, 1, 3, 1, 1, 3, 3, 1, 1, 1, 1, 1, 1, 3, 3,\n",
       "       1, 1, 1, 1, 1, 3, 3, 1, 3, 1, 1, 1, 1, 3, 1, 1, 3, 1, 3, 3, 3, 1,\n",
       "       1, 1, 3, 3, 3, 3, 3, 1, 1, 1, 3, 3, 1, 3, 1, 3, 3, 1, 1, 1, 1, 3,\n",
       "       3, 1, 3, 1, 1, 3, 3, 1, 3, 3, 1, 1, 3, 3, 1, 3, 3, 1, 3, 1, 3, 1,\n",
       "       3, 1, 3, 3, 1, 1, 3, 1, 1, 1, 3, 1, 1, 1, 1, 1, 3, 3, 1, 1, 1, 3,\n",
       "       1, 3, 1, 1, 3, 1, 3, 1, 3, 3, 1, 1, 3, 1, 1, 3, 3, 1, 3, 1, 3, 3,\n",
       "       3, 1, 1, 1, 1, 3, 3, 3, 3, 3, 1, 1, 1, 3, 3, 3, 3, 3, 1, 3, 3, 3,\n",
       "       3, 3, 1, 3, 1, 3, 3, 1, 3, 1, 3, 3, 1, 3, 1, 3, 1, 3, 1, 3, 3, 3,\n",
       "       3, 1, 3, 3, 3, 3, 3, 1, 1, 3, 3, 1, 1, 3, 3, 3, 3, 3, 1, 3, 3, 3,\n",
       "       3, 3, 3, 3, 3, 1, 3, 3, 3, 3, 3, 3, 1, 1, 1, 3, 3, 3, 3, 1, 3, 1,\n",
       "       3, 3, 1, 3, 1, 1, 3, 1, 1, 3, 1, 3, 3, 3, 1, 3, 3, 1, 3, 3, 3, 3,\n",
       "       3, 3, 3, 1, 3, 1, 3, 3, 3, 3, 1, 3, 1, 3, 1, 1, 1, 1, 3, 1, 3, 3,\n",
       "       1, 3, 1, 1, 1, 3, 1, 3, 1, 1, 1, 3, 1, 3, 1, 3, 3, 0, 1, 3, 1, 1,\n",
       "       1, 1, 1, 3, 3, 1, 3, 3, 3, 1, 3, 1, 3, 1, 3, 1, 3, 3, 3, 3, 1, 3,\n",
       "       3, 1, 3, 3, 3, 1, 1, 1, 1, 3, 3, 3, 3, 3, 1, 3, 1, 1, 1, 3, 1, 3,\n",
       "       1, 1, 3, 3, 1, 3, 1, 1, 3, 3, 1, 1, 3, 1, 1, 3, 3, 3, 3, 1, 1, 1,\n",
       "       3, 1, 1, 3, 1, 1, 3, 1, 3, 1, 3, 1, 1, 3, 0, 0, 1, 1, 3, 3, 3, 1,\n",
       "       3, 0, 3, 3, 3, 3, 1, 1, 1, 1, 1, 3, 1, 3, 3, 3, 1, 3, 1, 3, 3, 3,\n",
       "       1, 3, 1, 3, 3, 1, 3, 3, 1, 1, 3, 1, 3, 1, 3, 3, 1, 3, 3, 1, 1, 3,\n",
       "       3, 3, 3, 1, 3, 1, 3, 3, 3, 3, 3, 1, 3, 3, 1, 1, 1, 3, 3, 3, 3, 3,\n",
       "       3, 3, 1, 1, 3, 1, 1, 1, 1, 1, 3, 1, 3, 3, 3, 1, 3, 3, 1, 3, 3, 3,\n",
       "       3, 1, 0, 1, 3, 1, 1, 3, 1, 3, 1, 3, 3, 1, 3, 1, 1, 1, 1, 1, 1, 1,\n",
       "       3, 1, 3, 1, 3, 3, 1, 1, 3, 3, 3, 3, 3, 1, 1, 1, 3, 3, 1, 3, 1, 3,\n",
       "       1, 3, 1, 3, 3, 3, 3, 1, 3, 3, 3, 1, 3, 1, 3, 1, 3, 3, 3, 1, 1, 3,\n",
       "       3, 3, 3, 3, 3, 3, 1, 3, 1, 1, 3, 3, 1, 3, 3, 3, 0, 3, 3, 2, 1, 3,\n",
       "       3, 3, 1, 1, 3, 3])"
      ]
     },
     "execution_count": 345,
     "metadata": {},
     "output_type": "execute_result"
    }
   ],
   "source": [
    "# Initialize the K-means model\n",
    "model = KMeans(n_clusters=4, random_state=0)\n",
    "\n",
    "# Fit the model\n",
    "model.fit(crypto_pca_df)\n",
    "\n",
    "# Predict clusters\n",
    "predictions = model.predict(crypto_pca_df)\n",
    "predictions"
   ]
  },
  {
   "cell_type": "code",
   "execution_count": 346,
   "metadata": {},
   "outputs": [
    {
     "name": "stdout",
     "output_type": "stream",
     "text": [
      "(578, 9)\n"
     ]
    },
    {
     "data": {
      "text/html": [
       "<div>\n",
       "<style scoped>\n",
       "    .dataframe tbody tr th:only-of-type {\n",
       "        vertical-align: middle;\n",
       "    }\n",
       "\n",
       "    .dataframe tbody tr th {\n",
       "        vertical-align: top;\n",
       "    }\n",
       "\n",
       "    .dataframe thead th {\n",
       "        text-align: right;\n",
       "    }\n",
       "</style>\n",
       "<table border=\"1\" class=\"dataframe\">\n",
       "  <thead>\n",
       "    <tr style=\"text-align: right;\">\n",
       "      <th></th>\n",
       "      <th>Algorithm</th>\n",
       "      <th>ProofType</th>\n",
       "      <th>TotalCoinsMined</th>\n",
       "      <th>TotalCoinSupply</th>\n",
       "      <th>PC1</th>\n",
       "      <th>PC2</th>\n",
       "      <th>PC3</th>\n",
       "      <th>CoinName</th>\n",
       "      <th>Class</th>\n",
       "    </tr>\n",
       "    <tr>\n",
       "      <th></th>\n",
       "      <th></th>\n",
       "      <th></th>\n",
       "      <th></th>\n",
       "      <th></th>\n",
       "      <th></th>\n",
       "      <th></th>\n",
       "      <th></th>\n",
       "      <th></th>\n",
       "      <th></th>\n",
       "    </tr>\n",
       "  </thead>\n",
       "  <tbody>\n",
       "    <tr>\n",
       "      <th>42</th>\n",
       "      <td>Scrypt</td>\n",
       "      <td>PoW/PoS</td>\n",
       "      <td>4.199995e+01</td>\n",
       "      <td>42</td>\n",
       "      <td>-0.333587</td>\n",
       "      <td>1.090979</td>\n",
       "      <td>-0.508205</td>\n",
       "      <td>NaN</td>\n",
       "      <td>3</td>\n",
       "    </tr>\n",
       "    <tr>\n",
       "      <th>404</th>\n",
       "      <td>Scrypt</td>\n",
       "      <td>PoW/PoS</td>\n",
       "      <td>1.055185e+09</td>\n",
       "      <td>532000000</td>\n",
       "      <td>-0.316233</td>\n",
       "      <td>1.091237</td>\n",
       "      <td>-0.508481</td>\n",
       "      <td>NaN</td>\n",
       "      <td>3</td>\n",
       "    </tr>\n",
       "    <tr>\n",
       "      <th>1337</th>\n",
       "      <td>X13</td>\n",
       "      <td>PoW/PoS</td>\n",
       "      <td>2.927942e+10</td>\n",
       "      <td>314159265359</td>\n",
       "      <td>2.413990</td>\n",
       "      <td>1.731924</td>\n",
       "      <td>-0.534171</td>\n",
       "      <td>NaN</td>\n",
       "      <td>3</td>\n",
       "    </tr>\n",
       "    <tr>\n",
       "      <th>BTC</th>\n",
       "      <td>SHA-256</td>\n",
       "      <td>PoW</td>\n",
       "      <td>1.792718e+07</td>\n",
       "      <td>21000000</td>\n",
       "      <td>-0.136752</td>\n",
       "      <td>-1.345903</td>\n",
       "      <td>0.130609</td>\n",
       "      <td>NaN</td>\n",
       "      <td>1</td>\n",
       "    </tr>\n",
       "    <tr>\n",
       "      <th>ETH</th>\n",
       "      <td>Ethash</td>\n",
       "      <td>PoW</td>\n",
       "      <td>1.076842e+08</td>\n",
       "      <td>0</td>\n",
       "      <td>-0.130298</td>\n",
       "      <td>-2.082642</td>\n",
       "      <td>0.313350</td>\n",
       "      <td>NaN</td>\n",
       "      <td>1</td>\n",
       "    </tr>\n",
       "    <tr>\n",
       "      <th>LTC</th>\n",
       "      <td>Scrypt</td>\n",
       "      <td>PoW</td>\n",
       "      <td>6.303924e+07</td>\n",
       "      <td>84000000</td>\n",
       "      <td>-0.158105</td>\n",
       "      <td>-1.102403</td>\n",
       "      <td>-0.040199</td>\n",
       "      <td>NaN</td>\n",
       "      <td>1</td>\n",
       "    </tr>\n",
       "    <tr>\n",
       "      <th>DASH</th>\n",
       "      <td>X11</td>\n",
       "      <td>PoW/PoS</td>\n",
       "      <td>9.031294e+06</td>\n",
       "      <td>22000000</td>\n",
       "      <td>-0.393873</td>\n",
       "      <td>1.286517</td>\n",
       "      <td>-0.403415</td>\n",
       "      <td>NaN</td>\n",
       "      <td>3</td>\n",
       "    </tr>\n",
       "    <tr>\n",
       "      <th>XMR</th>\n",
       "      <td>CryptoNight-V7</td>\n",
       "      <td>PoW</td>\n",
       "      <td>1.720114e+07</td>\n",
       "      <td>0</td>\n",
       "      <td>-0.149203</td>\n",
       "      <td>-2.250089</td>\n",
       "      <td>0.400293</td>\n",
       "      <td>NaN</td>\n",
       "      <td>1</td>\n",
       "    </tr>\n",
       "    <tr>\n",
       "      <th>ETC</th>\n",
       "      <td>Ethash</td>\n",
       "      <td>PoW</td>\n",
       "      <td>1.133597e+08</td>\n",
       "      <td>210000000</td>\n",
       "      <td>-0.128678</td>\n",
       "      <td>-2.082732</td>\n",
       "      <td>0.313333</td>\n",
       "      <td>NaN</td>\n",
       "      <td>1</td>\n",
       "    </tr>\n",
       "    <tr>\n",
       "      <th>ZEC</th>\n",
       "      <td>Equihash</td>\n",
       "      <td>PoW</td>\n",
       "      <td>7.383056e+06</td>\n",
       "      <td>21000000</td>\n",
       "      <td>-0.175738</td>\n",
       "      <td>-2.060110</td>\n",
       "      <td>0.454677</td>\n",
       "      <td>NaN</td>\n",
       "      <td>1</td>\n",
       "    </tr>\n",
       "  </tbody>\n",
       "</table>\n",
       "</div>"
      ],
      "text/plain": [
       "           Algorithm ProofType  TotalCoinsMined TotalCoinSupply       PC1  \\\n",
       "                                                                            \n",
       "42            Scrypt   PoW/PoS     4.199995e+01              42 -0.333587   \n",
       "404           Scrypt   PoW/PoS     1.055185e+09       532000000 -0.316233   \n",
       "1337             X13   PoW/PoS     2.927942e+10    314159265359  2.413990   \n",
       "BTC          SHA-256       PoW     1.792718e+07        21000000 -0.136752   \n",
       "ETH           Ethash       PoW     1.076842e+08               0 -0.130298   \n",
       "LTC           Scrypt       PoW     6.303924e+07        84000000 -0.158105   \n",
       "DASH             X11   PoW/PoS     9.031294e+06        22000000 -0.393873   \n",
       "XMR   CryptoNight-V7       PoW     1.720114e+07               0 -0.149203   \n",
       "ETC           Ethash       PoW     1.133597e+08       210000000 -0.128678   \n",
       "ZEC         Equihash       PoW     7.383056e+06        21000000 -0.175738   \n",
       "\n",
       "           PC2       PC3 CoinName  Class  \n",
       "                                          \n",
       "42    1.090979 -0.508205      NaN      3  \n",
       "404   1.091237 -0.508481      NaN      3  \n",
       "1337  1.731924 -0.534171      NaN      3  \n",
       "BTC  -1.345903  0.130609      NaN      1  \n",
       "ETH  -2.082642  0.313350      NaN      1  \n",
       "LTC  -1.102403 -0.040199      NaN      1  \n",
       "DASH  1.286517 -0.403415      NaN      3  \n",
       "XMR  -2.250089  0.400293      NaN      1  \n",
       "ETC  -2.082732  0.313333      NaN      1  \n",
       "ZEC  -2.060110  0.454677      NaN      1  "
      ]
     },
     "execution_count": 346,
     "metadata": {},
     "output_type": "execute_result"
    }
   ],
   "source": [
    "# Create a new DataFrame including predicted clusters and cryptocurrencies features.\n",
    "# Concatentate the crypto_df and pcs_df DataFrames on the same columns.\n",
    "crypto_clustered_df = pd.concat([crypto_df, crypto_pca_df], axis=1)\n",
    "\n",
    "#  Add a new column, \"CoinName\" to the clustered_df DataFrame that holds the names of the cryptocurrencies. \n",
    "crypto_clustered_df['CoinName'] = crypto_names['CoinName']\n",
    "\n",
    "#  Add a new column, \"Class\" to the clustered_df DataFrame that holds the predictions.\n",
    "crypto_clustered_df['Class'] = model.labels_\n",
    "\n",
    "# Print the shape of the clustered_df\n",
    "print(crypto_clustered_df.shape)\n",
    "crypto_clustered_df.head(10)"
   ]
  },
  {
   "cell_type": "markdown",
   "metadata": {},
   "source": [
    "### Deliverable 4: Visualizing Cryptocurrencies Results\n",
    "\n",
    "#### 3D-Scatter with Clusters"
   ]
  },
  {
   "cell_type": "code",
   "execution_count": 347,
   "metadata": {},
   "outputs": [
    {
     "data": {
      "application/vnd.plotly.v1+json": {
       "config": {
        "plotlyServerURL": "https://plot.ly"
       },
       "data": [
        {
         "customdata": [
          [
           "Scrypt"
          ],
          [
           "Scrypt"
          ],
          [
           "X13"
          ],
          [
           "X11"
          ],
          [
           "SHA-512"
          ],
          [
           "SHA-256"
          ],
          [
           "SHA-256"
          ],
          [
           "X15"
          ],
          [
           "Scrypt"
          ],
          [
           "Scrypt"
          ],
          [
           "Scrypt"
          ],
          [
           "Scrypt"
          ],
          [
           "Scrypt"
          ],
          [
           "Scrypt"
          ],
          [
           "Groestl"
          ],
          [
           "PoS"
          ],
          [
           "Scrypt"
          ],
          [
           "Scrypt"
          ],
          [
           "X11"
          ],
          [
           "X11"
          ],
          [
           "SHA3"
          ],
          [
           "Scrypt"
          ],
          [
           "SHA-256"
          ],
          [
           "Scrypt"
          ],
          [
           "X13"
          ],
          [
           "X13"
          ],
          [
           "NeoScrypt"
          ],
          [
           "Scrypt"
          ],
          [
           "Scrypt"
          ],
          [
           "Scrypt"
          ],
          [
           "X11"
          ],
          [
           "X11"
          ],
          [
           "Multiple"
          ],
          [
           "PHI1612"
          ],
          [
           "X11"
          ],
          [
           "Scrypt"
          ],
          [
           "Scrypt"
          ],
          [
           "Scrypt"
          ],
          [
           "X11"
          ],
          [
           "Multiple"
          ],
          [
           "X13"
          ],
          [
           "Scrypt"
          ],
          [
           "Shabal256"
          ],
          [
           "Counterparty"
          ],
          [
           "SHA-256"
          ],
          [
           "Groestl"
          ],
          [
           "Scrypt"
          ],
          [
           "X13"
          ],
          [
           "Scrypt"
          ],
          [
           "Scrypt"
          ],
          [
           "X13"
          ],
          [
           "X11"
          ],
          [
           "Scrypt"
          ],
          [
           "X11"
          ],
          [
           "SHA3"
          ],
          [
           "QUAIT"
          ],
          [
           "X11"
          ],
          [
           "Scrypt"
          ],
          [
           "X13"
          ],
          [
           "SHA-256"
          ],
          [
           "X15"
          ],
          [
           "BLAKE256"
          ],
          [
           "SHA-256"
          ],
          [
           "X11"
          ],
          [
           "SHA-256"
          ],
          [
           "NIST5"
          ],
          [
           "Scrypt"
          ],
          [
           "Scrypt"
          ],
          [
           "X11"
          ],
          [
           "Scrypt"
          ],
          [
           "SHA-256"
          ],
          [
           "Scrypt"
          ],
          [
           "PoS"
          ],
          [
           "X11"
          ],
          [
           "SHA-256"
          ],
          [
           "SHA-256"
          ],
          [
           "NIST5"
          ],
          [
           "X11"
          ],
          [
           "POS 3.0"
          ],
          [
           "Scrypt"
          ],
          [
           "Scrypt"
          ],
          [
           "Scrypt"
          ],
          [
           "X13"
          ],
          [
           "X11"
          ],
          [
           "X11"
          ],
          [
           "Scrypt"
          ],
          [
           "SHA-256"
          ],
          [
           "X11"
          ],
          [
           "Scrypt"
          ],
          [
           "Scrypt"
          ],
          [
           "Scrypt"
          ],
          [
           "Scrypt"
          ],
          [
           "SHA-256D"
          ],
          [
           "PoS"
          ],
          [
           "Scrypt"
          ],
          [
           "X11"
          ],
          [
           "PoS"
          ],
          [
           "X13"
          ],
          [
           "X14"
          ],
          [
           "PoS"
          ],
          [
           "SHA-256D"
          ],
          [
           "DPoS"
          ],
          [
           "X11"
          ],
          [
           "X13"
          ],
          [
           "X11"
          ],
          [
           "PoS"
          ],
          [
           "Scrypt"
          ],
          [
           "Scrypt"
          ],
          [
           "PoS"
          ],
          [
           "X11"
          ],
          [
           "SHA-256"
          ],
          [
           "Scrypt"
          ],
          [
           "X11"
          ],
          [
           "Scrypt"
          ],
          [
           "Scrypt"
          ],
          [
           "X11"
          ],
          [
           "Scrypt"
          ],
          [
           "Scrypt"
          ],
          [
           "Scrypt"
          ],
          [
           "Scrypt"
          ],
          [
           "Quark"
          ],
          [
           "QuBit"
          ],
          [
           "Scrypt"
          ],
          [
           "SHA-256"
          ],
          [
           "X11"
          ],
          [
           "Scrypt"
          ],
          [
           "Scrypt"
          ],
          [
           "Scrypt"
          ],
          [
           "Scrypt"
          ],
          [
           "X13"
          ],
          [
           "Scrypt"
          ],
          [
           "Scrypt"
          ],
          [
           "X11"
          ],
          [
           "Blake2S"
          ],
          [
           "X11"
          ],
          [
           "PoS"
          ],
          [
           "X11"
          ],
          [
           "PoS"
          ],
          [
           "X11"
          ],
          [
           "Scrypt"
          ],
          [
           "Scrypt"
          ],
          [
           "Scrypt"
          ],
          [
           "SHA-256"
          ],
          [
           "X11"
          ],
          [
           "Scrypt"
          ],
          [
           "PoS"
          ],
          [
           "Scrypt"
          ],
          [
           "X15"
          ],
          [
           "SHA-256"
          ],
          [
           "POS 3.0"
          ],
          [
           "536"
          ],
          [
           "NIST5"
          ],
          [
           "NIST5"
          ],
          [
           "Skein"
          ],
          [
           "X13"
          ],
          [
           "Scrypt"
          ],
          [
           "X13"
          ],
          [
           "SkunkHash v2 Raptor"
          ],
          [
           "Skein"
          ],
          [
           "X11"
          ],
          [
           "Scrypt"
          ],
          [
           "PoS"
          ],
          [
           "Scrypt"
          ],
          [
           "Scrypt"
          ],
          [
           "SHA-512"
          ],
          [
           "Ouroboros"
          ],
          [
           "X11"
          ],
          [
           "NeoScrypt"
          ],
          [
           "Scrypt"
          ],
          [
           "Lyra2REv2"
          ],
          [
           "Scrypt"
          ],
          [
           "SHA-256"
          ],
          [
           "NIST5"
          ],
          [
           "PHI1612"
          ],
          [
           "Scrypt"
          ],
          [
           "Quark"
          ],
          [
           "POS 2.0"
          ],
          [
           "Scrypt"
          ],
          [
           "SHA-256"
          ],
          [
           "Quark"
          ],
          [
           "X11"
          ],
          [
           "DPoS"
          ],
          [
           "NIST5"
          ],
          [
           "X13"
          ],
          [
           "Scrypt"
          ],
          [
           "NIST5"
          ],
          [
           "Quark"
          ],
          [
           "Scrypt"
          ],
          [
           "Scrypt"
          ],
          [
           "X11"
          ],
          [
           "Scrypt"
          ],
          [
           "Scrypt"
          ],
          [
           "Quark"
          ],
          [
           "Scrypt"
          ],
          [
           "Scrypt"
          ],
          [
           "X11"
          ],
          [
           "Scrypt"
          ],
          [
           "POS 3.0"
          ],
          [
           "Scrypt"
          ],
          [
           "Scrypt"
          ],
          [
           "X11"
          ],
          [
           "SHA-256"
          ],
          [
           "X13"
          ],
          [
           "Skein"
          ],
          [
           "X11"
          ],
          [
           "Skein"
          ],
          [
           "C11"
          ],
          [
           "X11"
          ],
          [
           "XEVAN"
          ],
          [
           "Scrypt"
          ],
          [
           "VBFT"
          ],
          [
           "PHI1612"
          ],
          [
           "NIST5"
          ],
          [
           "Scrypt"
          ],
          [
           "Scrypt"
          ],
          [
           "Scrypt"
          ],
          [
           "Green Protocol"
          ],
          [
           "PoS"
          ],
          [
           "Scrypt"
          ],
          [
           "Semux BFT consensus"
          ],
          [
           "Quark"
          ],
          [
           "PoS"
          ],
          [
           "X16R"
          ],
          [
           "Scrypt"
          ],
          [
           "XEVAN"
          ],
          [
           "Scrypt"
          ],
          [
           "Scrypt"
          ],
          [
           "Scrypt"
          ],
          [
           "X11"
          ],
          [
           "SHA-256D"
          ],
          [
           "Scrypt"
          ],
          [
           "Scrypt"
          ],
          [
           "X11"
          ],
          [
           "Scrypt"
          ],
          [
           "SHA-256D"
          ],
          [
           "Scrypt"
          ],
          [
           "X15"
          ],
          [
           "Scrypt"
          ],
          [
           "Quark"
          ],
          [
           "Scrypt"
          ],
          [
           "SHA-256"
          ],
          [
           "DPoS"
          ],
          [
           "Scrypt"
          ],
          [
           "X16R"
          ],
          [
           "Quark"
          ],
          [
           "Quark"
          ],
          [
           "Scrypt"
          ],
          [
           "Lyra2REv2"
          ],
          [
           "Quark"
          ],
          [
           "Scrypt"
          ],
          [
           "X11"
          ],
          [
           "X11"
          ],
          [
           "Scrypt"
          ],
          [
           "PoS"
          ],
          [
           "Keccak"
          ],
          [
           "X11"
          ],
          [
           "Tribus"
          ],
          [
           "Scrypt"
          ],
          [
           "NeoScrypt"
          ],
          [
           "SHA-512"
          ],
          [
           "XEVAN"
          ],
          [
           "SHA-512"
          ],
          [
           "Quark"
          ],
          [
           "XEVAN"
          ],
          [
           "X11"
          ],
          [
           "Quark"
          ],
          [
           "Scrypt"
          ],
          [
           "Quark"
          ],
          [
           "Quark"
          ],
          [
           "Scrypt"
          ],
          [
           "X11"
          ],
          [
           "Scrypt"
          ],
          [
           "XEVAN"
          ],
          [
           "SHA-256D"
          ],
          [
           "X11"
          ],
          [
           "X11"
          ],
          [
           "DPoS"
          ],
          [
           "Scrypt"
          ],
          [
           "X11"
          ],
          [
           "Scrypt"
          ],
          [
           "Scrypt"
          ],
          [
           "SHA-256"
          ],
          [
           "Scrypt"
          ],
          [
           "X11"
          ],
          [
           "Scrypt"
          ],
          [
           "SHA-256"
          ],
          [
           "X11"
          ],
          [
           "Scrypt"
          ],
          [
           "Scrypt"
          ],
          [
           "X11"
          ],
          [
           "Scrypt"
          ],
          [
           "PoS"
          ],
          [
           "X11"
          ],
          [
           "SHA-256"
          ],
          [
           "DPoS"
          ],
          [
           "Scrypt"
          ],
          [
           "Scrypt"
          ],
          [
           "NeoScrypt"
          ],
          [
           "SHA3-256"
          ],
          [
           "X13"
          ],
          [
           "PHI2"
          ],
          [
           "DPoS"
          ],
          [
           "DPoS"
          ],
          [
           "SHA-256"
          ],
          [
           "Lyra2Z"
          ],
          [
           "PoS"
          ],
          [
           "Scrypt"
          ],
          [
           "PoS"
          ],
          [
           "SHA-256"
          ],
          [
           "Scrypt"
          ],
          [
           "Scrypt"
          ],
          [
           "Scrypt"
          ]
         ],
         "hovertemplate": "<b>%{hovertext}</b><br><br>Class=%{marker.color}<br>PC1=%{x}<br>PC2=%{y}<br>PC3=%{z}<br>Algorithm=%{customdata[0]}<extra></extra>",
         "hovertext": [
          null,
          null,
          null,
          null,
          null,
          null,
          null,
          null,
          null,
          null,
          null,
          null,
          null,
          null,
          null,
          null,
          null,
          null,
          null,
          null,
          null,
          null,
          null,
          null,
          null,
          null,
          null,
          null,
          null,
          null,
          null,
          null,
          null,
          null,
          null,
          null,
          null,
          null,
          null,
          null,
          null,
          null,
          null,
          null,
          null,
          null,
          null,
          null,
          null,
          null,
          null,
          null,
          null,
          null,
          null,
          null,
          null,
          null,
          null,
          null,
          null,
          null,
          null,
          null,
          null,
          null,
          null,
          null,
          null,
          null,
          null,
          null,
          null,
          null,
          null,
          null,
          null,
          null,
          null,
          null,
          null,
          null,
          null,
          null,
          null,
          null,
          null,
          null,
          null,
          null,
          null,
          null,
          null,
          null,
          null,
          null,
          null,
          null,
          null,
          null,
          null,
          null,
          null,
          null,
          null,
          null,
          null,
          null,
          null,
          null,
          null,
          null,
          null,
          null,
          null,
          null,
          null,
          null,
          null,
          null,
          null,
          null,
          null,
          null,
          null,
          null,
          null,
          null,
          null,
          null,
          null,
          null,
          null,
          null,
          null,
          null,
          null,
          null,
          null,
          null,
          null,
          null,
          null,
          null,
          null,
          null,
          null,
          null,
          null,
          null,
          null,
          null,
          null,
          null,
          null,
          null,
          null,
          null,
          null,
          null,
          null,
          null,
          null,
          null,
          null,
          null,
          null,
          null,
          null,
          null,
          null,
          null,
          null,
          null,
          null,
          null,
          null,
          null,
          null,
          null,
          null,
          null,
          null,
          null,
          null,
          null,
          null,
          null,
          null,
          null,
          null,
          null,
          null,
          null,
          null,
          null,
          null,
          null,
          null,
          null,
          null,
          null,
          null,
          null,
          null,
          null,
          null,
          null,
          null,
          null,
          null,
          null,
          null,
          null,
          null,
          null,
          null,
          null,
          null,
          null,
          null,
          null,
          null,
          null,
          null,
          null,
          null,
          null,
          null,
          null,
          null,
          null,
          null,
          null,
          null,
          null,
          null,
          null,
          null,
          null,
          null,
          null,
          null,
          null,
          null,
          null,
          null,
          null,
          null,
          null,
          null,
          null,
          null,
          null,
          null,
          null,
          null,
          null,
          null,
          null,
          null,
          null,
          null,
          null,
          null,
          null,
          null,
          null,
          null,
          null,
          null,
          null,
          null,
          null,
          null,
          null,
          null,
          null,
          null,
          null,
          null,
          null,
          null,
          null,
          null,
          null,
          null,
          null,
          null,
          null,
          null,
          null,
          null,
          null,
          null,
          null,
          null,
          null,
          null,
          null,
          null,
          null,
          null,
          null,
          null,
          null,
          null,
          null,
          null,
          null,
          null,
          null
         ],
         "legendgroup": "3",
         "marker": {
          "color": [
           3,
           3,
           3,
           3,
           3,
           3,
           3,
           3,
           3,
           3,
           3,
           3,
           3,
           3,
           3,
           3,
           3,
           3,
           3,
           3,
           3,
           3,
           3,
           3,
           3,
           3,
           3,
           3,
           3,
           3,
           3,
           3,
           3,
           3,
           3,
           3,
           3,
           3,
           3,
           3,
           3,
           3,
           3,
           3,
           3,
           3,
           3,
           3,
           3,
           3,
           3,
           3,
           3,
           3,
           3,
           3,
           3,
           3,
           3,
           3,
           3,
           3,
           3,
           3,
           3,
           3,
           3,
           3,
           3,
           3,
           3,
           3,
           3,
           3,
           3,
           3,
           3,
           3,
           3,
           3,
           3,
           3,
           3,
           3,
           3,
           3,
           3,
           3,
           3,
           3,
           3,
           3,
           3,
           3,
           3,
           3,
           3,
           3,
           3,
           3,
           3,
           3,
           3,
           3,
           3,
           3,
           3,
           3,
           3,
           3,
           3,
           3,
           3,
           3,
           3,
           3,
           3,
           3,
           3,
           3,
           3,
           3,
           3,
           3,
           3,
           3,
           3,
           3,
           3,
           3,
           3,
           3,
           3,
           3,
           3,
           3,
           3,
           3,
           3,
           3,
           3,
           3,
           3,
           3,
           3,
           3,
           3,
           3,
           3,
           3,
           3,
           3,
           3,
           3,
           3,
           3,
           3,
           3,
           3,
           3,
           3,
           3,
           3,
           3,
           3,
           3,
           3,
           3,
           3,
           3,
           3,
           3,
           3,
           3,
           3,
           3,
           3,
           3,
           3,
           3,
           3,
           3,
           3,
           3,
           3,
           3,
           3,
           3,
           3,
           3,
           3,
           3,
           3,
           3,
           3,
           3,
           3,
           3,
           3,
           3,
           3,
           3,
           3,
           3,
           3,
           3,
           3,
           3,
           3,
           3,
           3,
           3,
           3,
           3,
           3,
           3,
           3,
           3,
           3,
           3,
           3,
           3,
           3,
           3,
           3,
           3,
           3,
           3,
           3,
           3,
           3,
           3,
           3,
           3,
           3,
           3,
           3,
           3,
           3,
           3,
           3,
           3,
           3,
           3,
           3,
           3,
           3,
           3,
           3,
           3,
           3,
           3,
           3,
           3,
           3,
           3,
           3,
           3,
           3,
           3,
           3,
           3,
           3,
           3,
           3,
           3,
           3,
           3,
           3,
           3,
           3,
           3,
           3,
           3,
           3,
           3,
           3,
           3,
           3,
           3,
           3,
           3,
           3,
           3,
           3,
           3,
           3,
           3,
           3,
           3,
           3,
           3,
           3,
           3,
           3,
           3,
           3,
           3,
           3,
           3,
           3,
           3,
           3,
           3,
           3,
           3,
           3,
           3,
           3,
           3,
           3,
           3
          ],
          "coloraxis": "coloraxis",
          "symbol": "circle"
         },
         "mode": "markers",
         "name": "3",
         "scene": "scene",
         "showlegend": true,
         "type": "scatter3d",
         "x": [
          -0.33358703007333373,
          -0.31623339547702417,
          2.413990014783579,
          -0.39387322889060744,
          -0.24057931667875168,
          -0.31101627318507474,
          -0.25527580427752056,
          -0.23840856400066227,
          -0.3332325705825116,
          -0.32549837270311316,
          -0.33202049724258154,
          -0.3335828031765016,
          -0.33356643198636005,
          0.7170425856666975,
          -0.3767601395999287,
          -0.3246068216549235,
          -0.26763845427961247,
          -0.3315661296440799,
          -0.3171093560082391,
          -0.39376350504032487,
          -0.29306185255743883,
          -0.0068508032515211354,
          -0.27281844441895725,
          -0.27758758772521025,
          -0.27369098682015086,
          -0.27433931195045486,
          -0.34593129055752353,
          -0.3276564429173619,
          -0.33192316104487735,
          0.0395868506342761,
          -0.337830670355416,
          -0.3941503426598833,
          -0.23081941074164597,
          -0.27877274577320743,
          -0.3940584237271841,
          -0.30780354693787365,
          -0.3322104147245619,
          -0.2783070212649214,
          -0.3940213411249458,
          -0.23130528011913326,
          -0.27411097747474644,
          -0.3243317350069763,
          0.04302283446418655,
          -0.31259767706646374,
          -0.3101955918088927,
          -0.37615735781377635,
          -0.2775667755674993,
          -0.274418043169715,
          -0.27200393231100783,
          -0.33356834596700397,
          -0.2743681916456047,
          -0.33829448687134195,
          -0.33329187912156233,
          -0.39413109624823683,
          -0.11522386314387562,
          -0.40382848268487925,
          -0.3241688767258815,
          -0.2759027224104802,
          -0.2738703513310374,
          -0.30327527272078675,
          -0.2409476232727888,
          -0.05503848940551919,
          -0.31098596630035935,
          -0.05846029529923142,
          -0.31105216143435965,
          -0.23092892039381138,
          -0.3331628802100866,
          -0.27576808959159615,
          -0.391187249437791,
          0.9224875334322247,
          -0.3108442754985597,
          -0.04383058299708161,
          -0.32427710184556957,
          -0.39188468306103047,
          -0.30953782757072607,
          -0.30711273169487585,
          -0.35738272611347044,
          -0.3928152891661831,
          -0.3281636853808884,
          -0.3084938394878843,
          -0.33320261203855667,
          -0.331576931520377,
          -0.21732009930190568,
          -0.32526980286452883,
          -0.3935836716024995,
          -0.3323741234153948,
          -0.311032471720101,
          -0.39411987925963854,
          -0.3333993632173174,
          -0.3335623370099395,
          -0.27575390830368446,
          -0.2173879990840994,
          0.03019342120224478,
          -0.32319121782590804,
          -0.33316029887065013,
          -0.3797239573207324,
          -0.32249116693079566,
          -0.21880778151077618,
          -0.4456643667628742,
          -0.32223349235166965,
          -0.29734635845204077,
          3.8804117266984677,
          -0.393695725901249,
          0.9053063275754671,
          -0.3940729093156893,
          -0.3236740720264108,
          -0.33308539247860014,
          -0.33324624812236553,
          -0.32427710184556957,
          -0.3936308164225766,
          -0.3108893656045357,
          -0.3330860759133709,
          -0.3834170348602806,
          -0.33323957782112745,
          -0.32865179067814293,
          -0.3941031373851412,
          -0.3324188959859019,
          0.3921951670225674,
          -0.3334469926038277,
          -0.33352038026287234,
          -0.3439789539086398,
          -0.35247040621206166,
          -0.3295962389633653,
          -0.3110078954274289,
          -0.39400937475725734,
          -0.33328911673354933,
          -0.33342142753106724,
          -0.2774701886571937,
          -0.2879350882351699,
          -0.2185660725361318,
          -0.3134860369456082,
          -0.27720014444093727,
          -0.39324566445832126,
          -0.4142455259656,
          -0.39193123112550415,
          -0.3224514157585115,
          -0.39313926361387114,
          -0.31662063034580235,
          -0.388915895332592,
          -0.33336232279014083,
          -0.3333615898818317,
          -0.3262092188803025,
          0.2986178040070328,
          -0.3936369232142396,
          -0.25941298657558765,
          -0.3243129858935368,
          -0.33254114157089804,
          0.9396874325031609,
          -0.2539140692753302,
          -0.3268917602388991,
          0.6240249989636812,
          -0.3589816278953717,
          -0.357422644414733,
          -0.43565596452129507,
          -0.2740403690097035,
          0.150123203191353,
          -0.2741139448997302,
          -0.3475538848421098,
          -0.43514006857478005,
          -0.3939202816526698,
          -0.277546939883306,
          -0.32417412264472,
          -0.33298261374609295,
          -0.33350260674289117,
          -0.30102776815899923,
          0.6892385059643246,
          -0.3938588888518668,
          -0.34072659495001345,
          -0.3334565324446735,
          -0.2891303370516676,
          0.467566268730934,
          -0.309285941969405,
          -0.3431269897615128,
          -0.3715047488354818,
          -0.33340486597122765,
          -0.3980323876371191,
          -0.3369525737931368,
          -0.33326973214024336,
          -0.07461169692361938,
          -0.3986401154671427,
          -0.392602625810879,
          3.8854659182753104,
          0.223543284789114,
          -0.27064793673035287,
          -0.3306263403761768,
          -0.3030612945534962,
          -0.3438601439503765,
          0.09750650436432261,
          -0.33237413865288695,
          -0.3932067453823258,
          -0.3331475052321453,
          -0.33243540238145286,
          -0.34299132587360154,
          -0.31942927670386306,
          -0.3335256641541026,
          -0.3382652531913798,
          0.22461202749146056,
          -0.328457306905109,
          -0.2879840631973651,
          -0.3288873686428599,
          -0.26228927925785456,
          -0.31096694123936636,
          -0.21002927775449498,
          -0.4358005314946738,
          -0.3939212500788357,
          -0.4359330857730613,
          -0.37481809911454494,
          -0.39393848337608456,
          -0.27272732229480257,
          -0.2766732676704261,
          -0.3067616131086443,
          -0.371799562747816,
          -0.3585643566673331,
          -0.333554151989737,
          -0.33353512540305985,
          -0.27082451992014545,
          -0.320727225075452,
          -0.323751955331626,
          -0.3332401131832154,
          4.075701991920281,
          -0.3966445100333639,
          -0.3239484229796154,
          -0.2951294463320527,
          -0.2779565487542659,
          -0.20290403296545473,
          -0.27722844403979097,
          -0.2776435190775851,
          -0.3326731283497699,
          -0.3382714893273596,
          -0.36638821209362754,
          -0.3325274435611095,
          -0.12855689240352547,
          -0.3379267531996966,
          -0.277491351686486,
          -0.3652916296911934,
          -0.33269287954417653,
          -0.1845905719869991,
          2.363856041264828,
          -0.33939739455380924,
          -0.33093439294085986,
          -0.254045657149812,
          1.0802283017846384,
          -0.2776929260465437,
          -0.3501129267147282,
          -0.34397845606148536,
          -0.39978429846049535,
          -0.15346952764657656,
          -0.3447302508527105,
          -0.3426454314500719,
          -0.32614679569738375,
          -0.3378254341777723,
          -0.39339009016543935,
          -0.2746244603289604,
          -0.32301238764226897,
          -0.3375512386209166,
          -0.3376816691651649,
          -0.3855311821613906,
          -0.18740824519179178,
          -0.3458149624604724,
          -0.27928732036187387,
          -0.21704576425181124,
          -0.2979994768282511,
          -0.34376122493460326,
          0.684507331169786,
          -0.11940162796242428,
          -0.39905005493680357,
          -0.333244119019789,
          -0.3995247930302866,
          -0.3441002279716866,
          0.6101945396775511,
          -0.33832182837271235,
          -0.3327062813569181,
          -0.2669568302835263,
          -0.31818437375485076,
          -0.3908580645673496,
          -0.3936265643986578,
          3.898213926280255,
          0.119416111932617,
          -0.39106250661139697,
          -0.33206771514865185,
          -0.33292515487243657,
          -0.25530993069496877,
          -0.3334644301074068,
          -0.38491005753787294,
          -0.24370255411069497,
          -0.08142970877963882,
          -0.38048745810686235,
          -0.33271268640613183,
          -0.3254916865517174,
          -0.3900538273717893,
          -0.33108853984270276,
          -0.32456413597348455,
          -0.360740623876342,
          -0.309470257234459,
          3.880819462502084,
          -0.07683463603436297,
          -0.328167680138321,
          -0.3455422895979759,
          -0.2974395568956239,
          -0.2745295689874678,
          -0.4240196316268475,
          3.891104001482382,
          3.892400350008735,
          -0.235419648572048,
          0.6338490288930803,
          -0.32449730548421507,
          -0.2709612354954621,
          -0.29192754947755306,
          2.5829308782308384,
          -0.33155410365216864,
          -0.277903816815919,
          -0.3325763127855734
         ],
         "y": [
          1.090979084149728,
          1.0912367083530758,
          1.731924071014296,
          1.2865166660225373,
          0.9914652226060361,
          0.8474625574403651,
          0.5281355237399596,
          1.9157822020353794,
          1.090980171929028,
          1.0912745456093946,
          1.0910363062880069,
          1.0909788849444382,
          1.0909791293146178,
          0.5633722588694126,
          0.9759344254953933,
          1.4472179001698982,
          0.38260267590460556,
          1.0909680310803387,
          0.9679664133660482,
          1.2865206740011539,
          2.1371946182984844,
          0.7815442294082751,
          0.8471623773706779,
          0.7716433475576163,
          1.855943938867773,
          1.8559202569312887,
          0.535194040228869,
          1.090898662889974,
          1.0909705494030832,
          1.1046103314151097,
          0.9672095078763637,
          1.2865221028589262,
          0.0043305301271104905,
          1.10815452910809,
          1.2865183884783669,
          1.0907892694020604,
          1.090958642099693,
          0.3550132856698768,
          1.2865229257376838,
          0.004383509260450817,
          1.8559285975034772,
          1.0906098913291988,
          1.049503060889604,
          1.368653024821367,
          0.8474600008062326,
          0.975959541669025,
          0.7716555513949898,
          1.855908893818645,
          0.7715051156782642,
          1.090979766670052,
          1.8559121293268097,
          0.967178420265255,
          1.0909757200337942,
          1.28652280659663,
          2.41645712660284,
          2.0186562322574115,
          0.7825772608394248,
          0.771645608806322,
          1.8559020236105723,
          0.8470536105523787,
          1.9159184000196041,
          0.9591284919572921,
          0.8474636644863288,
          1.2800061523509902,
          0.8474693801133548,
          1.5547150548422304,
          1.0909648721697804,
          0.7715649098739326,
          1.286358747728791,
          0.7454713419071153,
          0.8474561093063275,
          0.5623510962783518,
          1.4472157987510164,
          1.2865518181065787,
          0.8473745953262118,
          0.847249389156177,
          1.5500323123702808,
          1.2864725598266191,
          1.3452695460310915,
          1.0904811468566884,
          1.0909617705564274,
          1.0909817818922194,
          1.536491760146438,
          0.967203653839362,
          1.286507439399716,
          1.0909597348605238,
          0.8474626730114442,
          1.2865210945221248,
          1.0909710865995788,
          1.090979986164458,
          0.7717217715758655,
          0.26774071226919555,
          2.0054368181258275,
          1.447217271252167,
          1.0909946717615968,
          1.2859881650969298,
          1.4472668898412517,
          1.5365771038370062,
          1.931278918590096,
          1.4470917048452616,
          2.00230910720301,
          1.7539406891318043,
          1.286517491676208,
          1.898409021526634,
          1.2865222067025242,
          1.4472166080741031,
          1.0909701497825968,
          1.0909618269174663,
          1.4472157987510164,
          1.2864986446091167,
          0.8474686076421903,
          1.0909740430888342,
          0.6458510923940698,
          1.090971972336362,
          1.0906991663899301,
          1.2865202915290088,
          1.0909199068840252,
          0.7731237339154664,
          1.0909750049520783,
          1.0909791736000811,
          1.2925071557230954,
          0.6039881394415217,
          1.0907712247452812,
          0.8474635707310835,
          1.286520637028615,
          1.0909758209379459,
          1.0909696205196169,
          0.7716201797102469,
          0.30454399860781006,
          1.5365774282333247,
          1.0910060615848391,
          0.7716445949051345,
          1.2864844226273975,
          1.9814019538912278,
          1.2865253633874159,
          1.4472186278305674,
          1.2864883092236783,
          1.4472267111044244,
          1.2863596722454533,
          1.0909722895808882,
          1.0909670911341511,
          1.090541310841171,
          0.495331738340497,
          1.2865125669224413,
          0.770904132508611,
          1.4472074152924446,
          1.0909430250068815,
          1.8954088679635919,
          0.5280525925170734,
          1.3452689733549008,
          1.952506197299181,
          1.5500304894185293,
          1.550009636167606,
          1.9667487144261084,
          1.8559099586082224,
          1.0732845354494305,
          1.855915123006158,
          1.348951303887717,
          1.966767559006499,
          1.2865237830061746,
          0.7716439653017982,
          1.4471901379933418,
          1.0909670350736234,
          1.0909791974538268,
          0.991739104969975,
          1.3436162377935148,
          1.2865136534882706,
          0.5351039154526568,
          1.090972723280115,
          0.36732672869176997,
          1.1025617814544446,
          0.8474705957676116,
          1.5497679753945899,
          1.4277213426098945,
          1.090970885595696,
          1.6117716875042993,
          1.2203931461811255,
          1.0909802151070607,
          0.5283782181043692,
          1.6118500060762104,
          1.2864767916207938,
          1.7538600820862098,
          1.5500978846256461,
          1.8559065685028469,
          1.0909387053647401,
          1.2306907766622948,
          1.2925079592525248,
          1.0713625594818834,
          1.0909172981596684,
          1.286521207711922,
          1.0909597756324176,
          1.0909716418517996,
          1.2924689684197281,
          1.0908596945989495,
          1.0909784966695077,
          0.9671787808402633,
          0.7723173469687936,
          1.3452648324491452,
          0.2442600094649876,
          1.0909866663796746,
          0.9671539431346291,
          0.8474622376240823,
          1.536333716890066,
          1.9667632372363963,
          1.2865127901035818,
          1.9667605171180778,
          0.9470125867343431,
          1.286512160607929,
          1.4021257628333987,
          0.7716004879710504,
          1.4438149162933358,
          1.4277303772194345,
          1.5500174406851221,
          1.0909781633386035,
          1.0909774438011588,
          0.7715481971014931,
          1.2668955230871417,
          1.4471868869381082,
          1.0909705382425823,
          1.7375235487500365,
          1.611822383717854,
          1.4471853685458482,
          0.5390270437362242,
          1.0893885495227245,
          0.8982027257458478,
          0.7716495209294161,
          0.7716315300458512,
          1.0909346674655431,
          0.9671876427712857,
          2.005090612434482,
          1.0909470617113664,
          1.0912542539982815,
          0.9671621474922545,
          0.7716271866296325,
          2.005065245865538,
          1.0909523349923165,
          1.596562115250004,
          0.43554339938473785,
          1.2922253944703732,
          1.09089916209767,
          0.5281183869018903,
          1.539185020718541,
          0.7716399099891039,
          0.8583618921482662,
          1.2925029302939652,
          1.6118455046036144,
          0.7642498576931939,
          0.6866454584585722,
          1.2924957485879023,
          1.09054359102712,
          0.9671707993438765,
          1.286514510517404,
          0.7715791379468981,
          1.4471276149443186,
          0.9829786180240796,
          0.9671442236654614,
          0.9087736434813513,
          1.0835878406434172,
          0.5351861032004541,
          0.8104866094074862,
          1.0827969308790892,
          0.9917729047646575,
          1.2924988417102574,
          0.8382649460134322,
          0.9751882556779651,
          1.6118377755692057,
          1.090976757339542,
          1.6118451633540516,
          1.292503878688396,
          1.0725496887460602,
          0.9671776337191516,
          1.0909518454526348,
          1.4020253482277856,
          2.0033203551679133,
          1.286345310464594,
          1.2865200179986271,
          1.7539721051378465,
          1.0827719068580381,
          1.2866348956418898,
          1.090893127704237,
          1.0909648873962594,
          0.5281282653874945,
          1.0909835624951272,
          1.2865059969701698,
          1.0868360474429308,
          0.8557300445586169,
          1.2863139105745047,
          1.0910004130557267,
          1.090991882211857,
          1.2865246285798841,
          1.0909571856559743,
          1.4472130939653083,
          0.8269253199294696,
          0.8474603267781003,
          1.7539308861481588,
          0.7719089291367964,
          1.0909648607714304,
          0.5351683609419708,
          3.231472513211033,
          1.8559132223745667,
          2.0338195162698147,
          1.7544196637956937,
          1.7544670166469514,
          0.5281623986190687,
          0.2649019045451294,
          1.447215793902236,
          0.7712602955442337,
          1.8010109229017448,
          0.7429500234405124,
          1.0908765253849817,
          0.7716425327268008,
          1.090945276622658
         ],
         "z": [
          -0.5082050783771276,
          -0.5084807273016637,
          -0.5341710977737879,
          -0.40341516377292924,
          -0.18732548918907593,
          -0.33741399465304084,
          -0.05005335164049739,
          -0.48716906598275134,
          -0.5082104002489334,
          -0.5083465191196439,
          -0.5082324712522266,
          -0.5082051261623893,
          -0.5082053863042906,
          -0.2736126554751375,
          -0.35358953381089847,
          0.0088752658282685,
          -0.30658223414092495,
          -0.508234145324667,
          -0.11642279568533588,
          -0.4034170824377824,
          -0.5851556802048173,
          -0.2255826537302636,
          -0.33795665714218553,
          -0.22084762183203047,
          -0.5035912869016407,
          -0.5035799500898306,
          -0.2327168274645299,
          -0.5082868334579058,
          -0.5082290518729702,
          -0.514730511160166,
          -0.116060456435743,
          -0.40341146773315517,
          0.12835818639243424,
          -0.18971123972454784,
          -0.4034125525131465,
          -0.5085723210820938,
          -0.5082239243481659,
          -0.3244367294650691,
          -0.4034134361185836,
          0.12836145650439096,
          -0.5035839428164116,
          -0.5083146598157456,
          -0.08185575916373604,
          -0.021310591998548976,
          -0.3374259414025112,
          -0.3536003031343999,
          -0.22084883131831065,
          -0.5035779462577593,
          -0.22091997515539058,
          -0.5082054050953269,
          -0.5035789224957554,
          -0.1160513008083191,
          -0.5082091942895077,
          -0.4034118043340638,
          -0.5101582175228108,
          -0.5975237018421509,
          -0.12183164315852008,
          -0.22087270351271288,
          -0.5035855375044642,
          -0.3374982463789631,
          -0.48714158371538996,
          -0.40985277881371623,
          -0.3374145246085101,
          -0.4078939573688778,
          -0.33741396808423335,
          -0.4931623443687747,
          -0.5082103002952502,
          -0.22086873159485318,
          -0.40344321369769925,
          -0.23665965922961893,
          -0.33741606158648624,
          -0.2622859473170377,
          0.008870545436449074,
          -0.40344716634152994,
          -0.3374293574201725,
          -0.337455966652729,
          -0.4909464310353651,
          -0.40342754887089993,
          -0.025667383158996814,
          -0.5085393466199312,
          -0.5082094835935398,
          -0.5082350016295095,
          -0.21623071921928577,
          -0.11624576512845851,
          -0.40341876379469527,
          -0.508221584282734,
          -0.3374137636599838,
          -0.4034118436992982,
          -0.5082072625301991,
          -0.5082055101697904,
          -0.22088053167056515,
          -0.35167332813106916,
          -0.5985251925481399,
          0.008854379348228032,
          -0.508212540331838,
          -0.4035853427462532,
          0.00884036121592857,
          -0.21621502639490411,
          -0.5191222183922016,
          0.008849495171009508,
          -0.5934506616789782,
          -0.30025704892597893,
          -0.40341784956866505,
          -0.5241631745020846,
          -0.40341262043570447,
          0.008861568456963937,
          -0.5082118360872858,
          -0.5082088424984006,
          0.008870545436449074,
          -0.4034174168110509,
          -0.33741631831684193,
          -0.5082121136540996,
          -0.10935162439089051,
          -0.508209690770163,
          -0.5082573743373137,
          -0.40341203193386777,
          -0.5082179793635008,
          -0.2308612808846372,
          -0.5082068477440617,
          -0.5082060705568855,
          -0.11052423253158136,
          -0.33523777117589143,
          -0.5082487328310483,
          -0.3374141934085653,
          -0.40341344395808765,
          -0.5082092425934708,
          -0.508206827931346,
          -0.22084764599476917,
          -0.289776790832468,
          -0.2162186245859685,
          -0.5085043110140735,
          -0.2208534432352491,
          -0.4034220613167498,
          -0.6017882293238438,
          -0.4034445233057373,
          0.008843339441063493,
          -0.4034239218745064,
          0.008756520636071964,
          -0.4034768691906891,
          -0.5082078991451193,
          -0.5082075258742047,
          -0.5082818295576651,
          -0.05582009657614732,
          -0.40341835521558134,
          -0.22106175505712478,
          0.008871695510782913,
          -0.5082178798597895,
          -0.5030845503286818,
          -0.05006736030159604,
          -0.025686149175667635,
          -0.674920160121771,
          -0.4909226529081042,
          -0.4909441652270825,
          -0.5657369658016048,
          -0.5035836097130186,
          -0.5140504092785013,
          -0.5035829033175002,
          0.0515143027405401,
          -0.565745986916144,
          -0.4034149938575395,
          -0.22084826854819814,
          0.008870918703471873,
          -0.5082131257635362,
          -0.5082063351416858,
          -0.18645185708258227,
          0.12351384419745019,
          -0.40341515322979793,
          -0.23278713158918835,
          -0.5082065380848997,
          0.011667397907205447,
          -0.5209078031548515,
          -0.33744017551461347,
          -0.4911377031760612,
          -0.4765425951586322,
          -0.5082071663073588,
          -0.3979052040178607,
          -0.03460811848966223,
          -0.5082098539204349,
          -0.05274281741058812,
          -0.3979020042578936,
          -0.4034310062700294,
          -0.3003258307599881,
          -0.4995415999132,
          -0.5036335241151156,
          -0.5082458754137428,
          -0.20356373275960302,
          -0.11052604878146301,
          -0.5131303375663688,
          -0.5082184484470069,
          -0.4034253548420332,
          -0.5082101510709198,
          -0.5082215579297237,
          -0.11053601525167238,
          -0.5084056116520512,
          -0.5082059424046286,
          -0.1160517597379131,
          -0.22832359648564568,
          -0.025662693008736578,
          -0.4036853214589287,
          -0.508275133897381,
          -0.11717340357651616,
          -0.33741470050809,
          -0.2163268530652393,
          -0.5657359011248914,
          -0.4034141672812578,
          -0.5657337400186424,
          -0.3776899566691772,
          -0.40341386593454365,
          -0.39733118352881047,
          -0.22085797529456838,
          0.013522866856723612,
          -0.47653890321792364,
          -0.490927859061088,
          -0.5082054965170968,
          -0.5082057247028432,
          -0.22094059872171,
          -0.05570543300668352,
          0.008864916208837836,
          -0.5082095768896817,
          -0.3530882780162334,
          -0.3979294728707453,
          0.008867933626404808,
          -0.03248185541692791,
          -0.5089101794669447,
          -0.11575063109738931,
          -0.22085338874034693,
          -0.22084592157314706,
          -0.5082153106011066,
          -0.11605232232260493,
          -0.5926352424494661,
          -0.5082183806848243,
          -0.5112572513896148,
          -0.11605553621344211,
          -0.22084785078592467,
          -0.5926495836225976,
          -0.5082163239723594,
          -0.1997878969521308,
          -0.4587196129275348,
          -0.11057116230691169,
          -0.5082383983327209,
          -0.050070275962066826,
          -0.16908854027695405,
          -0.22084581016438162,
          -0.3198542696636077,
          -0.11052392768016144,
          -0.39788475227757053,
          -0.22213669364899769,
          -0.27569470996471057,
          -0.11054310885726899,
          -0.5082829211085618,
          -0.11605767372530948,
          -0.40342214881899735,
          -0.22088669407692182,
          0.008858359559228332,
          -0.36934856707954633,
          -0.11605783596739527,
          -0.3550947957006392,
          -0.5098205346023017,
          -0.23271796118228785,
          -0.539604070787356,
          -0.10996953651258885,
          -0.18649913475428206,
          -0.11052683783888763,
          -0.1392851749070635,
          -0.11987997357562734,
          -0.3978950386609949,
          -0.5082099771777884,
          -0.39788856444607074,
          -0.1105221970791343,
          -0.5207993222854681,
          -0.11605083838429776,
          -0.5082160896241568,
          -0.3974090939448987,
          -0.5932172440376409,
          -0.40344708858360523,
          -0.4034190589478833,
          -0.30052261658866863,
          -0.5142973479950954,
          -0.4034654626323596,
          -0.5082211936878596,
          -0.5082138167348157,
          -0.05005231068986096,
          -0.5082072221998769,
          -0.4035469164973519,
          -0.5092281012336025,
          -0.3414198360463901,
          -0.4035981216816439,
          -0.508219583528176,
          -0.5083257322405381,
          -0.40347223073299815,
          -0.5082404062266995,
          0.008874989748760217,
          -0.03831217888479904,
          -0.3374366912239933,
          -0.3002623539014251,
          -0.22383583836855184,
          -0.5082841649458277,
          -0.23272068231627754,
          -6.52177490515285,
          -0.5035766169258673,
          -0.5928318998745186,
          -0.3004505497538831,
          -0.30047321810128463,
          -0.050348956216691,
          -0.24204151827936576,
          0.008873802010698342,
          -0.22091730427608702,
          0.18506526049789665,
          -0.18178846837599635,
          -0.508227561881406,
          -0.22084288545231745,
          -0.5082175261425967
         ]
        },
        {
         "customdata": [
          [
           "SHA-256"
          ],
          [
           "Ethash"
          ],
          [
           "Scrypt"
          ],
          [
           "CryptoNight-V7"
          ],
          [
           "Ethash"
          ],
          [
           "Equihash"
          ],
          [
           "Multiple"
          ],
          [
           "Scrypt"
          ],
          [
           "X11"
          ],
          [
           "Scrypt"
          ],
          [
           "Multiple"
          ],
          [
           "Scrypt"
          ],
          [
           "SHA-256"
          ],
          [
           "Scrypt"
          ],
          [
           "Scrypt"
          ],
          [
           "Quark"
          ],
          [
           "Groestl"
          ],
          [
           "Scrypt"
          ],
          [
           "Scrypt"
          ],
          [
           "Scrypt"
          ],
          [
           "X11"
          ],
          [
           "Multiple"
          ],
          [
           "SHA-256"
          ],
          [
           "Scrypt"
          ],
          [
           "Scrypt"
          ],
          [
           "Scrypt"
          ],
          [
           "Scrypt"
          ],
          [
           "Scrypt"
          ],
          [
           "NeoScrypt"
          ],
          [
           "Scrypt"
          ],
          [
           "Scrypt"
          ],
          [
           "Scrypt"
          ],
          [
           "Scrypt"
          ],
          [
           "SHA-256"
          ],
          [
           "Scrypt"
          ],
          [
           "Scrypt"
          ],
          [
           "Scrypt"
          ],
          [
           "Scrypt"
          ],
          [
           "HybridScryptHash256"
          ],
          [
           "Scrypt"
          ],
          [
           "Scrypt"
          ],
          [
           "SHA-256"
          ],
          [
           "Scrypt"
          ],
          [
           "Scrypt"
          ],
          [
           "Scrypt"
          ],
          [
           "Scrypt"
          ],
          [
           "SHA-256"
          ],
          [
           "SHA-256"
          ],
          [
           "SHA-256"
          ],
          [
           "SHA-256"
          ],
          [
           "SHA-256"
          ],
          [
           "X11"
          ],
          [
           "Scrypt"
          ],
          [
           "Lyra2REv2"
          ],
          [
           "Scrypt"
          ],
          [
           "SHA-256"
          ],
          [
           "CryptoNight"
          ],
          [
           "CryptoNight"
          ],
          [
           "Scrypt"
          ],
          [
           "Scrypt"
          ],
          [
           "Scrypt"
          ],
          [
           "Scrypt"
          ],
          [
           "Scrypt"
          ],
          [
           "Scrypt"
          ],
          [
           "Stanford Folding"
          ],
          [
           "Multiple"
          ],
          [
           "QuBit"
          ],
          [
           "Scrypt"
          ],
          [
           "Scrypt"
          ],
          [
           "M7 POW"
          ],
          [
           "Scrypt"
          ],
          [
           "SHA-256"
          ],
          [
           "Scrypt"
          ],
          [
           "X11"
          ],
          [
           "Lyra2RE"
          ],
          [
           "SHA-256"
          ],
          [
           "X11"
          ],
          [
           "Scrypt"
          ],
          [
           "Scrypt"
          ],
          [
           "Ethash"
          ],
          [
           "Blake2b"
          ],
          [
           "X11"
          ],
          [
           "SHA-256"
          ],
          [
           "Scrypt"
          ],
          [
           "1GB AES Pattern Search"
          ],
          [
           "Scrypt"
          ],
          [
           "SHA-256"
          ],
          [
           "X11"
          ],
          [
           "Dagger"
          ],
          [
           "Scrypt"
          ],
          [
           "X11GOST"
          ],
          [
           "Scrypt"
          ],
          [
           "ScryptOG"
          ],
          [
           "X11"
          ],
          [
           "Scrypt"
          ],
          [
           "X11"
          ],
          [
           "Equihash"
          ],
          [
           "CryptoNight"
          ],
          [
           "SHA-256"
          ],
          [
           "Multiple"
          ],
          [
           "Scrypt"
          ],
          [
           "SHA-256"
          ],
          [
           "Scrypt"
          ],
          [
           "Lyra2Z"
          ],
          [
           "Ethash"
          ],
          [
           "Equihash"
          ],
          [
           "Scrypt"
          ],
          [
           "X11"
          ],
          [
           "X11"
          ],
          [
           "CryptoNight"
          ],
          [
           "Scrypt"
          ],
          [
           "CryptoNight"
          ],
          [
           "Lyra2RE"
          ],
          [
           "X11"
          ],
          [
           "CryptoNight-V7"
          ],
          [
           "Scrypt"
          ],
          [
           "X11"
          ],
          [
           "Equihash"
          ],
          [
           "Scrypt"
          ],
          [
           "Lyra2RE"
          ],
          [
           "Dagger-Hashimoto"
          ],
          [
           "Scrypt"
          ],
          [
           "NIST5"
          ],
          [
           "Scrypt"
          ],
          [
           "SHA-256"
          ],
          [
           "Scrypt"
          ],
          [
           "CryptoNight-V7"
          ],
          [
           "Argon2d"
          ],
          [
           "Blake2b"
          ],
          [
           "Cloverhash"
          ],
          [
           "CryptoNight"
          ],
          [
           "X11"
          ],
          [
           "Scrypt"
          ],
          [
           "Scrypt"
          ],
          [
           "X11"
          ],
          [
           "X11"
          ],
          [
           "CryptoNight"
          ],
          [
           "Time Travel"
          ],
          [
           "Scrypt"
          ],
          [
           "Keccak"
          ],
          [
           "X11"
          ],
          [
           "SHA-256"
          ],
          [
           "Scrypt"
          ],
          [
           "Scrypt"
          ],
          [
           "Scrypt"
          ],
          [
           "Scrypt"
          ],
          [
           "Scrypt"
          ],
          [
           "Scrypt"
          ],
          [
           "CryptoNight"
          ],
          [
           "Equihash"
          ],
          [
           "X11"
          ],
          [
           "NeoScrypt"
          ],
          [
           "Equihash"
          ],
          [
           "Dagger"
          ],
          [
           "Scrypt"
          ],
          [
           "X11"
          ],
          [
           "NeoScrypt"
          ],
          [
           "Ethash"
          ],
          [
           "NeoScrypt"
          ],
          [
           "Multiple"
          ],
          [
           "CryptoNight"
          ],
          [
           "CryptoNight"
          ],
          [
           "Ethash"
          ],
          [
           "Scrypt"
          ],
          [
           "X11"
          ],
          [
           "CryptoNight-V7"
          ],
          [
           "Scrypt"
          ],
          [
           "BLAKE256"
          ],
          [
           "X11"
          ],
          [
           "NeoScrypt"
          ],
          [
           "NeoScrypt"
          ],
          [
           "NeoScrypt"
          ],
          [
           "Scrypt"
          ],
          [
           "X11"
          ],
          [
           "SHA-256"
          ],
          [
           "C11"
          ],
          [
           "Ethash"
          ],
          [
           "Scrypt"
          ],
          [
           "CryptoNight"
          ],
          [
           "SkunkHash"
          ],
          [
           "CryptoNight"
          ],
          [
           "Scrypt"
          ],
          [
           "Dagger"
          ],
          [
           "Lyra2REv2"
          ],
          [
           "Scrypt"
          ],
          [
           "Scrypt"
          ],
          [
           "X11"
          ],
          [
           "Ethash"
          ],
          [
           "CryptoNight"
          ],
          [
           "Scrypt"
          ],
          [
           "SHA-256"
          ],
          [
           "IMesh"
          ],
          [
           "Quark"
          ],
          [
           "Equihash"
          ],
          [
           "Lyra2Z"
          ],
          [
           "NeoScrypt"
          ],
          [
           "X11"
          ],
          [
           "CryptoNight"
          ],
          [
           "NIST5"
          ],
          [
           "Lyra2RE"
          ],
          [
           "Tribus"
          ],
          [
           "Lyra2Z"
          ],
          [
           "CryptoNight"
          ],
          [
           "CryptoNight Heavy"
          ],
          [
           "CryptoNight"
          ],
          [
           "Jump Consistent Hash"
          ],
          [
           "CryptoNight"
          ],
          [
           "SHA-512"
          ],
          [
           "X16R"
          ],
          [
           "HMQ1725"
          ],
          [
           "X11"
          ],
          [
           "Scrypt"
          ],
          [
           "Scrypt"
          ],
          [
           "CryptoNight-V7"
          ],
          [
           "Cryptonight-GPU"
          ],
          [
           "XEVAN"
          ],
          [
           "CryptoNight Heavy"
          ],
          [
           "CryptoNight"
          ],
          [
           "X11"
          ],
          [
           "SHA-256"
          ],
          [
           "X11"
          ],
          [
           "X16R"
          ],
          [
           "Equihash"
          ],
          [
           "HMQ1725"
          ],
          [
           "Lyra2Z"
          ],
          [
           "SHA-256"
          ],
          [
           "PHI1612"
          ],
          [
           "CryptoNight"
          ],
          [
           "Blake"
          ],
          [
           "Blake"
          ],
          [
           "Blake"
          ],
          [
           "Blake"
          ],
          [
           "Equihash"
          ],
          [
           "Exosis"
          ],
          [
           "Scrypt"
          ],
          [
           "Equihash"
          ],
          [
           "Equihash"
          ],
          [
           "Lyra2REv2"
          ],
          [
           "QuBit"
          ],
          [
           "SHA-256"
          ],
          [
           "X13"
          ],
          [
           "SHA-256"
          ],
          [
           "Ethash"
          ],
          [
           "Scrypt"
          ],
          [
           "NeoScrypt"
          ],
          [
           "Blake"
          ],
          [
           "Scrypt"
          ],
          [
           "SHA-256"
          ],
          [
           "Scrypt"
          ],
          [
           "Groestl"
          ],
          [
           "Scrypt"
          ],
          [
           "Scrypt"
          ],
          [
           "Multiple"
          ],
          [
           "Equihash+Scrypt"
          ],
          [
           "Lyra2Z"
          ],
          [
           "Ethash"
          ],
          [
           "Equihash"
          ],
          [
           "CryptoNight"
          ],
          [
           "Equihash"
          ]
         ],
         "hovertemplate": "<b>%{hovertext}</b><br><br>Class=%{marker.color}<br>PC1=%{x}<br>PC2=%{y}<br>PC3=%{z}<br>Algorithm=%{customdata[0]}<extra></extra>",
         "hovertext": [
          null,
          null,
          null,
          null,
          null,
          null,
          null,
          null,
          null,
          null,
          null,
          null,
          null,
          null,
          null,
          null,
          null,
          null,
          null,
          null,
          null,
          null,
          null,
          null,
          null,
          null,
          null,
          null,
          null,
          null,
          null,
          null,
          null,
          null,
          null,
          null,
          null,
          null,
          null,
          null,
          null,
          null,
          null,
          null,
          null,
          null,
          null,
          null,
          null,
          null,
          null,
          null,
          null,
          null,
          null,
          null,
          null,
          null,
          null,
          null,
          null,
          null,
          null,
          null,
          null,
          null,
          null,
          null,
          null,
          null,
          null,
          null,
          null,
          null,
          null,
          null,
          null,
          null,
          null,
          null,
          null,
          null,
          null,
          null,
          null,
          null,
          null,
          null,
          null,
          null,
          null,
          null,
          null,
          null,
          null,
          null,
          null,
          null,
          null,
          null,
          null,
          null,
          null,
          null,
          null,
          null,
          null,
          null,
          null,
          null,
          null,
          null,
          null,
          null,
          null,
          null,
          null,
          null,
          null,
          null,
          null,
          null,
          null,
          null,
          null,
          null,
          null,
          null,
          null,
          null,
          null,
          null,
          null,
          null,
          null,
          null,
          null,
          null,
          null,
          null,
          null,
          null,
          null,
          null,
          null,
          null,
          null,
          null,
          null,
          null,
          null,
          null,
          null,
          null,
          null,
          null,
          null,
          null,
          null,
          null,
          null,
          null,
          null,
          null,
          null,
          null,
          null,
          null,
          null,
          null,
          null,
          null,
          null,
          null,
          null,
          null,
          null,
          null,
          null,
          null,
          null,
          null,
          null,
          null,
          null,
          null,
          null,
          null,
          null,
          null,
          null,
          null,
          null,
          null,
          null,
          null,
          null,
          null,
          null,
          null,
          null,
          null,
          null,
          null,
          null,
          null,
          null,
          null,
          null,
          null,
          null,
          null,
          null,
          null,
          null,
          null,
          null,
          null,
          null,
          null,
          null,
          null,
          null,
          null,
          null,
          null,
          null,
          null,
          null,
          null,
          null,
          null,
          null,
          null,
          null,
          null,
          null,
          null,
          null,
          null,
          null,
          null,
          null,
          null,
          null,
          null,
          null,
          null,
          null,
          null,
          null,
          null,
          null,
          null,
          null,
          null,
          null,
          null,
          null
         ],
         "legendgroup": "1",
         "marker": {
          "color": [
           1,
           1,
           1,
           1,
           1,
           1,
           1,
           1,
           1,
           1,
           1,
           1,
           1,
           1,
           1,
           1,
           1,
           1,
           1,
           1,
           1,
           1,
           1,
           1,
           1,
           1,
           1,
           1,
           1,
           1,
           1,
           1,
           1,
           1,
           1,
           1,
           1,
           1,
           1,
           1,
           1,
           1,
           1,
           1,
           1,
           1,
           1,
           1,
           1,
           1,
           1,
           1,
           1,
           1,
           1,
           1,
           1,
           1,
           1,
           1,
           1,
           1,
           1,
           1,
           1,
           1,
           1,
           1,
           1,
           1,
           1,
           1,
           1,
           1,
           1,
           1,
           1,
           1,
           1,
           1,
           1,
           1,
           1,
           1,
           1,
           1,
           1,
           1,
           1,
           1,
           1,
           1,
           1,
           1,
           1,
           1,
           1,
           1,
           1,
           1,
           1,
           1,
           1,
           1,
           1,
           1,
           1,
           1,
           1,
           1,
           1,
           1,
           1,
           1,
           1,
           1,
           1,
           1,
           1,
           1,
           1,
           1,
           1,
           1,
           1,
           1,
           1,
           1,
           1,
           1,
           1,
           1,
           1,
           1,
           1,
           1,
           1,
           1,
           1,
           1,
           1,
           1,
           1,
           1,
           1,
           1,
           1,
           1,
           1,
           1,
           1,
           1,
           1,
           1,
           1,
           1,
           1,
           1,
           1,
           1,
           1,
           1,
           1,
           1,
           1,
           1,
           1,
           1,
           1,
           1,
           1,
           1,
           1,
           1,
           1,
           1,
           1,
           1,
           1,
           1,
           1,
           1,
           1,
           1,
           1,
           1,
           1,
           1,
           1,
           1,
           1,
           1,
           1,
           1,
           1,
           1,
           1,
           1,
           1,
           1,
           1,
           1,
           1,
           1,
           1,
           1,
           1,
           1,
           1,
           1,
           1,
           1,
           1,
           1,
           1,
           1,
           1,
           1,
           1,
           1,
           1,
           1,
           1,
           1,
           1,
           1,
           1,
           1,
           1,
           1,
           1,
           1,
           1,
           1,
           1,
           1,
           1,
           1,
           1,
           1,
           1,
           1,
           1,
           1,
           1,
           1,
           1,
           1,
           1,
           1,
           1,
           1,
           1,
           1,
           1,
           1,
           1,
           1,
           1
          ],
          "coloraxis": "coloraxis",
          "symbol": "diamond"
         },
         "mode": "markers",
         "name": "1",
         "scene": "scene",
         "showlegend": true,
         "type": "scatter3d",
         "x": [
          -0.13675183210127215,
          -0.13029783886395893,
          -0.15810535400678416,
          -0.14920340502053775,
          -0.12867758864679665,
          -0.17573753553207366,
          0.1858039623086112,
          -0.15929878820486673,
          -0.21980099066043066,
          -0.15889986970086428,
          -0.0779588236929716,
          2.6711087338953416,
          -0.1337165733534298,
          -0.15604279489233644,
          -0.1586962104501093,
          -0.22071281432987142,
          -0.20152454422243507,
          -0.15874624935788448,
          -0.15928030940107946,
          -0.15937027749789606,
          -0.21989405524535782,
          0.21061758459276567,
          0.2566482511734367,
          0.09960350098747905,
          -0.15910603525978637,
          -0.15453097224513765,
          -0.15904294500454186,
          -0.15942964590371675,
          -0.16680699430382634,
          -0.13780054702441624,
          -0.15817503129782767,
          -0.15846416549587594,
          1.6615689751433926,
          -0.1367115790596495,
          -0.1556426212070806,
          -0.15913357234146708,
          -0.15950300731372447,
          -0.15873175811797827,
          -0.1439695005772224,
          -0.1593794171991171,
          -0.018836356056652768,
          -0.1367924492206663,
          -0.1527821421470972,
          -0.15935816075296552,
          -0.15737590646618893,
          -0.15882380179676805,
          -0.12341797332013037,
          -0.1362340873333131,
          -0.13653327932558287,
          -0.1365161217073707,
          -0.13713043692746663,
          -0.22007498215637789,
          -0.1590627729187252,
          -0.1699563357905807,
          -0.15604793899696753,
          -0.13630417818347448,
          4.013864579576381,
          0.47261747571718,
          -0.15788404273358486,
          -0.14185981058985556,
          -0.15654997353948244,
          -0.1595053286560623,
          -0.1564092484661445,
          -0.1420669293633202,
          -0.1198411364269037,
          -0.11336356673211767,
          -0.1792952797455959,
          -0.1593730867667169,
          -0.027124997401587046,
          -0.07782747106982349,
          -0.15951456444543666,
          -0.13682139340937993,
          0.5186472546228853,
          -0.21943692686401395,
          -0.13000364263611372,
          -0.1365508231291934,
          -0.21973361081244655,
          -0.15756270198880287,
          -0.1567216164434454,
          -0.1314103854609452,
          0.4070700991393496,
          -0.21977041894453972,
          -0.1367127485502702,
          -0.15530580783486767,
          -0.1354988523775673,
          -0.15801883310195347,
          0.29902213333125466,
          -0.21889691511887177,
          -0.13969460945817255,
          -0.15827792195933527,
          -0.15058520104165404,
          -0.15929594422072568,
          -0.1324319349025845,
          -0.21973225420289214,
          -0.1595146253514484,
          -0.21988852422500477,
          -0.36429903586401435,
          0.3111585639937868,
          -0.13698358764183788,
          -0.09261714612649301,
          -0.15656534032875855,
          -0.1369404933114124,
          -0.15916433077530684,
          -0.07011185673272115,
          -0.13114185282489738,
          -0.17576006054453328,
          -0.08331375973927106,
          -0.20591548054602365,
          -0.21762851443592676,
          0.3111525252334187,
          -0.15949562780714707,
          0.31128867116875686,
          -0.1305659453835191,
          0.5238899141186514,
          -0.14791901557931403,
          -0.1594625926839552,
          -0.21233210925081783,
          -0.17577289476389762,
          -0.1575189105129414,
          -0.13027266286369704,
          -0.15692911032195894,
          -0.129225313825577,
          -0.18456387700081045,
          -0.15900707426244462,
          -0.10193189079486037,
          -0.1588222161001375,
          -0.1477695686120945,
          -0.12114602135611811,
          -0.010051648552514876,
          -0.13235883924638867,
          0.34876186453974334,
          -0.21890590271548682,
          -0.15915409130164462,
          -0.15890837459094745,
          -0.21931655633589786,
          -0.21991764216227916,
          0.31156360498342217,
          -0.15178997531229735,
          3.3903799158260726,
          -0.10086438599636488,
          -0.21042269931562507,
          -0.13675096121382543,
          -0.08212064374357579,
          1.6608830654702924,
          -0.15925605956780622,
          -0.15868563668053937,
          -0.15837429375465667,
          -0.15836067575003865,
          0.3117544000858962,
          0.04515478427764401,
          -0.17241561810858688,
          -0.17168800359551453,
          -0.17561254023248524,
          -0.13840349167589516,
          -0.15751704444823986,
          -0.2152799256619117,
          -0.1715271942658686,
          -0.12944222220292023,
          -0.17163140890469694,
          -0.10319506260925783,
          1.1830071372306559,
          0.31113469954939693,
          -0.051323421323850385,
          -0.1587165303961603,
          -0.21501366576184003,
          -0.13643782703346827,
          -0.07220729529915626,
          1.1651929151316842,
          -0.21989056224096337,
          -0.17168536909244297,
          -0.1716534864105011,
          -0.16443804787282096,
          -0.15847626534309414,
          -0.219812884953156,
          -0.13672948066087834,
          -0.20072264136876258,
          -0.2500218913734855,
          -0.15912567292222293,
          8.358878551827072,
          -0.14392112743907923,
          0.31516697938334254,
          0.041482923150674485,
          -0.13788499064919138,
          -0.15492313355158932,
          -0.15907372546710533,
          0.1606231095286867,
          -0.21371490387486336,
          -0.08060220870495023,
          0.3193757093021137,
          -0.15932040422077207,
          -0.0330433729929264,
          -0.15982480871617544,
          -0.2256362850545656,
          -0.17456199469817774,
          -0.06780648012186555,
          -0.17172824877472653,
          -0.218948387753461,
          0.3113247955464722,
          -0.18462542420165537,
          -0.13040492942919957,
          -0.2116210841890648,
          -0.07019961259620651,
          0.3154092187759592,
          0.6251942867764385,
          2.19299209140198,
          -0.13230700233342016,
          0.3254863610539854,
          -0.17884913332897812,
          -0.17686524616133362,
          -0.1386621813103677,
          -0.21987199125539486,
          -0.15934603530985275,
          -0.1487294888142347,
          -0.13632400618895596,
          -0.16698435107661094,
          -0.09737921619755203,
          3.2509215998163503,
          0.3245236031291392,
          -0.21938178182533588,
          -0.09492274996418945,
          -0.21984221458759448,
          -0.1762701090094109,
          -0.06605226997426795,
          -0.1364390477322058,
          -0.06957317946373354,
          -0.13675100035718152,
          -0.19734315098861377,
          0.3943133296068189,
          -0.13224211380926484,
          -0.13186410802273046,
          -0.13227139102839436,
          -0.0807514478612531,
          -0.2934265798069096,
          -0.12083423444978056,
          -0.15819328444196432,
          -0.17359481659030682,
          -0.1754384862395797,
          -0.17090901545003384,
          -0.17847462275899748,
          -0.13599738784452978,
          -0.10044185391723816,
          -0.13481934775641616,
          0.06934132951328628,
          0.5643192782564712,
          -0.09376776799097543,
          -0.08076163317684955,
          -0.14222384075729422,
          -0.13653262333276497,
          0.5856361205234034,
          -0.20106742194876628,
          -0.15942584258608472,
          -0.15729836163661565,
          -0.11412936290626507,
          -0.10915135384807348,
          -0.06829762931645697,
          -0.13117637819041914,
          -0.36865041184408026,
          0.33378472993310804,
          -0.175738636876543
         ],
         "y": [
          -1.3459034375708354,
          -2.0826421825981942,
          -1.1024025657008443,
          -2.2500894600153196,
          -2.082731524812791,
          -2.060109671048413,
          -1.8735954066321148,
          -1.1024016013593543,
          -0.9068556424805626,
          -1.1024174422859037,
          -1.8697919872057303,
          -1.2705893121961385,
          -1.3458978045492822,
          -1.1024446314741392,
          -1.1024354647336976,
          -0.5815166589477135,
          -1.2174531153499228,
          -1.1024006319634194,
          -1.1024009263680004,
          -1.1023986535761028,
          -0.9068576273935389,
          -1.869545206826824,
          -1.3463711680656305,
          -1.1024777318432206,
          -1.1023945605047136,
          -1.1024246244775855,
          -1.102400035911814,
          -1.1023994754049797,
          -1.6582301178939685,
          -1.1026062169783135,
          -1.1023952090969191,
          -1.102407358867652,
          -1.0999529044564664,
          -1.3459019672129462,
          -1.102440920636426,
          -1.1023948591066002,
          -1.1023951632112967,
          -1.1023957416081906,
          -2.1855972902837353,
          -1.1023967666050438,
          -1.1078649912248921,
          -1.3459049212277252,
          -1.1023870591816827,
          -1.1024037701121103,
          -1.1024933272012394,
          -1.1024056106432352,
          -1.3460295823869148,
          -1.345902922917384,
          -1.345910306953819,
          -1.34593655644726,
          -1.345902591365729,
          -0.906851505425059,
          -1.1023943947616583,
          -1.5067249127978763,
          -1.1024557260322183,
          -1.3459040601841528,
          -2.334275331711583,
          -2.3402341230445134,
          -1.1024094191940648,
          -1.1029379520300109,
          -1.102404020034042,
          -1.1023961518948624,
          -1.1023943630264812,
          -1.102464574669473,
          -2.3164631781385623,
          -1.8696707089369722,
          -1.589362595483502,
          -1.1023918471195062,
          -1.1046314122884688,
          -2.1839787841769907,
          -1.1023950686930921,
          -1.3459059784973064,
          -1.1426915778992968,
          -0.9068515385032312,
          -2.232927711843025,
          -1.3459192652758827,
          -0.9068538885072641,
          -1.1024720294256594,
          -1.1024694273799363,
          -2.082694778928051,
          -2.2059342024560133,
          -0.9068516966845958,
          -1.345902009931948,
          -1.1023894201434095,
          -2.1620032150519717,
          -1.1023994052764223,
          -1.3452662888540308,
          -0.9068678837466901,
          -2.2919043555748937,
          -1.1024685283062765,
          -2.250424776792012,
          -1.1024007902055986,
          -2.1526970377897787,
          -0.9068566680294897,
          -1.1023950687748338,
          -0.9068623762406403,
          -1.5180232493455224,
          -2.3390662552638695,
          -1.3459039364284298,
          -1.8697616092543607,
          -1.1024283554926855,
          -1.3459030004517714,
          -1.1024030553374018,
          -1.889832727305415,
          -2.0826915469981864,
          -2.060110493839155,
          -1.1066838681298026,
          -0.9066879235176143,
          -0.9069233985168689,
          -2.339074255806708,
          -1.1023958585709268,
          -2.339072111761879,
          -2.2329087936593983,
          -0.9504029590460861,
          -2.2501733887821165,
          -1.1023951085617614,
          -0.9072759438363153,
          -2.0601081335695746,
          -1.1023924604739042,
          -2.2329058606339465,
          -2.221408058955812,
          -1.1041173050115598,
          -0.6433576672373216,
          -1.102401215500025,
          -1.3463848592866587,
          -1.102420263917791,
          -2.2501113482769504,
          -2.130962603718023,
          -2.2214114428847966,
          -2.282591938758061,
          -2.339100152217744,
          -0.9068795283495931,
          -1.1023950971235306,
          -1.10242553291121,
          -0.9068662378890704,
          -0.9068591255155525,
          -2.3390825798181267,
          -2.2301149218450784,
          -1.1141783584480143,
          -1.2113854113583893,
          -0.9072769240643327,
          -1.3459034057591799,
          -1.1069939206785835,
          -1.0358993814411122,
          -1.102399333304157,
          -1.102423762191274,
          -1.1024237058022939,
          -1.1024232083655827,
          -2.3391002863107127,
          -2.066878742809117,
          -0.9063836946688307,
          -1.6581898646269544,
          -2.060105105236281,
          -2.291946526637087,
          -1.102392392310534,
          -0.9069238963966421,
          -1.658196721447844,
          -2.082808964083377,
          -1.6581911922349506,
          -1.8697660727207857,
          -2.3673302817214594,
          -2.339068895153885,
          -2.086830106001763,
          -1.1024362069780582,
          -0.9070556243036649,
          -2.2503300629974663,
          -1.1027418272777678,
          -1.2596706281444134,
          -0.9068587728858544,
          -1.6581855247797412,
          -1.6581921401330415,
          -1.6582595774528646,
          -1.1024019689207263,
          -0.9068581987609621,
          -1.3459020312579146,
          -1.2463628763321273,
          -0.20865421383834276,
          -1.1023973996339194,
          -2.7523621790474744,
          -2.1980323503398544,
          -2.3391504061022577,
          -1.102125311042582,
          -2.291887762888128,
          -1.506894367307553,
          -1.102406818409136,
          -1.103719370549739,
          -0.9069728198439313,
          -2.0854241560107223,
          -2.339466296823445,
          -1.1024023909463867,
          -1.34920460960726,
          -2.282126452935312,
          -0.5815302182326272,
          -2.060101387229397,
          -1.8899455619700172,
          -1.6581870910832284,
          -0.9068810802375635,
          -2.3390661242394155,
          -0.6433406409287877,
          -2.232914426430634,
          -1.2845929177204471,
          -1.8898282236073694,
          -2.33932827701418,
          -2.2294462043429433,
          -2.4004573200125687,
          -2.2148281076746827,
          -2.3392430877268096,
          -0.8824814547782539,
          -1.3349991810573196,
          -2.2027297877645937,
          -0.906858943250181,
          -1.1024041089138281,
          -1.1027079437791372,
          -2.2508567238753514,
          -2.289056469223672,
          -0.7913074458321208,
          -2.2638978119236692,
          -2.3392782552237326,
          -0.9068615477466,
          -1.3458459226687818,
          -0.9068606846481958,
          -1.335032555411701,
          -2.0614634941478074,
          -2.202780133476075,
          -1.8898573256156705,
          -1.3459034071890021,
          -0.7656519453911229,
          -2.3417364501467763,
          -2.240854334801265,
          -2.240900022530073,
          -2.2408583951351857,
          -2.2439095212637508,
          -0.18610563398831598,
          -2.1649986819454625,
          -1.1024312392989581,
          -2.0602024197494946,
          -2.0601057394765823,
          -1.5067234292538814,
          -1.58940334553837,
          -1.345906291898692,
          -0.33746133572343306,
          -1.3459368165861478,
          -2.082422479594005,
          -1.1453376174620304,
          -1.6581535843608006,
          -2.2439098933116406,
          -1.102470306308572,
          -1.3459102829917982,
          -1.1105393162890824,
          -1.217451270297141,
          -1.1023949260802173,
          -1.1024424003569073,
          -1.8697006621939458,
          -2.3574700986192347,
          -1.8898998483878633,
          -2.082691593334451,
          -1.4315123886369454,
          -2.3392230310555604,
          -2.060109711278182
         ],
         "z": [
          0.13060870350543846,
          0.3133504270845678,
          -0.040199223108105295,
          0.4002927959355206,
          0.31333306938546607,
          0.45467712742312794,
          0.3048993632005415,
          -0.040181646699916015,
          0.06461084304403367,
          -0.04018637515308154,
          0.3085186697949787,
          -0.06960847364230509,
          0.13056340402252178,
          -0.04022661457353596,
          -0.04018805505955309,
          0.0700665796181995,
          0.11442039560606017,
          -0.04018988888218562,
          -0.04018196982593908,
          -0.04018080737581659,
          0.06461236588089539,
          0.30423317117676346,
          0.12482594094984571,
          -0.044004485791590976,
          -0.04018501723695371,
          -0.0402504486390536,
          -0.04018554559811345,
          -0.04017986875352555,
          0.23523830420706407,
          -0.04048442864826964,
          -0.04019873634248635,
          -0.040193563094205555,
          -0.06728828597690184,
          0.1306079996284235,
          -0.040232806250056714,
          -0.04018458797459677,
          -0.04017910256096533,
          -0.04019046451244812,
          0.28955756441835834,
          -0.04018081165099385,
          -0.04185502094131603,
          0.13060941374882948,
          -0.04027908477071858,
          -0.04018060849335399,
          -0.04020330337622487,
          -0.04018837422119835,
          0.13042085254273383,
          0.13060100943397077,
          0.1306059792739084,
          0.1306076651110847,
          0.13061423952101991,
          0.06461458895349524,
          -0.04018566921652469,
          0.19232077780909232,
          -0.04022571873903431,
          0.13060212991962797,
          0.2415149765974023,
          0.29432072901171197,
          -0.040201989304431925,
          -0.04039989151345319,
          -0.04022211551719272,
          -0.04017899518163664,
          -0.04022491000801928,
          -0.04043180622297532,
          0.36994941965360545,
          0.30903324900021295,
          0.132799907443943,
          -0.04018126875740825,
          -0.04197138065992119,
          0.25429450348581106,
          -0.04017893864612604,
          0.13060991987577888,
          -0.04722964341289269,
          0.06460515628632124,
          0.34185438278938685,
          0.13060690062181068,
          0.06460971707886161,
          -0.04020211484974379,
          -0.04021474449197088,
          0.3133707649347841,
          0.3868665798912705,
          0.06461009941969358,
          0.13060802007849467,
          -0.04024159213448101,
          0.3520566248027152,
          -0.04020073603915095,
          0.12411770733949609,
          0.06459837870942815,
          0.3461958402536206,
          -0.040191797376282395,
          0.37080149306103316,
          -0.04018174869018178,
          0.3763775009297227,
          0.06460990239472336,
          -0.040178937739451075,
          0.06461263498019522,
          0.807095795443175,
          0.29662197671176227,
          0.13061216740293477,
          0.30873318212048634,
          -0.04022009015837918,
          0.13061146099590462,
          -0.040183527528321515,
          0.23611331875473443,
          0.31336655525925866,
          0.45467752130239514,
          -0.040988846751121716,
          0.06439312131529178,
          0.06458372443284721,
          0.29662265716174363,
          -0.04017916030438984,
          0.29662048551016884,
          0.3418612998776068,
          0.056831339700822145,
          0.40028000471362163,
          -0.04017970422198961,
          0.06453145419422737,
          0.45467753668753386,
          -0.04020864168686022,
          0.34185674630405366,
          0.3650854886328348,
          -0.04049958018166339,
          -0.022900584282511585,
          -0.04018598887059545,
          0.1301293826171759,
          -0.04018731495182508,
          0.400273210679138,
          0.2797373857026494,
          0.3941782815176636,
          0.31578863563118914,
          0.2960684302616678,
          0.06459937202110334,
          -0.04018426696783586,
          -0.04018565157960062,
          0.06460446245657293,
          0.0646128253624885,
          0.2966171934584255,
          0.3686912437030439,
          -0.09180161563232589,
          0.0978248163976563,
          0.0645032916160497,
          0.13060868827683414,
          -0.040983580198876275,
          -0.07201100156243696,
          -0.040182446125439385,
          -0.04018907610753443,
          -0.04019368419349262,
          -0.040193922322092505,
          0.29661568043224684,
          0.4519108884584418,
          0.06387526979412693,
          0.23530750684879692,
          0.4546749417170334,
          0.34617986409779317,
          -0.040208674317439096,
          0.06454903194770957,
          0.23530563555838704,
          0.313350098166195,
          0.23530676806224074,
          0.30888993068459314,
          0.2858180993983138,
          0.29662252466146666,
          0.3124920511096045,
          -0.04018769973875246,
          0.06455482794314037,
          0.4001218055210381,
          -0.041444355230238414,
          0.04458212937278289,
          0.0646123988682291,
          0.2353071472241415,
          0.23530716456816742,
          0.23520545064019624,
          -0.040193782428631177,
          0.06461120780974361,
          0.1306082690768927,
          0.09033593988188228,
          0.13270988567414552,
          -0.04018451706830921,
          0.20815604539399346,
          0.3969401239809127,
          0.2965689209255726,
          -0.04317107977323668,
          0.34616785486900187,
          0.1921109982698874,
          -0.04018458928561314,
          -0.04481505710275774,
          0.06452950442057558,
          0.31282112074583834,
          0.29653002608511075,
          -0.040181268715640824,
          0.1293190567057394,
          0.3812582915230828,
          0.07014038631164264,
          0.45465913227095106,
          0.23608756572653755,
          0.23530789703139973,
          0.0646001149274906,
          0.29661950891561456,
          -0.022900932224872425,
          0.34185933508782795,
          0.11293318406898274,
          0.23611428365222364,
          0.296578481585256,
          0.2715878708098542,
          0.2733308824435918,
          0.31957079494394336,
          0.2964231733568906,
          -0.0058304263599117485,
          0.14818309996403628,
          0.29621626709952453,
          0.06461213684167268,
          -0.04018076276208787,
          -0.040315302667681255,
          0.40015903692659094,
          0.4153126975608676,
          0.07068045651400513,
          0.23530606758323083,
          0.2964400084368564,
          0.06460508041457988,
          0.1299859148385207,
          0.06461182519569078,
          0.1481767654975281,
          0.4531552119325947,
          0.2961871129695999,
          0.23610717072296122,
          0.1306086889613067,
          -0.008517837354370571,
          0.2955896410781341,
          0.3834162937046373,
          0.38341407984787607,
          0.3834170266499814,
          0.3828806311150337,
          0.2740053064748095,
          0.29857572931612786,
          -0.04019580418801746,
          0.45465229552759623,
          0.4546724147928992,
          0.19233475574568837,
          0.1327907831333081,
          0.13059775822006345,
          -0.03555067274890914,
          0.13058259363700142,
          0.3103820703169719,
          -0.04770949553068761,
          0.23415259668792082,
          0.3828808092185821,
          -0.04042906242227852,
          0.1306059678030171,
          -0.05059592973636171,
          0.11441349967521458,
          -0.040180261139897304,
          -0.04020821299405012,
          0.3090467862732428,
          0.4131371404746882,
          0.23609145075787316,
          0.31336706921973995,
          0.8515663967570651,
          0.29629898096556995,
          0.4546771466815747
         ]
        },
        {
         "customdata": [
          [
           "VeChainThor Authority"
          ],
          [
           "Proof-of-BibleHash"
          ],
          [
           "SHA-256 + Hive"
          ],
          [
           "Proof-of-Authority"
          ],
          [
           "ECC 256K1"
          ],
          [
           "Leased POS"
          ]
         ],
         "hovertemplate": "<b>%{hovertext}</b><br><br>Class=%{marker.color}<br>PC1=%{x}<br>PC2=%{y}<br>PC3=%{z}<br>Algorithm=%{customdata[0]}<extra></extra>",
         "hovertext": [
          null,
          null,
          null,
          null,
          null,
          null
         ],
         "legendgroup": "0",
         "marker": {
          "color": [
           0,
           0,
           0,
           0,
           0,
           0
          ],
          "coloraxis": "coloraxis",
          "symbol": "square"
         },
         "mode": "markers",
         "name": "0",
         "scene": "scene",
         "showlegend": true,
         "type": "scatter3d",
         "x": [
          4.675652711077957,
          -0.12374822679259138,
          -0.4295788698169529,
          -0.3373189667358909,
          -0.17143130520725755,
          -0.44232097245190277
         ],
         "y": [
          2.7125684267081462,
          3.121967773344644,
          2.860034472740444,
          3.274740677732295,
          3.4810345577854473,
          3.0416022613930322
         ],
         "z": [
          6.862287651515755,
          10.824733326201505,
          17.99792078236436,
          14.900176790122737,
          7.276323533053133,
          17.145034900662424
         ]
        },
        {
         "customdata": [
          [
           "TRC10"
          ]
         ],
         "hovertemplate": "<b>%{hovertext}</b><br><br>Class=%{marker.color}<br>PC1=%{x}<br>PC2=%{y}<br>PC3=%{z}<br>Algorithm=%{customdata[0]}<extra></extra>",
         "hovertext": [
          null
         ],
         "legendgroup": "2",
         "marker": {
          "color": [
           2
          ],
          "coloraxis": "coloraxis",
          "symbol": "x"
         },
         "mode": "markers",
         "name": "2",
         "scene": "scene",
         "showlegend": true,
         "type": "scatter3d",
         "x": [
          35.47860952331681
         ],
         "y": [
          1.8287588093413594
         ],
         "z": [
          -0.8111564084398516
         ]
        }
       ],
       "layout": {
        "coloraxis": {
         "colorbar": {
          "title": {
           "text": "Class"
          }
         },
         "colorscale": [
          [
           0,
           "#0d0887"
          ],
          [
           0.1111111111111111,
           "#46039f"
          ],
          [
           0.2222222222222222,
           "#7201a8"
          ],
          [
           0.3333333333333333,
           "#9c179e"
          ],
          [
           0.4444444444444444,
           "#bd3786"
          ],
          [
           0.5555555555555556,
           "#d8576b"
          ],
          [
           0.6666666666666666,
           "#ed7953"
          ],
          [
           0.7777777777777778,
           "#fb9f3a"
          ],
          [
           0.8888888888888888,
           "#fdca26"
          ],
          [
           1,
           "#f0f921"
          ]
         ]
        },
        "legend": {
         "title": {
          "text": "Class"
         },
         "tracegroupgap": 0,
         "x": 0,
         "y": 1
        },
        "margin": {
         "t": 60
        },
        "scene": {
         "domain": {
          "x": [
           0,
           1
          ],
          "y": [
           0,
           1
          ]
         },
         "xaxis": {
          "title": {
           "text": "PC1"
          }
         },
         "yaxis": {
          "title": {
           "text": "PC2"
          }
         },
         "zaxis": {
          "title": {
           "text": "PC3"
          }
         }
        },
        "template": {
         "data": {
          "bar": [
           {
            "error_x": {
             "color": "#2a3f5f"
            },
            "error_y": {
             "color": "#2a3f5f"
            },
            "marker": {
             "line": {
              "color": "#E5ECF6",
              "width": 0.5
             },
             "pattern": {
              "fillmode": "overlay",
              "size": 10,
              "solidity": 0.2
             }
            },
            "type": "bar"
           }
          ],
          "barpolar": [
           {
            "marker": {
             "line": {
              "color": "#E5ECF6",
              "width": 0.5
             },
             "pattern": {
              "fillmode": "overlay",
              "size": 10,
              "solidity": 0.2
             }
            },
            "type": "barpolar"
           }
          ],
          "carpet": [
           {
            "aaxis": {
             "endlinecolor": "#2a3f5f",
             "gridcolor": "white",
             "linecolor": "white",
             "minorgridcolor": "white",
             "startlinecolor": "#2a3f5f"
            },
            "baxis": {
             "endlinecolor": "#2a3f5f",
             "gridcolor": "white",
             "linecolor": "white",
             "minorgridcolor": "white",
             "startlinecolor": "#2a3f5f"
            },
            "type": "carpet"
           }
          ],
          "choropleth": [
           {
            "colorbar": {
             "outlinewidth": 0,
             "ticks": ""
            },
            "type": "choropleth"
           }
          ],
          "contour": [
           {
            "colorbar": {
             "outlinewidth": 0,
             "ticks": ""
            },
            "colorscale": [
             [
              0,
              "#0d0887"
             ],
             [
              0.1111111111111111,
              "#46039f"
             ],
             [
              0.2222222222222222,
              "#7201a8"
             ],
             [
              0.3333333333333333,
              "#9c179e"
             ],
             [
              0.4444444444444444,
              "#bd3786"
             ],
             [
              0.5555555555555556,
              "#d8576b"
             ],
             [
              0.6666666666666666,
              "#ed7953"
             ],
             [
              0.7777777777777778,
              "#fb9f3a"
             ],
             [
              0.8888888888888888,
              "#fdca26"
             ],
             [
              1,
              "#f0f921"
             ]
            ],
            "type": "contour"
           }
          ],
          "contourcarpet": [
           {
            "colorbar": {
             "outlinewidth": 0,
             "ticks": ""
            },
            "type": "contourcarpet"
           }
          ],
          "heatmap": [
           {
            "colorbar": {
             "outlinewidth": 0,
             "ticks": ""
            },
            "colorscale": [
             [
              0,
              "#0d0887"
             ],
             [
              0.1111111111111111,
              "#46039f"
             ],
             [
              0.2222222222222222,
              "#7201a8"
             ],
             [
              0.3333333333333333,
              "#9c179e"
             ],
             [
              0.4444444444444444,
              "#bd3786"
             ],
             [
              0.5555555555555556,
              "#d8576b"
             ],
             [
              0.6666666666666666,
              "#ed7953"
             ],
             [
              0.7777777777777778,
              "#fb9f3a"
             ],
             [
              0.8888888888888888,
              "#fdca26"
             ],
             [
              1,
              "#f0f921"
             ]
            ],
            "type": "heatmap"
           }
          ],
          "heatmapgl": [
           {
            "colorbar": {
             "outlinewidth": 0,
             "ticks": ""
            },
            "colorscale": [
             [
              0,
              "#0d0887"
             ],
             [
              0.1111111111111111,
              "#46039f"
             ],
             [
              0.2222222222222222,
              "#7201a8"
             ],
             [
              0.3333333333333333,
              "#9c179e"
             ],
             [
              0.4444444444444444,
              "#bd3786"
             ],
             [
              0.5555555555555556,
              "#d8576b"
             ],
             [
              0.6666666666666666,
              "#ed7953"
             ],
             [
              0.7777777777777778,
              "#fb9f3a"
             ],
             [
              0.8888888888888888,
              "#fdca26"
             ],
             [
              1,
              "#f0f921"
             ]
            ],
            "type": "heatmapgl"
           }
          ],
          "histogram": [
           {
            "marker": {
             "pattern": {
              "fillmode": "overlay",
              "size": 10,
              "solidity": 0.2
             }
            },
            "type": "histogram"
           }
          ],
          "histogram2d": [
           {
            "colorbar": {
             "outlinewidth": 0,
             "ticks": ""
            },
            "colorscale": [
             [
              0,
              "#0d0887"
             ],
             [
              0.1111111111111111,
              "#46039f"
             ],
             [
              0.2222222222222222,
              "#7201a8"
             ],
             [
              0.3333333333333333,
              "#9c179e"
             ],
             [
              0.4444444444444444,
              "#bd3786"
             ],
             [
              0.5555555555555556,
              "#d8576b"
             ],
             [
              0.6666666666666666,
              "#ed7953"
             ],
             [
              0.7777777777777778,
              "#fb9f3a"
             ],
             [
              0.8888888888888888,
              "#fdca26"
             ],
             [
              1,
              "#f0f921"
             ]
            ],
            "type": "histogram2d"
           }
          ],
          "histogram2dcontour": [
           {
            "colorbar": {
             "outlinewidth": 0,
             "ticks": ""
            },
            "colorscale": [
             [
              0,
              "#0d0887"
             ],
             [
              0.1111111111111111,
              "#46039f"
             ],
             [
              0.2222222222222222,
              "#7201a8"
             ],
             [
              0.3333333333333333,
              "#9c179e"
             ],
             [
              0.4444444444444444,
              "#bd3786"
             ],
             [
              0.5555555555555556,
              "#d8576b"
             ],
             [
              0.6666666666666666,
              "#ed7953"
             ],
             [
              0.7777777777777778,
              "#fb9f3a"
             ],
             [
              0.8888888888888888,
              "#fdca26"
             ],
             [
              1,
              "#f0f921"
             ]
            ],
            "type": "histogram2dcontour"
           }
          ],
          "mesh3d": [
           {
            "colorbar": {
             "outlinewidth": 0,
             "ticks": ""
            },
            "type": "mesh3d"
           }
          ],
          "parcoords": [
           {
            "line": {
             "colorbar": {
              "outlinewidth": 0,
              "ticks": ""
             }
            },
            "type": "parcoords"
           }
          ],
          "pie": [
           {
            "automargin": true,
            "type": "pie"
           }
          ],
          "scatter": [
           {
            "marker": {
             "colorbar": {
              "outlinewidth": 0,
              "ticks": ""
             }
            },
            "type": "scatter"
           }
          ],
          "scatter3d": [
           {
            "line": {
             "colorbar": {
              "outlinewidth": 0,
              "ticks": ""
             }
            },
            "marker": {
             "colorbar": {
              "outlinewidth": 0,
              "ticks": ""
             }
            },
            "type": "scatter3d"
           }
          ],
          "scattercarpet": [
           {
            "marker": {
             "colorbar": {
              "outlinewidth": 0,
              "ticks": ""
             }
            },
            "type": "scattercarpet"
           }
          ],
          "scattergeo": [
           {
            "marker": {
             "colorbar": {
              "outlinewidth": 0,
              "ticks": ""
             }
            },
            "type": "scattergeo"
           }
          ],
          "scattergl": [
           {
            "marker": {
             "colorbar": {
              "outlinewidth": 0,
              "ticks": ""
             }
            },
            "type": "scattergl"
           }
          ],
          "scattermapbox": [
           {
            "marker": {
             "colorbar": {
              "outlinewidth": 0,
              "ticks": ""
             }
            },
            "type": "scattermapbox"
           }
          ],
          "scatterpolar": [
           {
            "marker": {
             "colorbar": {
              "outlinewidth": 0,
              "ticks": ""
             }
            },
            "type": "scatterpolar"
           }
          ],
          "scatterpolargl": [
           {
            "marker": {
             "colorbar": {
              "outlinewidth": 0,
              "ticks": ""
             }
            },
            "type": "scatterpolargl"
           }
          ],
          "scatterternary": [
           {
            "marker": {
             "colorbar": {
              "outlinewidth": 0,
              "ticks": ""
             }
            },
            "type": "scatterternary"
           }
          ],
          "surface": [
           {
            "colorbar": {
             "outlinewidth": 0,
             "ticks": ""
            },
            "colorscale": [
             [
              0,
              "#0d0887"
             ],
             [
              0.1111111111111111,
              "#46039f"
             ],
             [
              0.2222222222222222,
              "#7201a8"
             ],
             [
              0.3333333333333333,
              "#9c179e"
             ],
             [
              0.4444444444444444,
              "#bd3786"
             ],
             [
              0.5555555555555556,
              "#d8576b"
             ],
             [
              0.6666666666666666,
              "#ed7953"
             ],
             [
              0.7777777777777778,
              "#fb9f3a"
             ],
             [
              0.8888888888888888,
              "#fdca26"
             ],
             [
              1,
              "#f0f921"
             ]
            ],
            "type": "surface"
           }
          ],
          "table": [
           {
            "cells": {
             "fill": {
              "color": "#EBF0F8"
             },
             "line": {
              "color": "white"
             }
            },
            "header": {
             "fill": {
              "color": "#C8D4E3"
             },
             "line": {
              "color": "white"
             }
            },
            "type": "table"
           }
          ]
         },
         "layout": {
          "annotationdefaults": {
           "arrowcolor": "#2a3f5f",
           "arrowhead": 0,
           "arrowwidth": 1
          },
          "autotypenumbers": "strict",
          "coloraxis": {
           "colorbar": {
            "outlinewidth": 0,
            "ticks": ""
           }
          },
          "colorscale": {
           "diverging": [
            [
             0,
             "#8e0152"
            ],
            [
             0.1,
             "#c51b7d"
            ],
            [
             0.2,
             "#de77ae"
            ],
            [
             0.3,
             "#f1b6da"
            ],
            [
             0.4,
             "#fde0ef"
            ],
            [
             0.5,
             "#f7f7f7"
            ],
            [
             0.6,
             "#e6f5d0"
            ],
            [
             0.7,
             "#b8e186"
            ],
            [
             0.8,
             "#7fbc41"
            ],
            [
             0.9,
             "#4d9221"
            ],
            [
             1,
             "#276419"
            ]
           ],
           "sequential": [
            [
             0,
             "#0d0887"
            ],
            [
             0.1111111111111111,
             "#46039f"
            ],
            [
             0.2222222222222222,
             "#7201a8"
            ],
            [
             0.3333333333333333,
             "#9c179e"
            ],
            [
             0.4444444444444444,
             "#bd3786"
            ],
            [
             0.5555555555555556,
             "#d8576b"
            ],
            [
             0.6666666666666666,
             "#ed7953"
            ],
            [
             0.7777777777777778,
             "#fb9f3a"
            ],
            [
             0.8888888888888888,
             "#fdca26"
            ],
            [
             1,
             "#f0f921"
            ]
           ],
           "sequentialminus": [
            [
             0,
             "#0d0887"
            ],
            [
             0.1111111111111111,
             "#46039f"
            ],
            [
             0.2222222222222222,
             "#7201a8"
            ],
            [
             0.3333333333333333,
             "#9c179e"
            ],
            [
             0.4444444444444444,
             "#bd3786"
            ],
            [
             0.5555555555555556,
             "#d8576b"
            ],
            [
             0.6666666666666666,
             "#ed7953"
            ],
            [
             0.7777777777777778,
             "#fb9f3a"
            ],
            [
             0.8888888888888888,
             "#fdca26"
            ],
            [
             1,
             "#f0f921"
            ]
           ]
          },
          "colorway": [
           "#636efa",
           "#EF553B",
           "#00cc96",
           "#ab63fa",
           "#FFA15A",
           "#19d3f3",
           "#FF6692",
           "#B6E880",
           "#FF97FF",
           "#FECB52"
          ],
          "font": {
           "color": "#2a3f5f"
          },
          "geo": {
           "bgcolor": "white",
           "lakecolor": "white",
           "landcolor": "#E5ECF6",
           "showlakes": true,
           "showland": true,
           "subunitcolor": "white"
          },
          "hoverlabel": {
           "align": "left"
          },
          "hovermode": "closest",
          "mapbox": {
           "style": "light"
          },
          "paper_bgcolor": "white",
          "plot_bgcolor": "#E5ECF6",
          "polar": {
           "angularaxis": {
            "gridcolor": "white",
            "linecolor": "white",
            "ticks": ""
           },
           "bgcolor": "#E5ECF6",
           "radialaxis": {
            "gridcolor": "white",
            "linecolor": "white",
            "ticks": ""
           }
          },
          "scene": {
           "xaxis": {
            "backgroundcolor": "#E5ECF6",
            "gridcolor": "white",
            "gridwidth": 2,
            "linecolor": "white",
            "showbackground": true,
            "ticks": "",
            "zerolinecolor": "white"
           },
           "yaxis": {
            "backgroundcolor": "#E5ECF6",
            "gridcolor": "white",
            "gridwidth": 2,
            "linecolor": "white",
            "showbackground": true,
            "ticks": "",
            "zerolinecolor": "white"
           },
           "zaxis": {
            "backgroundcolor": "#E5ECF6",
            "gridcolor": "white",
            "gridwidth": 2,
            "linecolor": "white",
            "showbackground": true,
            "ticks": "",
            "zerolinecolor": "white"
           }
          },
          "shapedefaults": {
           "line": {
            "color": "#2a3f5f"
           }
          },
          "ternary": {
           "aaxis": {
            "gridcolor": "white",
            "linecolor": "white",
            "ticks": ""
           },
           "baxis": {
            "gridcolor": "white",
            "linecolor": "white",
            "ticks": ""
           },
           "bgcolor": "#E5ECF6",
           "caxis": {
            "gridcolor": "white",
            "linecolor": "white",
            "ticks": ""
           }
          },
          "title": {
           "x": 0.05
          },
          "xaxis": {
           "automargin": true,
           "gridcolor": "white",
           "linecolor": "white",
           "ticks": "",
           "title": {
            "standoff": 15
           },
           "zerolinecolor": "white",
           "zerolinewidth": 2
          },
          "yaxis": {
           "automargin": true,
           "gridcolor": "white",
           "linecolor": "white",
           "ticks": "",
           "title": {
            "standoff": 15
           },
           "zerolinecolor": "white",
           "zerolinewidth": 2
          }
         }
        },
        "width": 800
       }
      },
      "text/html": [
       "<div>                            <div id=\"b312d2ac-2a0f-4d99-8324-8cedb9c9d66f\" class=\"plotly-graph-div\" style=\"height:525px; width:800px;\"></div>            <script type=\"text/javascript\">                require([\"plotly\"], function(Plotly) {                    window.PLOTLYENV=window.PLOTLYENV || {};                                    if (document.getElementById(\"b312d2ac-2a0f-4d99-8324-8cedb9c9d66f\")) {                    Plotly.newPlot(                        \"b312d2ac-2a0f-4d99-8324-8cedb9c9d66f\",                        [{\"customdata\":[[\"Scrypt\"],[\"Scrypt\"],[\"X13\"],[\"X11\"],[\"SHA-512\"],[\"SHA-256\"],[\"SHA-256\"],[\"X15\"],[\"Scrypt\"],[\"Scrypt\"],[\"Scrypt\"],[\"Scrypt\"],[\"Scrypt\"],[\"Scrypt\"],[\"Groestl\"],[\"PoS\"],[\"Scrypt\"],[\"Scrypt\"],[\"X11\"],[\"X11\"],[\"SHA3\"],[\"Scrypt\"],[\"SHA-256\"],[\"Scrypt\"],[\"X13\"],[\"X13\"],[\"NeoScrypt\"],[\"Scrypt\"],[\"Scrypt\"],[\"Scrypt\"],[\"X11\"],[\"X11\"],[\"Multiple\"],[\"PHI1612\"],[\"X11\"],[\"Scrypt\"],[\"Scrypt\"],[\"Scrypt\"],[\"X11\"],[\"Multiple\"],[\"X13\"],[\"Scrypt\"],[\"Shabal256\"],[\"Counterparty\"],[\"SHA-256\"],[\"Groestl\"],[\"Scrypt\"],[\"X13\"],[\"Scrypt\"],[\"Scrypt\"],[\"X13\"],[\"X11\"],[\"Scrypt\"],[\"X11\"],[\"SHA3\"],[\"QUAIT\"],[\"X11\"],[\"Scrypt\"],[\"X13\"],[\"SHA-256\"],[\"X15\"],[\"BLAKE256\"],[\"SHA-256\"],[\"X11\"],[\"SHA-256\"],[\"NIST5\"],[\"Scrypt\"],[\"Scrypt\"],[\"X11\"],[\"Scrypt\"],[\"SHA-256\"],[\"Scrypt\"],[\"PoS\"],[\"X11\"],[\"SHA-256\"],[\"SHA-256\"],[\"NIST5\"],[\"X11\"],[\"POS 3.0\"],[\"Scrypt\"],[\"Scrypt\"],[\"Scrypt\"],[\"X13\"],[\"X11\"],[\"X11\"],[\"Scrypt\"],[\"SHA-256\"],[\"X11\"],[\"Scrypt\"],[\"Scrypt\"],[\"Scrypt\"],[\"Scrypt\"],[\"SHA-256D\"],[\"PoS\"],[\"Scrypt\"],[\"X11\"],[\"PoS\"],[\"X13\"],[\"X14\"],[\"PoS\"],[\"SHA-256D\"],[\"DPoS\"],[\"X11\"],[\"X13\"],[\"X11\"],[\"PoS\"],[\"Scrypt\"],[\"Scrypt\"],[\"PoS\"],[\"X11\"],[\"SHA-256\"],[\"Scrypt\"],[\"X11\"],[\"Scrypt\"],[\"Scrypt\"],[\"X11\"],[\"Scrypt\"],[\"Scrypt\"],[\"Scrypt\"],[\"Scrypt\"],[\"Quark\"],[\"QuBit\"],[\"Scrypt\"],[\"SHA-256\"],[\"X11\"],[\"Scrypt\"],[\"Scrypt\"],[\"Scrypt\"],[\"Scrypt\"],[\"X13\"],[\"Scrypt\"],[\"Scrypt\"],[\"X11\"],[\"Blake2S\"],[\"X11\"],[\"PoS\"],[\"X11\"],[\"PoS\"],[\"X11\"],[\"Scrypt\"],[\"Scrypt\"],[\"Scrypt\"],[\"SHA-256\"],[\"X11\"],[\"Scrypt\"],[\"PoS\"],[\"Scrypt\"],[\"X15\"],[\"SHA-256\"],[\"POS 3.0\"],[\"536\"],[\"NIST5\"],[\"NIST5\"],[\"Skein\"],[\"X13\"],[\"Scrypt\"],[\"X13\"],[\"SkunkHash v2 Raptor\"],[\"Skein\"],[\"X11\"],[\"Scrypt\"],[\"PoS\"],[\"Scrypt\"],[\"Scrypt\"],[\"SHA-512\"],[\"Ouroboros\"],[\"X11\"],[\"NeoScrypt\"],[\"Scrypt\"],[\"Lyra2REv2\"],[\"Scrypt\"],[\"SHA-256\"],[\"NIST5\"],[\"PHI1612\"],[\"Scrypt\"],[\"Quark\"],[\"POS 2.0\"],[\"Scrypt\"],[\"SHA-256\"],[\"Quark\"],[\"X11\"],[\"DPoS\"],[\"NIST5\"],[\"X13\"],[\"Scrypt\"],[\"NIST5\"],[\"Quark\"],[\"Scrypt\"],[\"Scrypt\"],[\"X11\"],[\"Scrypt\"],[\"Scrypt\"],[\"Quark\"],[\"Scrypt\"],[\"Scrypt\"],[\"X11\"],[\"Scrypt\"],[\"POS 3.0\"],[\"Scrypt\"],[\"Scrypt\"],[\"X11\"],[\"SHA-256\"],[\"X13\"],[\"Skein\"],[\"X11\"],[\"Skein\"],[\"C11\"],[\"X11\"],[\"XEVAN\"],[\"Scrypt\"],[\"VBFT\"],[\"PHI1612\"],[\"NIST5\"],[\"Scrypt\"],[\"Scrypt\"],[\"Scrypt\"],[\"Green Protocol\"],[\"PoS\"],[\"Scrypt\"],[\"Semux BFT consensus\"],[\"Quark\"],[\"PoS\"],[\"X16R\"],[\"Scrypt\"],[\"XEVAN\"],[\"Scrypt\"],[\"Scrypt\"],[\"Scrypt\"],[\"X11\"],[\"SHA-256D\"],[\"Scrypt\"],[\"Scrypt\"],[\"X11\"],[\"Scrypt\"],[\"SHA-256D\"],[\"Scrypt\"],[\"X15\"],[\"Scrypt\"],[\"Quark\"],[\"Scrypt\"],[\"SHA-256\"],[\"DPoS\"],[\"Scrypt\"],[\"X16R\"],[\"Quark\"],[\"Quark\"],[\"Scrypt\"],[\"Lyra2REv2\"],[\"Quark\"],[\"Scrypt\"],[\"X11\"],[\"X11\"],[\"Scrypt\"],[\"PoS\"],[\"Keccak\"],[\"X11\"],[\"Tribus\"],[\"Scrypt\"],[\"NeoScrypt\"],[\"SHA-512\"],[\"XEVAN\"],[\"SHA-512\"],[\"Quark\"],[\"XEVAN\"],[\"X11\"],[\"Quark\"],[\"Scrypt\"],[\"Quark\"],[\"Quark\"],[\"Scrypt\"],[\"X11\"],[\"Scrypt\"],[\"XEVAN\"],[\"SHA-256D\"],[\"X11\"],[\"X11\"],[\"DPoS\"],[\"Scrypt\"],[\"X11\"],[\"Scrypt\"],[\"Scrypt\"],[\"SHA-256\"],[\"Scrypt\"],[\"X11\"],[\"Scrypt\"],[\"SHA-256\"],[\"X11\"],[\"Scrypt\"],[\"Scrypt\"],[\"X11\"],[\"Scrypt\"],[\"PoS\"],[\"X11\"],[\"SHA-256\"],[\"DPoS\"],[\"Scrypt\"],[\"Scrypt\"],[\"NeoScrypt\"],[\"SHA3-256\"],[\"X13\"],[\"PHI2\"],[\"DPoS\"],[\"DPoS\"],[\"SHA-256\"],[\"Lyra2Z\"],[\"PoS\"],[\"Scrypt\"],[\"PoS\"],[\"SHA-256\"],[\"Scrypt\"],[\"Scrypt\"],[\"Scrypt\"]],\"hovertemplate\":\"<b>%{hovertext}</b><br><br>Class=%{marker.color}<br>PC1=%{x}<br>PC2=%{y}<br>PC3=%{z}<br>Algorithm=%{customdata[0]}<extra></extra>\",\"hovertext\":[null,null,null,null,null,null,null,null,null,null,null,null,null,null,null,null,null,null,null,null,null,null,null,null,null,null,null,null,null,null,null,null,null,null,null,null,null,null,null,null,null,null,null,null,null,null,null,null,null,null,null,null,null,null,null,null,null,null,null,null,null,null,null,null,null,null,null,null,null,null,null,null,null,null,null,null,null,null,null,null,null,null,null,null,null,null,null,null,null,null,null,null,null,null,null,null,null,null,null,null,null,null,null,null,null,null,null,null,null,null,null,null,null,null,null,null,null,null,null,null,null,null,null,null,null,null,null,null,null,null,null,null,null,null,null,null,null,null,null,null,null,null,null,null,null,null,null,null,null,null,null,null,null,null,null,null,null,null,null,null,null,null,null,null,null,null,null,null,null,null,null,null,null,null,null,null,null,null,null,null,null,null,null,null,null,null,null,null,null,null,null,null,null,null,null,null,null,null,null,null,null,null,null,null,null,null,null,null,null,null,null,null,null,null,null,null,null,null,null,null,null,null,null,null,null,null,null,null,null,null,null,null,null,null,null,null,null,null,null,null,null,null,null,null,null,null,null,null,null,null,null,null,null,null,null,null,null,null,null,null,null,null,null,null,null,null,null,null,null,null,null,null,null,null,null,null,null,null,null,null,null,null,null,null,null,null,null,null,null,null,null,null,null,null,null,null,null,null,null,null,null,null,null,null,null,null,null,null,null,null,null,null],\"legendgroup\":\"3\",\"marker\":{\"color\":[3,3,3,3,3,3,3,3,3,3,3,3,3,3,3,3,3,3,3,3,3,3,3,3,3,3,3,3,3,3,3,3,3,3,3,3,3,3,3,3,3,3,3,3,3,3,3,3,3,3,3,3,3,3,3,3,3,3,3,3,3,3,3,3,3,3,3,3,3,3,3,3,3,3,3,3,3,3,3,3,3,3,3,3,3,3,3,3,3,3,3,3,3,3,3,3,3,3,3,3,3,3,3,3,3,3,3,3,3,3,3,3,3,3,3,3,3,3,3,3,3,3,3,3,3,3,3,3,3,3,3,3,3,3,3,3,3,3,3,3,3,3,3,3,3,3,3,3,3,3,3,3,3,3,3,3,3,3,3,3,3,3,3,3,3,3,3,3,3,3,3,3,3,3,3,3,3,3,3,3,3,3,3,3,3,3,3,3,3,3,3,3,3,3,3,3,3,3,3,3,3,3,3,3,3,3,3,3,3,3,3,3,3,3,3,3,3,3,3,3,3,3,3,3,3,3,3,3,3,3,3,3,3,3,3,3,3,3,3,3,3,3,3,3,3,3,3,3,3,3,3,3,3,3,3,3,3,3,3,3,3,3,3,3,3,3,3,3,3,3,3,3,3,3,3,3,3,3,3,3,3,3,3,3,3,3,3,3,3,3,3,3,3,3,3,3,3,3,3,3,3,3,3,3,3,3,3,3,3,3,3,3],\"coloraxis\":\"coloraxis\",\"symbol\":\"circle\"},\"mode\":\"markers\",\"name\":\"3\",\"scene\":\"scene\",\"showlegend\":true,\"x\":[-0.33358703007333373,-0.31623339547702417,2.413990014783579,-0.39387322889060744,-0.24057931667875168,-0.31101627318507474,-0.25527580427752056,-0.23840856400066227,-0.3332325705825116,-0.32549837270311316,-0.33202049724258154,-0.3335828031765016,-0.33356643198636005,0.7170425856666975,-0.3767601395999287,-0.3246068216549235,-0.26763845427961247,-0.3315661296440799,-0.3171093560082391,-0.39376350504032487,-0.29306185255743883,-0.0068508032515211354,-0.27281844441895725,-0.27758758772521025,-0.27369098682015086,-0.27433931195045486,-0.34593129055752353,-0.3276564429173619,-0.33192316104487735,0.0395868506342761,-0.337830670355416,-0.3941503426598833,-0.23081941074164597,-0.27877274577320743,-0.3940584237271841,-0.30780354693787365,-0.3322104147245619,-0.2783070212649214,-0.3940213411249458,-0.23130528011913326,-0.27411097747474644,-0.3243317350069763,0.04302283446418655,-0.31259767706646374,-0.3101955918088927,-0.37615735781377635,-0.2775667755674993,-0.274418043169715,-0.27200393231100783,-0.33356834596700397,-0.2743681916456047,-0.33829448687134195,-0.33329187912156233,-0.39413109624823683,-0.11522386314387562,-0.40382848268487925,-0.3241688767258815,-0.2759027224104802,-0.2738703513310374,-0.30327527272078675,-0.2409476232727888,-0.05503848940551919,-0.31098596630035935,-0.05846029529923142,-0.31105216143435965,-0.23092892039381138,-0.3331628802100866,-0.27576808959159615,-0.391187249437791,0.9224875334322247,-0.3108442754985597,-0.04383058299708161,-0.32427710184556957,-0.39188468306103047,-0.30953782757072607,-0.30711273169487585,-0.35738272611347044,-0.3928152891661831,-0.3281636853808884,-0.3084938394878843,-0.33320261203855667,-0.331576931520377,-0.21732009930190568,-0.32526980286452883,-0.3935836716024995,-0.3323741234153948,-0.311032471720101,-0.39411987925963854,-0.3333993632173174,-0.3335623370099395,-0.27575390830368446,-0.2173879990840994,0.03019342120224478,-0.32319121782590804,-0.33316029887065013,-0.3797239573207324,-0.32249116693079566,-0.21880778151077618,-0.4456643667628742,-0.32223349235166965,-0.29734635845204077,3.8804117266984677,-0.393695725901249,0.9053063275754671,-0.3940729093156893,-0.3236740720264108,-0.33308539247860014,-0.33324624812236553,-0.32427710184556957,-0.3936308164225766,-0.3108893656045357,-0.3330860759133709,-0.3834170348602806,-0.33323957782112745,-0.32865179067814293,-0.3941031373851412,-0.3324188959859019,0.3921951670225674,-0.3334469926038277,-0.33352038026287234,-0.3439789539086398,-0.35247040621206166,-0.3295962389633653,-0.3110078954274289,-0.39400937475725734,-0.33328911673354933,-0.33342142753106724,-0.2774701886571937,-0.2879350882351699,-0.2185660725361318,-0.3134860369456082,-0.27720014444093727,-0.39324566445832126,-0.4142455259656,-0.39193123112550415,-0.3224514157585115,-0.39313926361387114,-0.31662063034580235,-0.388915895332592,-0.33336232279014083,-0.3333615898818317,-0.3262092188803025,0.2986178040070328,-0.3936369232142396,-0.25941298657558765,-0.3243129858935368,-0.33254114157089804,0.9396874325031609,-0.2539140692753302,-0.3268917602388991,0.6240249989636812,-0.3589816278953717,-0.357422644414733,-0.43565596452129507,-0.2740403690097035,0.150123203191353,-0.2741139448997302,-0.3475538848421098,-0.43514006857478005,-0.3939202816526698,-0.277546939883306,-0.32417412264472,-0.33298261374609295,-0.33350260674289117,-0.30102776815899923,0.6892385059643246,-0.3938588888518668,-0.34072659495001345,-0.3334565324446735,-0.2891303370516676,0.467566268730934,-0.309285941969405,-0.3431269897615128,-0.3715047488354818,-0.33340486597122765,-0.3980323876371191,-0.3369525737931368,-0.33326973214024336,-0.07461169692361938,-0.3986401154671427,-0.392602625810879,3.8854659182753104,0.223543284789114,-0.27064793673035287,-0.3306263403761768,-0.3030612945534962,-0.3438601439503765,0.09750650436432261,-0.33237413865288695,-0.3932067453823258,-0.3331475052321453,-0.33243540238145286,-0.34299132587360154,-0.31942927670386306,-0.3335256641541026,-0.3382652531913798,0.22461202749146056,-0.328457306905109,-0.2879840631973651,-0.3288873686428599,-0.26228927925785456,-0.31096694123936636,-0.21002927775449498,-0.4358005314946738,-0.3939212500788357,-0.4359330857730613,-0.37481809911454494,-0.39393848337608456,-0.27272732229480257,-0.2766732676704261,-0.3067616131086443,-0.371799562747816,-0.3585643566673331,-0.333554151989737,-0.33353512540305985,-0.27082451992014545,-0.320727225075452,-0.323751955331626,-0.3332401131832154,4.075701991920281,-0.3966445100333639,-0.3239484229796154,-0.2951294463320527,-0.2779565487542659,-0.20290403296545473,-0.27722844403979097,-0.2776435190775851,-0.3326731283497699,-0.3382714893273596,-0.36638821209362754,-0.3325274435611095,-0.12855689240352547,-0.3379267531996966,-0.277491351686486,-0.3652916296911934,-0.33269287954417653,-0.1845905719869991,2.363856041264828,-0.33939739455380924,-0.33093439294085986,-0.254045657149812,1.0802283017846384,-0.2776929260465437,-0.3501129267147282,-0.34397845606148536,-0.39978429846049535,-0.15346952764657656,-0.3447302508527105,-0.3426454314500719,-0.32614679569738375,-0.3378254341777723,-0.39339009016543935,-0.2746244603289604,-0.32301238764226897,-0.3375512386209166,-0.3376816691651649,-0.3855311821613906,-0.18740824519179178,-0.3458149624604724,-0.27928732036187387,-0.21704576425181124,-0.2979994768282511,-0.34376122493460326,0.684507331169786,-0.11940162796242428,-0.39905005493680357,-0.333244119019789,-0.3995247930302866,-0.3441002279716866,0.6101945396775511,-0.33832182837271235,-0.3327062813569181,-0.2669568302835263,-0.31818437375485076,-0.3908580645673496,-0.3936265643986578,3.898213926280255,0.119416111932617,-0.39106250661139697,-0.33206771514865185,-0.33292515487243657,-0.25530993069496877,-0.3334644301074068,-0.38491005753787294,-0.24370255411069497,-0.08142970877963882,-0.38048745810686235,-0.33271268640613183,-0.3254916865517174,-0.3900538273717893,-0.33108853984270276,-0.32456413597348455,-0.360740623876342,-0.309470257234459,3.880819462502084,-0.07683463603436297,-0.328167680138321,-0.3455422895979759,-0.2974395568956239,-0.2745295689874678,-0.4240196316268475,3.891104001482382,3.892400350008735,-0.235419648572048,0.6338490288930803,-0.32449730548421507,-0.2709612354954621,-0.29192754947755306,2.5829308782308384,-0.33155410365216864,-0.277903816815919,-0.3325763127855734],\"y\":[1.090979084149728,1.0912367083530758,1.731924071014296,1.2865166660225373,0.9914652226060361,0.8474625574403651,0.5281355237399596,1.9157822020353794,1.090980171929028,1.0912745456093946,1.0910363062880069,1.0909788849444382,1.0909791293146178,0.5633722588694126,0.9759344254953933,1.4472179001698982,0.38260267590460556,1.0909680310803387,0.9679664133660482,1.2865206740011539,2.1371946182984844,0.7815442294082751,0.8471623773706779,0.7716433475576163,1.855943938867773,1.8559202569312887,0.535194040228869,1.090898662889974,1.0909705494030832,1.1046103314151097,0.9672095078763637,1.2865221028589262,0.0043305301271104905,1.10815452910809,1.2865183884783669,1.0907892694020604,1.090958642099693,0.3550132856698768,1.2865229257376838,0.004383509260450817,1.8559285975034772,1.0906098913291988,1.049503060889604,1.368653024821367,0.8474600008062326,0.975959541669025,0.7716555513949898,1.855908893818645,0.7715051156782642,1.090979766670052,1.8559121293268097,0.967178420265255,1.0909757200337942,1.28652280659663,2.41645712660284,2.0186562322574115,0.7825772608394248,0.771645608806322,1.8559020236105723,0.8470536105523787,1.9159184000196041,0.9591284919572921,0.8474636644863288,1.2800061523509902,0.8474693801133548,1.5547150548422304,1.0909648721697804,0.7715649098739326,1.286358747728791,0.7454713419071153,0.8474561093063275,0.5623510962783518,1.4472157987510164,1.2865518181065787,0.8473745953262118,0.847249389156177,1.5500323123702808,1.2864725598266191,1.3452695460310915,1.0904811468566884,1.0909617705564274,1.0909817818922194,1.536491760146438,0.967203653839362,1.286507439399716,1.0909597348605238,0.8474626730114442,1.2865210945221248,1.0909710865995788,1.090979986164458,0.7717217715758655,0.26774071226919555,2.0054368181258275,1.447217271252167,1.0909946717615968,1.2859881650969298,1.4472668898412517,1.5365771038370062,1.931278918590096,1.4470917048452616,2.00230910720301,1.7539406891318043,1.286517491676208,1.898409021526634,1.2865222067025242,1.4472166080741031,1.0909701497825968,1.0909618269174663,1.4472157987510164,1.2864986446091167,0.8474686076421903,1.0909740430888342,0.6458510923940698,1.090971972336362,1.0906991663899301,1.2865202915290088,1.0909199068840252,0.7731237339154664,1.0909750049520783,1.0909791736000811,1.2925071557230954,0.6039881394415217,1.0907712247452812,0.8474635707310835,1.286520637028615,1.0909758209379459,1.0909696205196169,0.7716201797102469,0.30454399860781006,1.5365774282333247,1.0910060615848391,0.7716445949051345,1.2864844226273975,1.9814019538912278,1.2865253633874159,1.4472186278305674,1.2864883092236783,1.4472267111044244,1.2863596722454533,1.0909722895808882,1.0909670911341511,1.090541310841171,0.495331738340497,1.2865125669224413,0.770904132508611,1.4472074152924446,1.0909430250068815,1.8954088679635919,0.5280525925170734,1.3452689733549008,1.952506197299181,1.5500304894185293,1.550009636167606,1.9667487144261084,1.8559099586082224,1.0732845354494305,1.855915123006158,1.348951303887717,1.966767559006499,1.2865237830061746,0.7716439653017982,1.4471901379933418,1.0909670350736234,1.0909791974538268,0.991739104969975,1.3436162377935148,1.2865136534882706,0.5351039154526568,1.090972723280115,0.36732672869176997,1.1025617814544446,0.8474705957676116,1.5497679753945899,1.4277213426098945,1.090970885595696,1.6117716875042993,1.2203931461811255,1.0909802151070607,0.5283782181043692,1.6118500060762104,1.2864767916207938,1.7538600820862098,1.5500978846256461,1.8559065685028469,1.0909387053647401,1.2306907766622948,1.2925079592525248,1.0713625594818834,1.0909172981596684,1.286521207711922,1.0909597756324176,1.0909716418517996,1.2924689684197281,1.0908596945989495,1.0909784966695077,0.9671787808402633,0.7723173469687936,1.3452648324491452,0.2442600094649876,1.0909866663796746,0.9671539431346291,0.8474622376240823,1.536333716890066,1.9667632372363963,1.2865127901035818,1.9667605171180778,0.9470125867343431,1.286512160607929,1.4021257628333987,0.7716004879710504,1.4438149162933358,1.4277303772194345,1.5500174406851221,1.0909781633386035,1.0909774438011588,0.7715481971014931,1.2668955230871417,1.4471868869381082,1.0909705382425823,1.7375235487500365,1.611822383717854,1.4471853685458482,0.5390270437362242,1.0893885495227245,0.8982027257458478,0.7716495209294161,0.7716315300458512,1.0909346674655431,0.9671876427712857,2.005090612434482,1.0909470617113664,1.0912542539982815,0.9671621474922545,0.7716271866296325,2.005065245865538,1.0909523349923165,1.596562115250004,0.43554339938473785,1.2922253944703732,1.09089916209767,0.5281183869018903,1.539185020718541,0.7716399099891039,0.8583618921482662,1.2925029302939652,1.6118455046036144,0.7642498576931939,0.6866454584585722,1.2924957485879023,1.09054359102712,0.9671707993438765,1.286514510517404,0.7715791379468981,1.4471276149443186,0.9829786180240796,0.9671442236654614,0.9087736434813513,1.0835878406434172,0.5351861032004541,0.8104866094074862,1.0827969308790892,0.9917729047646575,1.2924988417102574,0.8382649460134322,0.9751882556779651,1.6118377755692057,1.090976757339542,1.6118451633540516,1.292503878688396,1.0725496887460602,0.9671776337191516,1.0909518454526348,1.4020253482277856,2.0033203551679133,1.286345310464594,1.2865200179986271,1.7539721051378465,1.0827719068580381,1.2866348956418898,1.090893127704237,1.0909648873962594,0.5281282653874945,1.0909835624951272,1.2865059969701698,1.0868360474429308,0.8557300445586169,1.2863139105745047,1.0910004130557267,1.090991882211857,1.2865246285798841,1.0909571856559743,1.4472130939653083,0.8269253199294696,0.8474603267781003,1.7539308861481588,0.7719089291367964,1.0909648607714304,0.5351683609419708,3.231472513211033,1.8559132223745667,2.0338195162698147,1.7544196637956937,1.7544670166469514,0.5281623986190687,0.2649019045451294,1.447215793902236,0.7712602955442337,1.8010109229017448,0.7429500234405124,1.0908765253849817,0.7716425327268008,1.090945276622658],\"z\":[-0.5082050783771276,-0.5084807273016637,-0.5341710977737879,-0.40341516377292924,-0.18732548918907593,-0.33741399465304084,-0.05005335164049739,-0.48716906598275134,-0.5082104002489334,-0.5083465191196439,-0.5082324712522266,-0.5082051261623893,-0.5082053863042906,-0.2736126554751375,-0.35358953381089847,0.0088752658282685,-0.30658223414092495,-0.508234145324667,-0.11642279568533588,-0.4034170824377824,-0.5851556802048173,-0.2255826537302636,-0.33795665714218553,-0.22084762183203047,-0.5035912869016407,-0.5035799500898306,-0.2327168274645299,-0.5082868334579058,-0.5082290518729702,-0.514730511160166,-0.116060456435743,-0.40341146773315517,0.12835818639243424,-0.18971123972454784,-0.4034125525131465,-0.5085723210820938,-0.5082239243481659,-0.3244367294650691,-0.4034134361185836,0.12836145650439096,-0.5035839428164116,-0.5083146598157456,-0.08185575916373604,-0.021310591998548976,-0.3374259414025112,-0.3536003031343999,-0.22084883131831065,-0.5035779462577593,-0.22091997515539058,-0.5082054050953269,-0.5035789224957554,-0.1160513008083191,-0.5082091942895077,-0.4034118043340638,-0.5101582175228108,-0.5975237018421509,-0.12183164315852008,-0.22087270351271288,-0.5035855375044642,-0.3374982463789631,-0.48714158371538996,-0.40985277881371623,-0.3374145246085101,-0.4078939573688778,-0.33741396808423335,-0.4931623443687747,-0.5082103002952502,-0.22086873159485318,-0.40344321369769925,-0.23665965922961893,-0.33741606158648624,-0.2622859473170377,0.008870545436449074,-0.40344716634152994,-0.3374293574201725,-0.337455966652729,-0.4909464310353651,-0.40342754887089993,-0.025667383158996814,-0.5085393466199312,-0.5082094835935398,-0.5082350016295095,-0.21623071921928577,-0.11624576512845851,-0.40341876379469527,-0.508221584282734,-0.3374137636599838,-0.4034118436992982,-0.5082072625301991,-0.5082055101697904,-0.22088053167056515,-0.35167332813106916,-0.5985251925481399,0.008854379348228032,-0.508212540331838,-0.4035853427462532,0.00884036121592857,-0.21621502639490411,-0.5191222183922016,0.008849495171009508,-0.5934506616789782,-0.30025704892597893,-0.40341784956866505,-0.5241631745020846,-0.40341262043570447,0.008861568456963937,-0.5082118360872858,-0.5082088424984006,0.008870545436449074,-0.4034174168110509,-0.33741631831684193,-0.5082121136540996,-0.10935162439089051,-0.508209690770163,-0.5082573743373137,-0.40341203193386777,-0.5082179793635008,-0.2308612808846372,-0.5082068477440617,-0.5082060705568855,-0.11052423253158136,-0.33523777117589143,-0.5082487328310483,-0.3374141934085653,-0.40341344395808765,-0.5082092425934708,-0.508206827931346,-0.22084764599476917,-0.289776790832468,-0.2162186245859685,-0.5085043110140735,-0.2208534432352491,-0.4034220613167498,-0.6017882293238438,-0.4034445233057373,0.008843339441063493,-0.4034239218745064,0.008756520636071964,-0.4034768691906891,-0.5082078991451193,-0.5082075258742047,-0.5082818295576651,-0.05582009657614732,-0.40341835521558134,-0.22106175505712478,0.008871695510782913,-0.5082178798597895,-0.5030845503286818,-0.05006736030159604,-0.025686149175667635,-0.674920160121771,-0.4909226529081042,-0.4909441652270825,-0.5657369658016048,-0.5035836097130186,-0.5140504092785013,-0.5035829033175002,0.0515143027405401,-0.565745986916144,-0.4034149938575395,-0.22084826854819814,0.008870918703471873,-0.5082131257635362,-0.5082063351416858,-0.18645185708258227,0.12351384419745019,-0.40341515322979793,-0.23278713158918835,-0.5082065380848997,0.011667397907205447,-0.5209078031548515,-0.33744017551461347,-0.4911377031760612,-0.4765425951586322,-0.5082071663073588,-0.3979052040178607,-0.03460811848966223,-0.5082098539204349,-0.05274281741058812,-0.3979020042578936,-0.4034310062700294,-0.3003258307599881,-0.4995415999132,-0.5036335241151156,-0.5082458754137428,-0.20356373275960302,-0.11052604878146301,-0.5131303375663688,-0.5082184484470069,-0.4034253548420332,-0.5082101510709198,-0.5082215579297237,-0.11053601525167238,-0.5084056116520512,-0.5082059424046286,-0.1160517597379131,-0.22832359648564568,-0.025662693008736578,-0.4036853214589287,-0.508275133897381,-0.11717340357651616,-0.33741470050809,-0.2163268530652393,-0.5657359011248914,-0.4034141672812578,-0.5657337400186424,-0.3776899566691772,-0.40341386593454365,-0.39733118352881047,-0.22085797529456838,0.013522866856723612,-0.47653890321792364,-0.490927859061088,-0.5082054965170968,-0.5082057247028432,-0.22094059872171,-0.05570543300668352,0.008864916208837836,-0.5082095768896817,-0.3530882780162334,-0.3979294728707453,0.008867933626404808,-0.03248185541692791,-0.5089101794669447,-0.11575063109738931,-0.22085338874034693,-0.22084592157314706,-0.5082153106011066,-0.11605232232260493,-0.5926352424494661,-0.5082183806848243,-0.5112572513896148,-0.11605553621344211,-0.22084785078592467,-0.5926495836225976,-0.5082163239723594,-0.1997878969521308,-0.4587196129275348,-0.11057116230691169,-0.5082383983327209,-0.050070275962066826,-0.16908854027695405,-0.22084581016438162,-0.3198542696636077,-0.11052392768016144,-0.39788475227757053,-0.22213669364899769,-0.27569470996471057,-0.11054310885726899,-0.5082829211085618,-0.11605767372530948,-0.40342214881899735,-0.22088669407692182,0.008858359559228332,-0.36934856707954633,-0.11605783596739527,-0.3550947957006392,-0.5098205346023017,-0.23271796118228785,-0.539604070787356,-0.10996953651258885,-0.18649913475428206,-0.11052683783888763,-0.1392851749070635,-0.11987997357562734,-0.3978950386609949,-0.5082099771777884,-0.39788856444607074,-0.1105221970791343,-0.5207993222854681,-0.11605083838429776,-0.5082160896241568,-0.3974090939448987,-0.5932172440376409,-0.40344708858360523,-0.4034190589478833,-0.30052261658866863,-0.5142973479950954,-0.4034654626323596,-0.5082211936878596,-0.5082138167348157,-0.05005231068986096,-0.5082072221998769,-0.4035469164973519,-0.5092281012336025,-0.3414198360463901,-0.4035981216816439,-0.508219583528176,-0.5083257322405381,-0.40347223073299815,-0.5082404062266995,0.008874989748760217,-0.03831217888479904,-0.3374366912239933,-0.3002623539014251,-0.22383583836855184,-0.5082841649458277,-0.23272068231627754,-6.52177490515285,-0.5035766169258673,-0.5928318998745186,-0.3004505497538831,-0.30047321810128463,-0.050348956216691,-0.24204151827936576,0.008873802010698342,-0.22091730427608702,0.18506526049789665,-0.18178846837599635,-0.508227561881406,-0.22084288545231745,-0.5082175261425967],\"type\":\"scatter3d\"},{\"customdata\":[[\"SHA-256\"],[\"Ethash\"],[\"Scrypt\"],[\"CryptoNight-V7\"],[\"Ethash\"],[\"Equihash\"],[\"Multiple\"],[\"Scrypt\"],[\"X11\"],[\"Scrypt\"],[\"Multiple\"],[\"Scrypt\"],[\"SHA-256\"],[\"Scrypt\"],[\"Scrypt\"],[\"Quark\"],[\"Groestl\"],[\"Scrypt\"],[\"Scrypt\"],[\"Scrypt\"],[\"X11\"],[\"Multiple\"],[\"SHA-256\"],[\"Scrypt\"],[\"Scrypt\"],[\"Scrypt\"],[\"Scrypt\"],[\"Scrypt\"],[\"NeoScrypt\"],[\"Scrypt\"],[\"Scrypt\"],[\"Scrypt\"],[\"Scrypt\"],[\"SHA-256\"],[\"Scrypt\"],[\"Scrypt\"],[\"Scrypt\"],[\"Scrypt\"],[\"HybridScryptHash256\"],[\"Scrypt\"],[\"Scrypt\"],[\"SHA-256\"],[\"Scrypt\"],[\"Scrypt\"],[\"Scrypt\"],[\"Scrypt\"],[\"SHA-256\"],[\"SHA-256\"],[\"SHA-256\"],[\"SHA-256\"],[\"SHA-256\"],[\"X11\"],[\"Scrypt\"],[\"Lyra2REv2\"],[\"Scrypt\"],[\"SHA-256\"],[\"CryptoNight\"],[\"CryptoNight\"],[\"Scrypt\"],[\"Scrypt\"],[\"Scrypt\"],[\"Scrypt\"],[\"Scrypt\"],[\"Scrypt\"],[\"Stanford Folding\"],[\"Multiple\"],[\"QuBit\"],[\"Scrypt\"],[\"Scrypt\"],[\"M7 POW\"],[\"Scrypt\"],[\"SHA-256\"],[\"Scrypt\"],[\"X11\"],[\"Lyra2RE\"],[\"SHA-256\"],[\"X11\"],[\"Scrypt\"],[\"Scrypt\"],[\"Ethash\"],[\"Blake2b\"],[\"X11\"],[\"SHA-256\"],[\"Scrypt\"],[\"1GB AES Pattern Search\"],[\"Scrypt\"],[\"SHA-256\"],[\"X11\"],[\"Dagger\"],[\"Scrypt\"],[\"X11GOST\"],[\"Scrypt\"],[\"ScryptOG\"],[\"X11\"],[\"Scrypt\"],[\"X11\"],[\"Equihash\"],[\"CryptoNight\"],[\"SHA-256\"],[\"Multiple\"],[\"Scrypt\"],[\"SHA-256\"],[\"Scrypt\"],[\"Lyra2Z\"],[\"Ethash\"],[\"Equihash\"],[\"Scrypt\"],[\"X11\"],[\"X11\"],[\"CryptoNight\"],[\"Scrypt\"],[\"CryptoNight\"],[\"Lyra2RE\"],[\"X11\"],[\"CryptoNight-V7\"],[\"Scrypt\"],[\"X11\"],[\"Equihash\"],[\"Scrypt\"],[\"Lyra2RE\"],[\"Dagger-Hashimoto\"],[\"Scrypt\"],[\"NIST5\"],[\"Scrypt\"],[\"SHA-256\"],[\"Scrypt\"],[\"CryptoNight-V7\"],[\"Argon2d\"],[\"Blake2b\"],[\"Cloverhash\"],[\"CryptoNight\"],[\"X11\"],[\"Scrypt\"],[\"Scrypt\"],[\"X11\"],[\"X11\"],[\"CryptoNight\"],[\"Time Travel\"],[\"Scrypt\"],[\"Keccak\"],[\"X11\"],[\"SHA-256\"],[\"Scrypt\"],[\"Scrypt\"],[\"Scrypt\"],[\"Scrypt\"],[\"Scrypt\"],[\"Scrypt\"],[\"CryptoNight\"],[\"Equihash\"],[\"X11\"],[\"NeoScrypt\"],[\"Equihash\"],[\"Dagger\"],[\"Scrypt\"],[\"X11\"],[\"NeoScrypt\"],[\"Ethash\"],[\"NeoScrypt\"],[\"Multiple\"],[\"CryptoNight\"],[\"CryptoNight\"],[\"Ethash\"],[\"Scrypt\"],[\"X11\"],[\"CryptoNight-V7\"],[\"Scrypt\"],[\"BLAKE256\"],[\"X11\"],[\"NeoScrypt\"],[\"NeoScrypt\"],[\"NeoScrypt\"],[\"Scrypt\"],[\"X11\"],[\"SHA-256\"],[\"C11\"],[\"Ethash\"],[\"Scrypt\"],[\"CryptoNight\"],[\"SkunkHash\"],[\"CryptoNight\"],[\"Scrypt\"],[\"Dagger\"],[\"Lyra2REv2\"],[\"Scrypt\"],[\"Scrypt\"],[\"X11\"],[\"Ethash\"],[\"CryptoNight\"],[\"Scrypt\"],[\"SHA-256\"],[\"IMesh\"],[\"Quark\"],[\"Equihash\"],[\"Lyra2Z\"],[\"NeoScrypt\"],[\"X11\"],[\"CryptoNight\"],[\"NIST5\"],[\"Lyra2RE\"],[\"Tribus\"],[\"Lyra2Z\"],[\"CryptoNight\"],[\"CryptoNight Heavy\"],[\"CryptoNight\"],[\"Jump Consistent Hash\"],[\"CryptoNight\"],[\"SHA-512\"],[\"X16R\"],[\"HMQ1725\"],[\"X11\"],[\"Scrypt\"],[\"Scrypt\"],[\"CryptoNight-V7\"],[\"Cryptonight-GPU\"],[\"XEVAN\"],[\"CryptoNight Heavy\"],[\"CryptoNight\"],[\"X11\"],[\"SHA-256\"],[\"X11\"],[\"X16R\"],[\"Equihash\"],[\"HMQ1725\"],[\"Lyra2Z\"],[\"SHA-256\"],[\"PHI1612\"],[\"CryptoNight\"],[\"Blake\"],[\"Blake\"],[\"Blake\"],[\"Blake\"],[\"Equihash\"],[\"Exosis\"],[\"Scrypt\"],[\"Equihash\"],[\"Equihash\"],[\"Lyra2REv2\"],[\"QuBit\"],[\"SHA-256\"],[\"X13\"],[\"SHA-256\"],[\"Ethash\"],[\"Scrypt\"],[\"NeoScrypt\"],[\"Blake\"],[\"Scrypt\"],[\"SHA-256\"],[\"Scrypt\"],[\"Groestl\"],[\"Scrypt\"],[\"Scrypt\"],[\"Multiple\"],[\"Equihash+Scrypt\"],[\"Lyra2Z\"],[\"Ethash\"],[\"Equihash\"],[\"CryptoNight\"],[\"Equihash\"]],\"hovertemplate\":\"<b>%{hovertext}</b><br><br>Class=%{marker.color}<br>PC1=%{x}<br>PC2=%{y}<br>PC3=%{z}<br>Algorithm=%{customdata[0]}<extra></extra>\",\"hovertext\":[null,null,null,null,null,null,null,null,null,null,null,null,null,null,null,null,null,null,null,null,null,null,null,null,null,null,null,null,null,null,null,null,null,null,null,null,null,null,null,null,null,null,null,null,null,null,null,null,null,null,null,null,null,null,null,null,null,null,null,null,null,null,null,null,null,null,null,null,null,null,null,null,null,null,null,null,null,null,null,null,null,null,null,null,null,null,null,null,null,null,null,null,null,null,null,null,null,null,null,null,null,null,null,null,null,null,null,null,null,null,null,null,null,null,null,null,null,null,null,null,null,null,null,null,null,null,null,null,null,null,null,null,null,null,null,null,null,null,null,null,null,null,null,null,null,null,null,null,null,null,null,null,null,null,null,null,null,null,null,null,null,null,null,null,null,null,null,null,null,null,null,null,null,null,null,null,null,null,null,null,null,null,null,null,null,null,null,null,null,null,null,null,null,null,null,null,null,null,null,null,null,null,null,null,null,null,null,null,null,null,null,null,null,null,null,null,null,null,null,null,null,null,null,null,null,null,null,null,null,null,null,null,null,null,null,null,null,null,null,null,null,null,null,null,null,null,null,null,null,null,null,null,null,null,null,null,null,null,null],\"legendgroup\":\"1\",\"marker\":{\"color\":[1,1,1,1,1,1,1,1,1,1,1,1,1,1,1,1,1,1,1,1,1,1,1,1,1,1,1,1,1,1,1,1,1,1,1,1,1,1,1,1,1,1,1,1,1,1,1,1,1,1,1,1,1,1,1,1,1,1,1,1,1,1,1,1,1,1,1,1,1,1,1,1,1,1,1,1,1,1,1,1,1,1,1,1,1,1,1,1,1,1,1,1,1,1,1,1,1,1,1,1,1,1,1,1,1,1,1,1,1,1,1,1,1,1,1,1,1,1,1,1,1,1,1,1,1,1,1,1,1,1,1,1,1,1,1,1,1,1,1,1,1,1,1,1,1,1,1,1,1,1,1,1,1,1,1,1,1,1,1,1,1,1,1,1,1,1,1,1,1,1,1,1,1,1,1,1,1,1,1,1,1,1,1,1,1,1,1,1,1,1,1,1,1,1,1,1,1,1,1,1,1,1,1,1,1,1,1,1,1,1,1,1,1,1,1,1,1,1,1,1,1,1,1,1,1,1,1,1,1,1,1,1,1,1,1,1,1,1,1,1,1,1,1,1,1,1,1,1,1,1,1,1,1,1,1,1,1,1,1],\"coloraxis\":\"coloraxis\",\"symbol\":\"diamond\"},\"mode\":\"markers\",\"name\":\"1\",\"scene\":\"scene\",\"showlegend\":true,\"x\":[-0.13675183210127215,-0.13029783886395893,-0.15810535400678416,-0.14920340502053775,-0.12867758864679665,-0.17573753553207366,0.1858039623086112,-0.15929878820486673,-0.21980099066043066,-0.15889986970086428,-0.0779588236929716,2.6711087338953416,-0.1337165733534298,-0.15604279489233644,-0.1586962104501093,-0.22071281432987142,-0.20152454422243507,-0.15874624935788448,-0.15928030940107946,-0.15937027749789606,-0.21989405524535782,0.21061758459276567,0.2566482511734367,0.09960350098747905,-0.15910603525978637,-0.15453097224513765,-0.15904294500454186,-0.15942964590371675,-0.16680699430382634,-0.13780054702441624,-0.15817503129782767,-0.15846416549587594,1.6615689751433926,-0.1367115790596495,-0.1556426212070806,-0.15913357234146708,-0.15950300731372447,-0.15873175811797827,-0.1439695005772224,-0.1593794171991171,-0.018836356056652768,-0.1367924492206663,-0.1527821421470972,-0.15935816075296552,-0.15737590646618893,-0.15882380179676805,-0.12341797332013037,-0.1362340873333131,-0.13653327932558287,-0.1365161217073707,-0.13713043692746663,-0.22007498215637789,-0.1590627729187252,-0.1699563357905807,-0.15604793899696753,-0.13630417818347448,4.013864579576381,0.47261747571718,-0.15788404273358486,-0.14185981058985556,-0.15654997353948244,-0.1595053286560623,-0.1564092484661445,-0.1420669293633202,-0.1198411364269037,-0.11336356673211767,-0.1792952797455959,-0.1593730867667169,-0.027124997401587046,-0.07782747106982349,-0.15951456444543666,-0.13682139340937993,0.5186472546228853,-0.21943692686401395,-0.13000364263611372,-0.1365508231291934,-0.21973361081244655,-0.15756270198880287,-0.1567216164434454,-0.1314103854609452,0.4070700991393496,-0.21977041894453972,-0.1367127485502702,-0.15530580783486767,-0.1354988523775673,-0.15801883310195347,0.29902213333125466,-0.21889691511887177,-0.13969460945817255,-0.15827792195933527,-0.15058520104165404,-0.15929594422072568,-0.1324319349025845,-0.21973225420289214,-0.1595146253514484,-0.21988852422500477,-0.36429903586401435,0.3111585639937868,-0.13698358764183788,-0.09261714612649301,-0.15656534032875855,-0.1369404933114124,-0.15916433077530684,-0.07011185673272115,-0.13114185282489738,-0.17576006054453328,-0.08331375973927106,-0.20591548054602365,-0.21762851443592676,0.3111525252334187,-0.15949562780714707,0.31128867116875686,-0.1305659453835191,0.5238899141186514,-0.14791901557931403,-0.1594625926839552,-0.21233210925081783,-0.17577289476389762,-0.1575189105129414,-0.13027266286369704,-0.15692911032195894,-0.129225313825577,-0.18456387700081045,-0.15900707426244462,-0.10193189079486037,-0.1588222161001375,-0.1477695686120945,-0.12114602135611811,-0.010051648552514876,-0.13235883924638867,0.34876186453974334,-0.21890590271548682,-0.15915409130164462,-0.15890837459094745,-0.21931655633589786,-0.21991764216227916,0.31156360498342217,-0.15178997531229735,3.3903799158260726,-0.10086438599636488,-0.21042269931562507,-0.13675096121382543,-0.08212064374357579,1.6608830654702924,-0.15925605956780622,-0.15868563668053937,-0.15837429375465667,-0.15836067575003865,0.3117544000858962,0.04515478427764401,-0.17241561810858688,-0.17168800359551453,-0.17561254023248524,-0.13840349167589516,-0.15751704444823986,-0.2152799256619117,-0.1715271942658686,-0.12944222220292023,-0.17163140890469694,-0.10319506260925783,1.1830071372306559,0.31113469954939693,-0.051323421323850385,-0.1587165303961603,-0.21501366576184003,-0.13643782703346827,-0.07220729529915626,1.1651929151316842,-0.21989056224096337,-0.17168536909244297,-0.1716534864105011,-0.16443804787282096,-0.15847626534309414,-0.219812884953156,-0.13672948066087834,-0.20072264136876258,-0.2500218913734855,-0.15912567292222293,8.358878551827072,-0.14392112743907923,0.31516697938334254,0.041482923150674485,-0.13788499064919138,-0.15492313355158932,-0.15907372546710533,0.1606231095286867,-0.21371490387486336,-0.08060220870495023,0.3193757093021137,-0.15932040422077207,-0.0330433729929264,-0.15982480871617544,-0.2256362850545656,-0.17456199469817774,-0.06780648012186555,-0.17172824877472653,-0.218948387753461,0.3113247955464722,-0.18462542420165537,-0.13040492942919957,-0.2116210841890648,-0.07019961259620651,0.3154092187759592,0.6251942867764385,2.19299209140198,-0.13230700233342016,0.3254863610539854,-0.17884913332897812,-0.17686524616133362,-0.1386621813103677,-0.21987199125539486,-0.15934603530985275,-0.1487294888142347,-0.13632400618895596,-0.16698435107661094,-0.09737921619755203,3.2509215998163503,0.3245236031291392,-0.21938178182533588,-0.09492274996418945,-0.21984221458759448,-0.1762701090094109,-0.06605226997426795,-0.1364390477322058,-0.06957317946373354,-0.13675100035718152,-0.19734315098861377,0.3943133296068189,-0.13224211380926484,-0.13186410802273046,-0.13227139102839436,-0.0807514478612531,-0.2934265798069096,-0.12083423444978056,-0.15819328444196432,-0.17359481659030682,-0.1754384862395797,-0.17090901545003384,-0.17847462275899748,-0.13599738784452978,-0.10044185391723816,-0.13481934775641616,0.06934132951328628,0.5643192782564712,-0.09376776799097543,-0.08076163317684955,-0.14222384075729422,-0.13653262333276497,0.5856361205234034,-0.20106742194876628,-0.15942584258608472,-0.15729836163661565,-0.11412936290626507,-0.10915135384807348,-0.06829762931645697,-0.13117637819041914,-0.36865041184408026,0.33378472993310804,-0.175738636876543],\"y\":[-1.3459034375708354,-2.0826421825981942,-1.1024025657008443,-2.2500894600153196,-2.082731524812791,-2.060109671048413,-1.8735954066321148,-1.1024016013593543,-0.9068556424805626,-1.1024174422859037,-1.8697919872057303,-1.2705893121961385,-1.3458978045492822,-1.1024446314741392,-1.1024354647336976,-0.5815166589477135,-1.2174531153499228,-1.1024006319634194,-1.1024009263680004,-1.1023986535761028,-0.9068576273935389,-1.869545206826824,-1.3463711680656305,-1.1024777318432206,-1.1023945605047136,-1.1024246244775855,-1.102400035911814,-1.1023994754049797,-1.6582301178939685,-1.1026062169783135,-1.1023952090969191,-1.102407358867652,-1.0999529044564664,-1.3459019672129462,-1.102440920636426,-1.1023948591066002,-1.1023951632112967,-1.1023957416081906,-2.1855972902837353,-1.1023967666050438,-1.1078649912248921,-1.3459049212277252,-1.1023870591816827,-1.1024037701121103,-1.1024933272012394,-1.1024056106432352,-1.3460295823869148,-1.345902922917384,-1.345910306953819,-1.34593655644726,-1.345902591365729,-0.906851505425059,-1.1023943947616583,-1.5067249127978763,-1.1024557260322183,-1.3459040601841528,-2.334275331711583,-2.3402341230445134,-1.1024094191940648,-1.1029379520300109,-1.102404020034042,-1.1023961518948624,-1.1023943630264812,-1.102464574669473,-2.3164631781385623,-1.8696707089369722,-1.589362595483502,-1.1023918471195062,-1.1046314122884688,-2.1839787841769907,-1.1023950686930921,-1.3459059784973064,-1.1426915778992968,-0.9068515385032312,-2.232927711843025,-1.3459192652758827,-0.9068538885072641,-1.1024720294256594,-1.1024694273799363,-2.082694778928051,-2.2059342024560133,-0.9068516966845958,-1.345902009931948,-1.1023894201434095,-2.1620032150519717,-1.1023994052764223,-1.3452662888540308,-0.9068678837466901,-2.2919043555748937,-1.1024685283062765,-2.250424776792012,-1.1024007902055986,-2.1526970377897787,-0.9068566680294897,-1.1023950687748338,-0.9068623762406403,-1.5180232493455224,-2.3390662552638695,-1.3459039364284298,-1.8697616092543607,-1.1024283554926855,-1.3459030004517714,-1.1024030553374018,-1.889832727305415,-2.0826915469981864,-2.060110493839155,-1.1066838681298026,-0.9066879235176143,-0.9069233985168689,-2.339074255806708,-1.1023958585709268,-2.339072111761879,-2.2329087936593983,-0.9504029590460861,-2.2501733887821165,-1.1023951085617614,-0.9072759438363153,-2.0601081335695746,-1.1023924604739042,-2.2329058606339465,-2.221408058955812,-1.1041173050115598,-0.6433576672373216,-1.102401215500025,-1.3463848592866587,-1.102420263917791,-2.2501113482769504,-2.130962603718023,-2.2214114428847966,-2.282591938758061,-2.339100152217744,-0.9068795283495931,-1.1023950971235306,-1.10242553291121,-0.9068662378890704,-0.9068591255155525,-2.3390825798181267,-2.2301149218450784,-1.1141783584480143,-1.2113854113583893,-0.9072769240643327,-1.3459034057591799,-1.1069939206785835,-1.0358993814411122,-1.102399333304157,-1.102423762191274,-1.1024237058022939,-1.1024232083655827,-2.3391002863107127,-2.066878742809117,-0.9063836946688307,-1.6581898646269544,-2.060105105236281,-2.291946526637087,-1.102392392310534,-0.9069238963966421,-1.658196721447844,-2.082808964083377,-1.6581911922349506,-1.8697660727207857,-2.3673302817214594,-2.339068895153885,-2.086830106001763,-1.1024362069780582,-0.9070556243036649,-2.2503300629974663,-1.1027418272777678,-1.2596706281444134,-0.9068587728858544,-1.6581855247797412,-1.6581921401330415,-1.6582595774528646,-1.1024019689207263,-0.9068581987609621,-1.3459020312579146,-1.2463628763321273,-0.20865421383834276,-1.1023973996339194,-2.7523621790474744,-2.1980323503398544,-2.3391504061022577,-1.102125311042582,-2.291887762888128,-1.506894367307553,-1.102406818409136,-1.103719370549739,-0.9069728198439313,-2.0854241560107223,-2.339466296823445,-1.1024023909463867,-1.34920460960726,-2.282126452935312,-0.5815302182326272,-2.060101387229397,-1.8899455619700172,-1.6581870910832284,-0.9068810802375635,-2.3390661242394155,-0.6433406409287877,-2.232914426430634,-1.2845929177204471,-1.8898282236073694,-2.33932827701418,-2.2294462043429433,-2.4004573200125687,-2.2148281076746827,-2.3392430877268096,-0.8824814547782539,-1.3349991810573196,-2.2027297877645937,-0.906858943250181,-1.1024041089138281,-1.1027079437791372,-2.2508567238753514,-2.289056469223672,-0.7913074458321208,-2.2638978119236692,-2.3392782552237326,-0.9068615477466,-1.3458459226687818,-0.9068606846481958,-1.335032555411701,-2.0614634941478074,-2.202780133476075,-1.8898573256156705,-1.3459034071890021,-0.7656519453911229,-2.3417364501467763,-2.240854334801265,-2.240900022530073,-2.2408583951351857,-2.2439095212637508,-0.18610563398831598,-2.1649986819454625,-1.1024312392989581,-2.0602024197494946,-2.0601057394765823,-1.5067234292538814,-1.58940334553837,-1.345906291898692,-0.33746133572343306,-1.3459368165861478,-2.082422479594005,-1.1453376174620304,-1.6581535843608006,-2.2439098933116406,-1.102470306308572,-1.3459102829917982,-1.1105393162890824,-1.217451270297141,-1.1023949260802173,-1.1024424003569073,-1.8697006621939458,-2.3574700986192347,-1.8898998483878633,-2.082691593334451,-1.4315123886369454,-2.3392230310555604,-2.060109711278182],\"z\":[0.13060870350543846,0.3133504270845678,-0.040199223108105295,0.4002927959355206,0.31333306938546607,0.45467712742312794,0.3048993632005415,-0.040181646699916015,0.06461084304403367,-0.04018637515308154,0.3085186697949787,-0.06960847364230509,0.13056340402252178,-0.04022661457353596,-0.04018805505955309,0.0700665796181995,0.11442039560606017,-0.04018988888218562,-0.04018196982593908,-0.04018080737581659,0.06461236588089539,0.30423317117676346,0.12482594094984571,-0.044004485791590976,-0.04018501723695371,-0.0402504486390536,-0.04018554559811345,-0.04017986875352555,0.23523830420706407,-0.04048442864826964,-0.04019873634248635,-0.040193563094205555,-0.06728828597690184,0.1306079996284235,-0.040232806250056714,-0.04018458797459677,-0.04017910256096533,-0.04019046451244812,0.28955756441835834,-0.04018081165099385,-0.04185502094131603,0.13060941374882948,-0.04027908477071858,-0.04018060849335399,-0.04020330337622487,-0.04018837422119835,0.13042085254273383,0.13060100943397077,0.1306059792739084,0.1306076651110847,0.13061423952101991,0.06461458895349524,-0.04018566921652469,0.19232077780909232,-0.04022571873903431,0.13060212991962797,0.2415149765974023,0.29432072901171197,-0.040201989304431925,-0.04039989151345319,-0.04022211551719272,-0.04017899518163664,-0.04022491000801928,-0.04043180622297532,0.36994941965360545,0.30903324900021295,0.132799907443943,-0.04018126875740825,-0.04197138065992119,0.25429450348581106,-0.04017893864612604,0.13060991987577888,-0.04722964341289269,0.06460515628632124,0.34185438278938685,0.13060690062181068,0.06460971707886161,-0.04020211484974379,-0.04021474449197088,0.3133707649347841,0.3868665798912705,0.06461009941969358,0.13060802007849467,-0.04024159213448101,0.3520566248027152,-0.04020073603915095,0.12411770733949609,0.06459837870942815,0.3461958402536206,-0.040191797376282395,0.37080149306103316,-0.04018174869018178,0.3763775009297227,0.06460990239472336,-0.040178937739451075,0.06461263498019522,0.807095795443175,0.29662197671176227,0.13061216740293477,0.30873318212048634,-0.04022009015837918,0.13061146099590462,-0.040183527528321515,0.23611331875473443,0.31336655525925866,0.45467752130239514,-0.040988846751121716,0.06439312131529178,0.06458372443284721,0.29662265716174363,-0.04017916030438984,0.29662048551016884,0.3418612998776068,0.056831339700822145,0.40028000471362163,-0.04017970422198961,0.06453145419422737,0.45467753668753386,-0.04020864168686022,0.34185674630405366,0.3650854886328348,-0.04049958018166339,-0.022900584282511585,-0.04018598887059545,0.1301293826171759,-0.04018731495182508,0.400273210679138,0.2797373857026494,0.3941782815176636,0.31578863563118914,0.2960684302616678,0.06459937202110334,-0.04018426696783586,-0.04018565157960062,0.06460446245657293,0.0646128253624885,0.2966171934584255,0.3686912437030439,-0.09180161563232589,0.0978248163976563,0.0645032916160497,0.13060868827683414,-0.040983580198876275,-0.07201100156243696,-0.040182446125439385,-0.04018907610753443,-0.04019368419349262,-0.040193922322092505,0.29661568043224684,0.4519108884584418,0.06387526979412693,0.23530750684879692,0.4546749417170334,0.34617986409779317,-0.040208674317439096,0.06454903194770957,0.23530563555838704,0.313350098166195,0.23530676806224074,0.30888993068459314,0.2858180993983138,0.29662252466146666,0.3124920511096045,-0.04018769973875246,0.06455482794314037,0.4001218055210381,-0.041444355230238414,0.04458212937278289,0.0646123988682291,0.2353071472241415,0.23530716456816742,0.23520545064019624,-0.040193782428631177,0.06461120780974361,0.1306082690768927,0.09033593988188228,0.13270988567414552,-0.04018451706830921,0.20815604539399346,0.3969401239809127,0.2965689209255726,-0.04317107977323668,0.34616785486900187,0.1921109982698874,-0.04018458928561314,-0.04481505710275774,0.06452950442057558,0.31282112074583834,0.29653002608511075,-0.040181268715640824,0.1293190567057394,0.3812582915230828,0.07014038631164264,0.45465913227095106,0.23608756572653755,0.23530789703139973,0.0646001149274906,0.29661950891561456,-0.022900932224872425,0.34185933508782795,0.11293318406898274,0.23611428365222364,0.296578481585256,0.2715878708098542,0.2733308824435918,0.31957079494394336,0.2964231733568906,-0.0058304263599117485,0.14818309996403628,0.29621626709952453,0.06461213684167268,-0.04018076276208787,-0.040315302667681255,0.40015903692659094,0.4153126975608676,0.07068045651400513,0.23530606758323083,0.2964400084368564,0.06460508041457988,0.1299859148385207,0.06461182519569078,0.1481767654975281,0.4531552119325947,0.2961871129695999,0.23610717072296122,0.1306086889613067,-0.008517837354370571,0.2955896410781341,0.3834162937046373,0.38341407984787607,0.3834170266499814,0.3828806311150337,0.2740053064748095,0.29857572931612786,-0.04019580418801746,0.45465229552759623,0.4546724147928992,0.19233475574568837,0.1327907831333081,0.13059775822006345,-0.03555067274890914,0.13058259363700142,0.3103820703169719,-0.04770949553068761,0.23415259668792082,0.3828808092185821,-0.04042906242227852,0.1306059678030171,-0.05059592973636171,0.11441349967521458,-0.040180261139897304,-0.04020821299405012,0.3090467862732428,0.4131371404746882,0.23609145075787316,0.31336706921973995,0.8515663967570651,0.29629898096556995,0.4546771466815747],\"type\":\"scatter3d\"},{\"customdata\":[[\"VeChainThor Authority\"],[\"Proof-of-BibleHash\"],[\"SHA-256 + Hive\"],[\"Proof-of-Authority\"],[\"ECC 256K1\"],[\"Leased POS\"]],\"hovertemplate\":\"<b>%{hovertext}</b><br><br>Class=%{marker.color}<br>PC1=%{x}<br>PC2=%{y}<br>PC3=%{z}<br>Algorithm=%{customdata[0]}<extra></extra>\",\"hovertext\":[null,null,null,null,null,null],\"legendgroup\":\"0\",\"marker\":{\"color\":[0,0,0,0,0,0],\"coloraxis\":\"coloraxis\",\"symbol\":\"square\"},\"mode\":\"markers\",\"name\":\"0\",\"scene\":\"scene\",\"showlegend\":true,\"x\":[4.675652711077957,-0.12374822679259138,-0.4295788698169529,-0.3373189667358909,-0.17143130520725755,-0.44232097245190277],\"y\":[2.7125684267081462,3.121967773344644,2.860034472740444,3.274740677732295,3.4810345577854473,3.0416022613930322],\"z\":[6.862287651515755,10.824733326201505,17.99792078236436,14.900176790122737,7.276323533053133,17.145034900662424],\"type\":\"scatter3d\"},{\"customdata\":[[\"TRC10\"]],\"hovertemplate\":\"<b>%{hovertext}</b><br><br>Class=%{marker.color}<br>PC1=%{x}<br>PC2=%{y}<br>PC3=%{z}<br>Algorithm=%{customdata[0]}<extra></extra>\",\"hovertext\":[null],\"legendgroup\":\"2\",\"marker\":{\"color\":[2],\"coloraxis\":\"coloraxis\",\"symbol\":\"x\"},\"mode\":\"markers\",\"name\":\"2\",\"scene\":\"scene\",\"showlegend\":true,\"x\":[35.47860952331681],\"y\":[1.8287588093413594],\"z\":[-0.8111564084398516],\"type\":\"scatter3d\"}],                        {\"template\":{\"data\":{\"bar\":[{\"error_x\":{\"color\":\"#2a3f5f\"},\"error_y\":{\"color\":\"#2a3f5f\"},\"marker\":{\"line\":{\"color\":\"#E5ECF6\",\"width\":0.5},\"pattern\":{\"fillmode\":\"overlay\",\"size\":10,\"solidity\":0.2}},\"type\":\"bar\"}],\"barpolar\":[{\"marker\":{\"line\":{\"color\":\"#E5ECF6\",\"width\":0.5},\"pattern\":{\"fillmode\":\"overlay\",\"size\":10,\"solidity\":0.2}},\"type\":\"barpolar\"}],\"carpet\":[{\"aaxis\":{\"endlinecolor\":\"#2a3f5f\",\"gridcolor\":\"white\",\"linecolor\":\"white\",\"minorgridcolor\":\"white\",\"startlinecolor\":\"#2a3f5f\"},\"baxis\":{\"endlinecolor\":\"#2a3f5f\",\"gridcolor\":\"white\",\"linecolor\":\"white\",\"minorgridcolor\":\"white\",\"startlinecolor\":\"#2a3f5f\"},\"type\":\"carpet\"}],\"choropleth\":[{\"colorbar\":{\"outlinewidth\":0,\"ticks\":\"\"},\"type\":\"choropleth\"}],\"contour\":[{\"colorbar\":{\"outlinewidth\":0,\"ticks\":\"\"},\"colorscale\":[[0.0,\"#0d0887\"],[0.1111111111111111,\"#46039f\"],[0.2222222222222222,\"#7201a8\"],[0.3333333333333333,\"#9c179e\"],[0.4444444444444444,\"#bd3786\"],[0.5555555555555556,\"#d8576b\"],[0.6666666666666666,\"#ed7953\"],[0.7777777777777778,\"#fb9f3a\"],[0.8888888888888888,\"#fdca26\"],[1.0,\"#f0f921\"]],\"type\":\"contour\"}],\"contourcarpet\":[{\"colorbar\":{\"outlinewidth\":0,\"ticks\":\"\"},\"type\":\"contourcarpet\"}],\"heatmap\":[{\"colorbar\":{\"outlinewidth\":0,\"ticks\":\"\"},\"colorscale\":[[0.0,\"#0d0887\"],[0.1111111111111111,\"#46039f\"],[0.2222222222222222,\"#7201a8\"],[0.3333333333333333,\"#9c179e\"],[0.4444444444444444,\"#bd3786\"],[0.5555555555555556,\"#d8576b\"],[0.6666666666666666,\"#ed7953\"],[0.7777777777777778,\"#fb9f3a\"],[0.8888888888888888,\"#fdca26\"],[1.0,\"#f0f921\"]],\"type\":\"heatmap\"}],\"heatmapgl\":[{\"colorbar\":{\"outlinewidth\":0,\"ticks\":\"\"},\"colorscale\":[[0.0,\"#0d0887\"],[0.1111111111111111,\"#46039f\"],[0.2222222222222222,\"#7201a8\"],[0.3333333333333333,\"#9c179e\"],[0.4444444444444444,\"#bd3786\"],[0.5555555555555556,\"#d8576b\"],[0.6666666666666666,\"#ed7953\"],[0.7777777777777778,\"#fb9f3a\"],[0.8888888888888888,\"#fdca26\"],[1.0,\"#f0f921\"]],\"type\":\"heatmapgl\"}],\"histogram\":[{\"marker\":{\"pattern\":{\"fillmode\":\"overlay\",\"size\":10,\"solidity\":0.2}},\"type\":\"histogram\"}],\"histogram2d\":[{\"colorbar\":{\"outlinewidth\":0,\"ticks\":\"\"},\"colorscale\":[[0.0,\"#0d0887\"],[0.1111111111111111,\"#46039f\"],[0.2222222222222222,\"#7201a8\"],[0.3333333333333333,\"#9c179e\"],[0.4444444444444444,\"#bd3786\"],[0.5555555555555556,\"#d8576b\"],[0.6666666666666666,\"#ed7953\"],[0.7777777777777778,\"#fb9f3a\"],[0.8888888888888888,\"#fdca26\"],[1.0,\"#f0f921\"]],\"type\":\"histogram2d\"}],\"histogram2dcontour\":[{\"colorbar\":{\"outlinewidth\":0,\"ticks\":\"\"},\"colorscale\":[[0.0,\"#0d0887\"],[0.1111111111111111,\"#46039f\"],[0.2222222222222222,\"#7201a8\"],[0.3333333333333333,\"#9c179e\"],[0.4444444444444444,\"#bd3786\"],[0.5555555555555556,\"#d8576b\"],[0.6666666666666666,\"#ed7953\"],[0.7777777777777778,\"#fb9f3a\"],[0.8888888888888888,\"#fdca26\"],[1.0,\"#f0f921\"]],\"type\":\"histogram2dcontour\"}],\"mesh3d\":[{\"colorbar\":{\"outlinewidth\":0,\"ticks\":\"\"},\"type\":\"mesh3d\"}],\"parcoords\":[{\"line\":{\"colorbar\":{\"outlinewidth\":0,\"ticks\":\"\"}},\"type\":\"parcoords\"}],\"pie\":[{\"automargin\":true,\"type\":\"pie\"}],\"scatter\":[{\"marker\":{\"colorbar\":{\"outlinewidth\":0,\"ticks\":\"\"}},\"type\":\"scatter\"}],\"scatter3d\":[{\"line\":{\"colorbar\":{\"outlinewidth\":0,\"ticks\":\"\"}},\"marker\":{\"colorbar\":{\"outlinewidth\":0,\"ticks\":\"\"}},\"type\":\"scatter3d\"}],\"scattercarpet\":[{\"marker\":{\"colorbar\":{\"outlinewidth\":0,\"ticks\":\"\"}},\"type\":\"scattercarpet\"}],\"scattergeo\":[{\"marker\":{\"colorbar\":{\"outlinewidth\":0,\"ticks\":\"\"}},\"type\":\"scattergeo\"}],\"scattergl\":[{\"marker\":{\"colorbar\":{\"outlinewidth\":0,\"ticks\":\"\"}},\"type\":\"scattergl\"}],\"scattermapbox\":[{\"marker\":{\"colorbar\":{\"outlinewidth\":0,\"ticks\":\"\"}},\"type\":\"scattermapbox\"}],\"scatterpolar\":[{\"marker\":{\"colorbar\":{\"outlinewidth\":0,\"ticks\":\"\"}},\"type\":\"scatterpolar\"}],\"scatterpolargl\":[{\"marker\":{\"colorbar\":{\"outlinewidth\":0,\"ticks\":\"\"}},\"type\":\"scatterpolargl\"}],\"scatterternary\":[{\"marker\":{\"colorbar\":{\"outlinewidth\":0,\"ticks\":\"\"}},\"type\":\"scatterternary\"}],\"surface\":[{\"colorbar\":{\"outlinewidth\":0,\"ticks\":\"\"},\"colorscale\":[[0.0,\"#0d0887\"],[0.1111111111111111,\"#46039f\"],[0.2222222222222222,\"#7201a8\"],[0.3333333333333333,\"#9c179e\"],[0.4444444444444444,\"#bd3786\"],[0.5555555555555556,\"#d8576b\"],[0.6666666666666666,\"#ed7953\"],[0.7777777777777778,\"#fb9f3a\"],[0.8888888888888888,\"#fdca26\"],[1.0,\"#f0f921\"]],\"type\":\"surface\"}],\"table\":[{\"cells\":{\"fill\":{\"color\":\"#EBF0F8\"},\"line\":{\"color\":\"white\"}},\"header\":{\"fill\":{\"color\":\"#C8D4E3\"},\"line\":{\"color\":\"white\"}},\"type\":\"table\"}]},\"layout\":{\"annotationdefaults\":{\"arrowcolor\":\"#2a3f5f\",\"arrowhead\":0,\"arrowwidth\":1},\"autotypenumbers\":\"strict\",\"coloraxis\":{\"colorbar\":{\"outlinewidth\":0,\"ticks\":\"\"}},\"colorscale\":{\"diverging\":[[0,\"#8e0152\"],[0.1,\"#c51b7d\"],[0.2,\"#de77ae\"],[0.3,\"#f1b6da\"],[0.4,\"#fde0ef\"],[0.5,\"#f7f7f7\"],[0.6,\"#e6f5d0\"],[0.7,\"#b8e186\"],[0.8,\"#7fbc41\"],[0.9,\"#4d9221\"],[1,\"#276419\"]],\"sequential\":[[0.0,\"#0d0887\"],[0.1111111111111111,\"#46039f\"],[0.2222222222222222,\"#7201a8\"],[0.3333333333333333,\"#9c179e\"],[0.4444444444444444,\"#bd3786\"],[0.5555555555555556,\"#d8576b\"],[0.6666666666666666,\"#ed7953\"],[0.7777777777777778,\"#fb9f3a\"],[0.8888888888888888,\"#fdca26\"],[1.0,\"#f0f921\"]],\"sequentialminus\":[[0.0,\"#0d0887\"],[0.1111111111111111,\"#46039f\"],[0.2222222222222222,\"#7201a8\"],[0.3333333333333333,\"#9c179e\"],[0.4444444444444444,\"#bd3786\"],[0.5555555555555556,\"#d8576b\"],[0.6666666666666666,\"#ed7953\"],[0.7777777777777778,\"#fb9f3a\"],[0.8888888888888888,\"#fdca26\"],[1.0,\"#f0f921\"]]},\"colorway\":[\"#636efa\",\"#EF553B\",\"#00cc96\",\"#ab63fa\",\"#FFA15A\",\"#19d3f3\",\"#FF6692\",\"#B6E880\",\"#FF97FF\",\"#FECB52\"],\"font\":{\"color\":\"#2a3f5f\"},\"geo\":{\"bgcolor\":\"white\",\"lakecolor\":\"white\",\"landcolor\":\"#E5ECF6\",\"showlakes\":true,\"showland\":true,\"subunitcolor\":\"white\"},\"hoverlabel\":{\"align\":\"left\"},\"hovermode\":\"closest\",\"mapbox\":{\"style\":\"light\"},\"paper_bgcolor\":\"white\",\"plot_bgcolor\":\"#E5ECF6\",\"polar\":{\"angularaxis\":{\"gridcolor\":\"white\",\"linecolor\":\"white\",\"ticks\":\"\"},\"bgcolor\":\"#E5ECF6\",\"radialaxis\":{\"gridcolor\":\"white\",\"linecolor\":\"white\",\"ticks\":\"\"}},\"scene\":{\"xaxis\":{\"backgroundcolor\":\"#E5ECF6\",\"gridcolor\":\"white\",\"gridwidth\":2,\"linecolor\":\"white\",\"showbackground\":true,\"ticks\":\"\",\"zerolinecolor\":\"white\"},\"yaxis\":{\"backgroundcolor\":\"#E5ECF6\",\"gridcolor\":\"white\",\"gridwidth\":2,\"linecolor\":\"white\",\"showbackground\":true,\"ticks\":\"\",\"zerolinecolor\":\"white\"},\"zaxis\":{\"backgroundcolor\":\"#E5ECF6\",\"gridcolor\":\"white\",\"gridwidth\":2,\"linecolor\":\"white\",\"showbackground\":true,\"ticks\":\"\",\"zerolinecolor\":\"white\"}},\"shapedefaults\":{\"line\":{\"color\":\"#2a3f5f\"}},\"ternary\":{\"aaxis\":{\"gridcolor\":\"white\",\"linecolor\":\"white\",\"ticks\":\"\"},\"baxis\":{\"gridcolor\":\"white\",\"linecolor\":\"white\",\"ticks\":\"\"},\"bgcolor\":\"#E5ECF6\",\"caxis\":{\"gridcolor\":\"white\",\"linecolor\":\"white\",\"ticks\":\"\"}},\"title\":{\"x\":0.05},\"xaxis\":{\"automargin\":true,\"gridcolor\":\"white\",\"linecolor\":\"white\",\"ticks\":\"\",\"title\":{\"standoff\":15},\"zerolinecolor\":\"white\",\"zerolinewidth\":2},\"yaxis\":{\"automargin\":true,\"gridcolor\":\"white\",\"linecolor\":\"white\",\"ticks\":\"\",\"title\":{\"standoff\":15},\"zerolinecolor\":\"white\",\"zerolinewidth\":2}}},\"scene\":{\"domain\":{\"x\":[0.0,1.0],\"y\":[0.0,1.0]},\"xaxis\":{\"title\":{\"text\":\"PC1\"}},\"yaxis\":{\"title\":{\"text\":\"PC2\"}},\"zaxis\":{\"title\":{\"text\":\"PC3\"}}},\"coloraxis\":{\"colorbar\":{\"title\":{\"text\":\"Class\"}},\"colorscale\":[[0.0,\"#0d0887\"],[0.1111111111111111,\"#46039f\"],[0.2222222222222222,\"#7201a8\"],[0.3333333333333333,\"#9c179e\"],[0.4444444444444444,\"#bd3786\"],[0.5555555555555556,\"#d8576b\"],[0.6666666666666666,\"#ed7953\"],[0.7777777777777778,\"#fb9f3a\"],[0.8888888888888888,\"#fdca26\"],[1.0,\"#f0f921\"]]},\"legend\":{\"title\":{\"text\":\"Class\"},\"tracegroupgap\":0,\"x\":0,\"y\":1},\"margin\":{\"t\":60},\"width\":800},                        {\"responsive\": true}                    ).then(function(){\n",
       "                            \n",
       "var gd = document.getElementById('b312d2ac-2a0f-4d99-8324-8cedb9c9d66f');\n",
       "var x = new MutationObserver(function (mutations, observer) {{\n",
       "        var display = window.getComputedStyle(gd).display;\n",
       "        if (!display || display === 'none') {{\n",
       "            console.log([gd, 'removed!']);\n",
       "            Plotly.purge(gd);\n",
       "            observer.disconnect();\n",
       "        }}\n",
       "}});\n",
       "\n",
       "// Listen for the removal of the full notebook cells\n",
       "var notebookContainer = gd.closest('#notebook-container');\n",
       "if (notebookContainer) {{\n",
       "    x.observe(notebookContainer, {childList: true});\n",
       "}}\n",
       "\n",
       "// Listen for the clearing of the current output cell\n",
       "var outputEl = gd.closest('.output');\n",
       "if (outputEl) {{\n",
       "    x.observe(outputEl, {childList: true});\n",
       "}}\n",
       "\n",
       "                        })                };                });            </script>        </div>"
      ]
     },
     "metadata": {},
     "output_type": "display_data"
    }
   ],
   "source": [
    "# Creating a 3D-Scatter with the PCA data and the clusters\n",
    "# 3D Plot\n",
    "fig = px.scatter_3d(\n",
    "    crypto_clustered_df,\n",
    "    x=\"PC1\",\n",
    "    y=\"PC2\",\n",
    "    z=\"PC3\",\n",
    "    color=\"Class\",\n",
    "    symbol=\"Class\",\n",
    "    width=800,\n",
    "    hover_name=\"CoinName\",\n",
    "    hover_data=[\"Algorithm\"],\n",
    ")\n",
    "fig.update_layout(legend=dict(x=0, y=1))\n",
    "fig.show()\n"
   ]
  },
  {
   "cell_type": "code",
   "execution_count": 348,
   "metadata": {},
   "outputs": [
    {
     "data": {},
     "metadata": {},
     "output_type": "display_data"
    },
    {
     "data": {
      "application/vnd.holoviews_exec.v0+json": "",
      "text/html": [
       "<div id='2640'>\n",
       "\n",
       "\n",
       "\n",
       "\n",
       "\n",
       "  <div class=\"bk-root\" id=\"9ee7b1ec-66b2-492e-a038-146c66080f66\" data-root-id=\"2640\"></div>\n",
       "</div>\n",
       "<script type=\"application/javascript\">(function(root) {\n",
       "  function embed_document(root) {\n",
       "    var docs_json = {\"d51a151d-faa0-447d-8dac-132859a90300\":{\"defs\":[{\"extends\":null,\"module\":null,\"name\":\"ReactiveHTML1\",\"overrides\":[],\"properties\":[]},{\"extends\":null,\"module\":null,\"name\":\"FlexBox1\",\"overrides\":[],\"properties\":[{\"default\":\"flex-start\",\"kind\":null,\"name\":\"align_content\"},{\"default\":\"flex-start\",\"kind\":null,\"name\":\"align_items\"},{\"default\":\"row\",\"kind\":null,\"name\":\"flex_direction\"},{\"default\":\"wrap\",\"kind\":null,\"name\":\"flex_wrap\"},{\"default\":\"flex-start\",\"kind\":null,\"name\":\"justify_content\"}]},{\"extends\":null,\"module\":null,\"name\":\"GridStack1\",\"overrides\":[],\"properties\":[{\"default\":\"warn\",\"kind\":null,\"name\":\"mode\"},{\"default\":null,\"kind\":null,\"name\":\"ncols\"},{\"default\":null,\"kind\":null,\"name\":\"nrows\"},{\"default\":true,\"kind\":null,\"name\":\"allow_resize\"},{\"default\":true,\"kind\":null,\"name\":\"allow_drag\"},{\"default\":[],\"kind\":null,\"name\":\"state\"}]},{\"extends\":null,\"module\":null,\"name\":\"click1\",\"overrides\":[],\"properties\":[{\"default\":\"\",\"kind\":null,\"name\":\"terminal_output\"},{\"default\":\"\",\"kind\":null,\"name\":\"debug_name\"},{\"default\":0,\"kind\":null,\"name\":\"clears\"}]},{\"extends\":null,\"module\":null,\"name\":\"TemplateActions1\",\"overrides\":[],\"properties\":[{\"default\":0,\"kind\":null,\"name\":\"open_modal\"},{\"default\":0,\"kind\":null,\"name\":\"close_modal\"}]},{\"extends\":null,\"module\":null,\"name\":\"MaterialTemplateActions1\",\"overrides\":[],\"properties\":[{\"default\":0,\"kind\":null,\"name\":\"open_modal\"},{\"default\":0,\"kind\":null,\"name\":\"close_modal\"}]}],\"roots\":{\"references\":[{\"attributes\":{},\"id\":\"2659\",\"type\":\"StringFormatter\"},{\"attributes\":{},\"id\":\"2645\",\"type\":\"StringEditor\"},{\"attributes\":{\"editor\":{\"id\":\"2645\"},\"field\":\"CoinName\",\"formatter\":{\"id\":\"2644\"},\"title\":\"CoinName\"},\"id\":\"2646\",\"type\":\"TableColumn\"},{\"attributes\":{},\"id\":\"2670\",\"type\":\"IntEditor\"},{\"attributes\":{\"margin\":[5,5,5,5],\"name\":\"HSpacer04674\",\"sizing_mode\":\"stretch_width\"},\"id\":\"2641\",\"type\":\"Spacer\"},{\"attributes\":{\"source\":{\"id\":\"2642\"}},\"id\":\"2676\",\"type\":\"CDSView\"},{\"attributes\":{},\"id\":\"2650\",\"type\":\"StringEditor\"},{\"attributes\":{},\"id\":\"2649\",\"type\":\"StringFormatter\"},{\"attributes\":{\"editor\":{\"id\":\"2665\"},\"field\":\"TotalCoinsMined\",\"formatter\":{\"id\":\"2664\"},\"title\":\"TotalCoinsMined\"},\"id\":\"2666\",\"type\":\"TableColumn\"},{\"attributes\":{\"editor\":{\"id\":\"2655\"},\"field\":\"ProofType\",\"formatter\":{\"id\":\"2654\"},\"title\":\"ProofType\"},\"id\":\"2656\",\"type\":\"TableColumn\"},{\"attributes\":{\"editor\":{\"id\":\"2660\"},\"field\":\"TotalCoinSupply\",\"formatter\":{\"id\":\"2659\"},\"title\":\"TotalCoinSupply\"},\"id\":\"2661\",\"type\":\"TableColumn\"},{\"attributes\":{\"children\":[{\"id\":\"2641\"},{\"id\":\"2674\"},{\"id\":\"2681\"}],\"margin\":[0,0,0,0],\"name\":\"Row04670\",\"tags\":[\"embedded\"]},\"id\":\"2640\",\"type\":\"Row\"},{\"attributes\":{\"format\":\"0,0.0[00000]\"},\"id\":\"2664\",\"type\":\"NumberFormatter\"},{\"attributes\":{\"margin\":[5,5,5,5],\"name\":\"HSpacer04675\",\"sizing_mode\":\"stretch_width\"},\"id\":\"2681\",\"type\":\"Spacer\"},{\"attributes\":{\"data\":{\"Algorithm\":[\"Scrypt\",\"Scrypt\",\"X13\",\"SHA-256\",\"Ethash\",\"Scrypt\",\"X11\",\"CryptoNight-V7\",\"Ethash\",\"Equihash\",\"SHA-512\",\"Multiple\",\"SHA-256\",\"SHA-256\",\"Scrypt\",\"X15\",\"X11\",\"Scrypt\",\"Scrypt\",\"Scrypt\",\"Multiple\",\"Scrypt\",\"SHA-256\",\"Scrypt\",\"Scrypt\",\"Scrypt\",\"Quark\",\"Groestl\",\"Scrypt\",\"Scrypt\",\"Scrypt\",\"Scrypt\",\"Scrypt\",\"X11\",\"Scrypt\",\"Groestl\",\"Multiple\",\"SHA-256\",\"Scrypt\",\"Scrypt\",\"Scrypt\",\"Scrypt\",\"PoS\",\"Scrypt\",\"Scrypt\",\"NeoScrypt\",\"Scrypt\",\"Scrypt\",\"Scrypt\",\"Scrypt\",\"X11\",\"Scrypt\",\"X11\",\"SHA-256\",\"Scrypt\",\"Scrypt\",\"Scrypt\",\"SHA3\",\"Scrypt\",\"HybridScryptHash256\",\"Scrypt\",\"Scrypt\",\"SHA-256\",\"Scrypt\",\"X13\",\"Scrypt\",\"SHA-256\",\"Scrypt\",\"X13\",\"NeoScrypt\",\"Scrypt\",\"Scrypt\",\"Scrypt\",\"Scrypt\",\"Scrypt\",\"Scrypt\",\"X11\",\"X11\",\"SHA-256\",\"Multiple\",\"SHA-256\",\"PHI1612\",\"X11\",\"SHA-256\",\"SHA-256\",\"SHA-256\",\"X11\",\"Scrypt\",\"Scrypt\",\"Scrypt\",\"Scrypt\",\"Lyra2REv2\",\"Scrypt\",\"X11\",\"Multiple\",\"SHA-256\",\"X13\",\"Scrypt\",\"CryptoNight\",\"CryptoNight\",\"Shabal256\",\"Counterparty\",\"Scrypt\",\"SHA-256\",\"Groestl\",\"Scrypt\",\"Scrypt\",\"Scrypt\",\"X13\",\"Scrypt\",\"Scrypt\",\"Scrypt\",\"Scrypt\",\"X13\",\"Scrypt\",\"Stanford Folding\",\"X11\",\"Multiple\",\"QuBit\",\"Scrypt\",\"Scrypt\",\"Scrypt\",\"M7 POW\",\"Scrypt\",\"SHA-256\",\"Scrypt\",\"X11\",\"SHA3\",\"X11\",\"Lyra2RE\",\"SHA-256\",\"QUAIT\",\"X11\",\"X11\",\"Scrypt\",\"Scrypt\",\"Scrypt\",\"Ethash\",\"X13\",\"Blake2b\",\"SHA-256\",\"X15\",\"X11\",\"SHA-256\",\"BLAKE256\",\"Scrypt\",\"1GB AES Pattern Search\",\"SHA-256\",\"X11\",\"Scrypt\",\"SHA-256\",\"SHA-256\",\"NIST5\",\"Scrypt\",\"Scrypt\",\"X11\",\"Dagger\",\"Scrypt\",\"X11GOST\",\"X11\",\"Scrypt\",\"SHA-256\",\"Scrypt\",\"PoS\",\"Scrypt\",\"ScryptOG\",\"X11\",\"X11\",\"SHA-256\",\"SHA-256\",\"NIST5\",\"X11\",\"Scrypt\",\"POS 3.0\",\"Scrypt\",\"Scrypt\",\"Scrypt\",\"X13\",\"X11\",\"X11\",\"Equihash\",\"X11\",\"Scrypt\",\"CryptoNight\",\"SHA-256\",\"SHA-256\",\"X11\",\"Scrypt\",\"Multiple\",\"Scrypt\",\"Scrypt\",\"Scrypt\",\"SHA-256\",\"Scrypt\",\"Scrypt\",\"SHA-256D\",\"PoS\",\"Scrypt\",\"X11\",\"Lyra2Z\",\"PoS\",\"X13\",\"X14\",\"PoS\",\"SHA-256D\",\"Ethash\",\"Equihash\",\"DPoS\",\"X11\",\"Scrypt\",\"X11\",\"X13\",\"X11\",\"PoS\",\"Scrypt\",\"Scrypt\",\"X11\",\"PoS\",\"X11\",\"SHA-256\",\"Scrypt\",\"X11\",\"Scrypt\",\"Scrypt\",\"X11\",\"CryptoNight\",\"Scrypt\",\"Scrypt\",\"Scrypt\",\"Scrypt\",\"Quark\",\"QuBit\",\"Scrypt\",\"CryptoNight\",\"Lyra2RE\",\"Scrypt\",\"SHA-256\",\"X11\",\"Scrypt\",\"X11\",\"Scrypt\",\"CryptoNight-V7\",\"Scrypt\",\"Scrypt\",\"Scrypt\",\"X13\",\"X11\",\"Equihash\",\"Scrypt\",\"Scrypt\",\"Lyra2RE\",\"Scrypt\",\"Dagger-Hashimoto\",\"X11\",\"Blake2S\",\"X11\",\"Scrypt\",\"PoS\",\"X11\",\"NIST5\",\"PoS\",\"X11\",\"Scrypt\",\"Scrypt\",\"Scrypt\",\"SHA-256\",\"X11\",\"Scrypt\",\"Scrypt\",\"SHA-256\",\"PoS\",\"Scrypt\",\"X15\",\"SHA-256\",\"Scrypt\",\"POS 3.0\",\"CryptoNight-V7\",\"536\",\"Argon2d\",\"Blake2b\",\"Cloverhash\",\"CryptoNight\",\"NIST5\",\"X11\",\"NIST5\",\"Skein\",\"Scrypt\",\"X13\",\"Scrypt\",\"X11\",\"X11\",\"Scrypt\",\"CryptoNight\",\"X13\",\"Time Travel\",\"Scrypt\",\"Keccak\",\"SkunkHash v2 Raptor\",\"X11\",\"Skein\",\"SHA-256\",\"X11\",\"Scrypt\",\"VeChainThor Authority\",\"Scrypt\",\"PoS\",\"Scrypt\",\"Scrypt\",\"Scrypt\",\"Scrypt\",\"Scrypt\",\"Scrypt\",\"Scrypt\",\"CryptoNight\",\"SHA-512\",\"Ouroboros\",\"X11\",\"Equihash\",\"NeoScrypt\",\"X11\",\"Scrypt\",\"NeoScrypt\",\"Lyra2REv2\",\"Equihash\",\"Scrypt\",\"SHA-256\",\"NIST5\",\"PHI1612\",\"Dagger\",\"Scrypt\",\"Quark\",\"Scrypt\",\"POS 2.0\",\"Scrypt\",\"SHA-256\",\"X11\",\"NeoScrypt\",\"Ethash\",\"NeoScrypt\",\"Quark\",\"X11\",\"DPoS\",\"NIST5\",\"X13\",\"Multiple\",\"Scrypt\",\"CryptoNight\",\"CryptoNight\",\"Ethash\",\"NIST5\",\"Scrypt\",\"Quark\",\"X11\",\"CryptoNight-V7\",\"Scrypt\",\"Scrypt\",\"Scrypt\",\"X11\",\"BLAKE256\",\"X11\",\"Scrypt\",\"Scrypt\",\"NeoScrypt\",\"NeoScrypt\",\"Quark\",\"NeoScrypt\",\"Scrypt\",\"Scrypt\",\"Scrypt\",\"X11\",\"Scrypt\",\"X11\",\"SHA-256\",\"C11\",\"POS 3.0\",\"Ethash\",\"Scrypt\",\"Scrypt\",\"CryptoNight\",\"SkunkHash\",\"Scrypt\",\"CryptoNight\",\"X11\",\"Scrypt\",\"SHA-256\",\"Dagger\",\"Lyra2REv2\",\"X13\",\"Proof-of-BibleHash\",\"SHA-256 + Hive\",\"Scrypt\",\"Scrypt\",\"Skein\",\"X11\",\"Skein\",\"X11\",\"C11\",\"Proof-of-Authority\",\"X11\",\"XEVAN\",\"Scrypt\",\"VBFT\",\"Ethash\",\"CryptoNight\",\"Scrypt\",\"SHA-256\",\"IMesh\",\"PHI1612\",\"Quark\",\"NIST5\",\"Scrypt\",\"Scrypt\",\"Equihash\",\"Scrypt\",\"Lyra2Z\",\"Green Protocol\",\"PoS\",\"Scrypt\",\"NeoScrypt\",\"Semux BFT consensus\",\"X11\",\"Quark\",\"PoS\",\"CryptoNight\",\"X16R\",\"Scrypt\",\"NIST5\",\"Lyra2RE\",\"XEVAN\",\"Tribus\",\"Scrypt\",\"Lyra2Z\",\"Scrypt\",\"Scrypt\",\"CryptoNight\",\"X11\",\"SHA-256D\",\"CryptoNight Heavy\",\"CryptoNight\",\"Scrypt\",\"Scrypt\",\"X11\",\"Scrypt\",\"Jump Consistent Hash\",\"SHA-256D\",\"CryptoNight\",\"Scrypt\",\"X15\",\"Scrypt\",\"Quark\",\"Scrypt\",\"SHA-512\",\"SHA-256\",\"DPoS\",\"X16R\",\"HMQ1725\",\"X11\",\"Scrypt\",\"X16R\",\"Quark\",\"Quark\",\"Scrypt\",\"Lyra2REv2\",\"Quark\",\"Scrypt\",\"Scrypt\",\"Scrypt\",\"CryptoNight-V7\",\"Cryptonight-GPU\",\"XEVAN\",\"CryptoNight Heavy\",\"CryptoNight\",\"X11\",\"X11\",\"X11\",\"Scrypt\",\"PoS\",\"SHA-256\",\"Keccak\",\"X11\",\"X11\",\"Tribus\",\"Scrypt\",\"NeoScrypt\",\"SHA-512\",\"X16R\",\"ECC 256K1\",\"Equihash\",\"XEVAN\",\"HMQ1725\",\"Lyra2Z\",\"SHA-512\",\"SHA-256\",\"Quark\",\"PHI1612\",\"XEVAN\",\"X11\",\"CryptoNight\",\"Quark\",\"Blake\",\"Blake\",\"Blake\",\"Blake\",\"Equihash\",\"Exosis\",\"Scrypt\",\"Scrypt\",\"Equihash\",\"Quark\",\"Equihash\",\"Quark\",\"Scrypt\",\"Lyra2REv2\",\"QuBit\",\"X11\",\"Scrypt\",\"XEVAN\",\"SHA-256D\",\"X11\",\"SHA-256\",\"X13\",\"SHA-256\",\"X11\",\"DPoS\",\"Ethash\",\"Scrypt\",\"Scrypt\",\"X11\",\"NeoScrypt\",\"Scrypt\",\"Blake\",\"Scrypt\",\"SHA-256\",\"Scrypt\",\"X11\",\"Scrypt\",\"Scrypt\",\"SHA-256\",\"X11\",\"SHA-256\",\"Scrypt\",\"Scrypt\",\"Scrypt\",\"Groestl\",\"X11\",\"Scrypt\",\"PoS\",\"Scrypt\",\"Scrypt\",\"X11\",\"SHA-256\",\"DPoS\",\"Scrypt\",\"Scrypt\",\"NeoScrypt\",\"SHA3-256\",\"Multiple\",\"X13\",\"Equihash+Scrypt\",\"Lyra2Z\",\"PHI2\",\"DPoS\",\"Ethash\",\"DPoS\",\"SHA-256\",\"Lyra2Z\",\"Leased POS\",\"PoS\",\"Scrypt\",\"TRC10\",\"Equihash\",\"PoS\",\"SHA-256\",\"Scrypt\",\"CryptoNight\",\"Equihash\",\"Scrypt\",\"Scrypt\"],\"Class\":{\"__ndarray__\":\"AwAAAAMAAAADAAAAAQAAAAEAAAABAAAAAwAAAAEAAAABAAAAAQAAAAMAAAABAAAAAwAAAAMAAAABAAAAAwAAAAEAAAABAAAAAwAAAAMAAAABAAAAAQAAAAEAAAABAAAAAQAAAAMAAAABAAAAAQAAAAEAAAADAAAAAQAAAAMAAAABAAAAAQAAAAMAAAADAAAAAQAAAAEAAAABAAAAAQAAAAEAAAABAAAAAwAAAAMAAAABAAAAAQAAAAEAAAABAAAAAQAAAAMAAAADAAAAAQAAAAMAAAABAAAAAQAAAAEAAAABAAAAAwAAAAEAAAABAAAAAwAAAAEAAAADAAAAAwAAAAMAAAABAAAAAQAAAAEAAAADAAAAAwAAAAMAAAADAAAAAwAAAAEAAAABAAAAAQAAAAMAAAADAAAAAQAAAAMAAAABAAAAAwAAAAMAAAABAAAAAQAAAAEAAAABAAAAAwAAAAMAAAABAAAAAwAAAAEAAAABAAAAAwAAAAMAAAABAAAAAwAAAAMAAAABAAAAAQAAAAMAAAADAAAAAQAAAAMAAAADAAAAAQAAAAMAAAABAAAAAwAAAAEAAAADAAAAAQAAAAMAAAADAAAAAQAAAAEAAAADAAAAAQAAAAEAAAABAAAAAwAAAAEAAAABAAAAAQAAAAEAAAABAAAAAwAAAAMAAAABAAAAAQAAAAEAAAADAAAAAQAAAAMAAAABAAAAAQAAAAMAAAABAAAAAwAAAAEAAAADAAAAAwAAAAEAAAABAAAAAwAAAAEAAAABAAAAAwAAAAMAAAABAAAAAwAAAAEAAAADAAAAAwAAAAMAAAABAAAAAQAAAAEAAAABAAAAAwAAAAMAAAADAAAAAwAAAAMAAAABAAAAAQAAAAEAAAADAAAAAwAAAAMAAAADAAAAAwAAAAEAAAADAAAAAwAAAAMAAAADAAAAAwAAAAEAAAADAAAAAQAAAAMAAAADAAAAAQAAAAMAAAABAAAAAwAAAAMAAAABAAAAAwAAAAEAAAADAAAAAQAAAAMAAAABAAAAAwAAAAMAAAADAAAAAwAAAAEAAAADAAAAAwAAAAMAAAADAAAAAwAAAAEAAAABAAAAAwAAAAMAAAABAAAAAQAAAAMAAAADAAAAAwAAAAMAAAADAAAAAQAAAAMAAAADAAAAAwAAAAMAAAADAAAAAwAAAAMAAAADAAAAAQAAAAMAAAADAAAAAwAAAAMAAAADAAAAAwAAAAEAAAABAAAAAQAAAAMAAAADAAAAAwAAAAMAAAABAAAAAwAAAAEAAAADAAAAAwAAAAEAAAADAAAAAQAAAAEAAAADAAAAAQAAAAEAAAADAAAAAQAAAAMAAAADAAAAAwAAAAEAAAADAAAAAwAAAAEAAAADAAAAAwAAAAMAAAADAAAAAwAAAAMAAAADAAAAAQAAAAMAAAABAAAAAwAAAAMAAAADAAAAAwAAAAEAAAADAAAAAQAAAAMAAAABAAAAAQAAAAEAAAABAAAAAwAAAAEAAAADAAAAAwAAAAEAAAADAAAAAQAAAAEAAAABAAAAAwAAAAEAAAADAAAAAQAAAAEAAAABAAAAAwAAAAEAAAADAAAAAQAAAAMAAAADAAAAAAAAAAEAAAADAAAAAQAAAAEAAAABAAAAAQAAAAEAAAADAAAAAwAAAAEAAAADAAAAAwAAAAMAAAABAAAAAwAAAAEAAAADAAAAAQAAAAMAAAABAAAAAwAAAAMAAAADAAAAAwAAAAEAAAADAAAAAwAAAAEAAAADAAAAAwAAAAMAAAABAAAAAQAAAAEAAAABAAAAAwAAAAMAAAADAAAAAwAAAAMAAAABAAAAAwAAAAEAAAABAAAAAQAAAAMAAAABAAAAAwAAAAEAAAABAAAAAwAAAAMAAAABAAAAAwAAAAEAAAABAAAAAwAAAAMAAAABAAAAAQAAAAMAAAABAAAAAQAAAAMAAAADAAAAAwAAAAMAAAABAAAAAQAAAAEAAAADAAAAAQAAAAEAAAADAAAAAQAAAAEAAAADAAAAAQAAAAMAAAABAAAAAwAAAAEAAAABAAAAAwAAAAAAAAAAAAAAAQAAAAEAAAADAAAAAwAAAAMAAAABAAAAAwAAAAAAAAADAAAAAwAAAAMAAAADAAAAAQAAAAEAAAABAAAAAQAAAAEAAAADAAAAAQAAAAMAAAADAAAAAwAAAAEAAAADAAAAAQAAAAMAAAADAAAAAwAAAAEAAAADAAAAAQAAAAMAAAADAAAAAQAAAAMAAAADAAAAAQAAAAEAAAADAAAAAQAAAAMAAAABAAAAAwAAAAMAAAABAAAAAwAAAAMAAAABAAAAAQAAAAMAAAADAAAAAwAAAAMAAAABAAAAAwAAAAEAAAADAAAAAwAAAAMAAAADAAAAAwAAAAEAAAADAAAAAwAAAAEAAAABAAAAAQAAAAMAAAADAAAAAwAAAAMAAAADAAAAAwAAAAMAAAABAAAAAQAAAAMAAAABAAAAAQAAAAEAAAABAAAAAQAAAAMAAAABAAAAAwAAAAMAAAADAAAAAQAAAAMAAAADAAAAAQAAAAMAAAADAAAAAwAAAAMAAAABAAAAAAAAAAEAAAADAAAAAQAAAAEAAAADAAAAAQAAAAMAAAABAAAAAwAAAAMAAAABAAAAAwAAAAEAAAABAAAAAQAAAAEAAAABAAAAAQAAAAEAAAADAAAAAQAAAAMAAAABAAAAAwAAAAMAAAABAAAAAQAAAAMAAAADAAAAAwAAAAMAAAADAAAAAQAAAAEAAAABAAAAAwAAAAMAAAABAAAAAwAAAAEAAAADAAAAAQAAAAMAAAABAAAAAwAAAAMAAAADAAAAAwAAAAEAAAADAAAAAwAAAAMAAAABAAAAAwAAAAEAAAADAAAAAQAAAAMAAAADAAAAAwAAAAEAAAABAAAAAwAAAAMAAAADAAAAAwAAAAMAAAADAAAAAwAAAAEAAAADAAAAAQAAAAEAAAADAAAAAwAAAAEAAAADAAAAAwAAAAMAAAAAAAAAAwAAAAMAAAACAAAAAQAAAAMAAAADAAAAAwAAAAEAAAABAAAAAwAAAAMAAAA=\",\"dtype\":\"int32\",\"order\":\"little\",\"shape\":[578]},\"CoinName\":{\"__ndarray__\":\"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\",\"dtype\":\"float64\",\"order\":\"little\",\"shape\":[578]},\"ProofType\":[\"PoW/PoS\",\"PoW/PoS\",\"PoW/PoS\",\"PoW\",\"PoW\",\"PoW\",\"PoW/PoS\",\"PoW\",\"PoW\",\"PoW\",\"PoS\",\"PoW\",\"PoW/PoS\",\"PoS\",\"PoW\",\"PoW/PoS\",\"PoW\",\"PoW\",\"PoW/PoS\",\"PoW/PoS\",\"PoW\",\"PoW\",\"PoW\",\"PoW\",\"PoW\",\"PoW/PoS\",\"PoW\",\"PoW\",\"PoW\",\"PoW/PoS\",\"PoW\",\"PoW/PoS\",\"PoW\",\"PoW\",\"PoC\",\"PoW/PoS\",\"PoW\",\"PoW\",\"PoW\",\"PoW\",\"PoW\",\"PoW\",\"PoS\",\"PoS/PoW/PoT\",\"PoW\",\"PoW\",\"PoW\",\"PoW\",\"PoW\",\"PoW/PoS\",\"PoS\",\"PoW\",\"PoW/PoS\",\"PoW\",\"PoW\",\"PoW\",\"PoW\",\"PoW/PoS\",\"PoW\",\"PoW\",\"PoS\",\"PoW\",\"PoW/PoS\",\"PoS\",\"PoW/PoS\",\"PoW\",\"PoW\",\"PoW\",\"PoW/PoS\",\"PoW/PoS\",\"PoW/PoS\",\"PoW/PoS\",\"PoW/PoS\",\"PoW\",\"PoW\",\"PoW\",\"PoS\",\"PoW/PoS\",\"PoW\",\"PoS\",\"PoW\",\"PoS\",\"PoW/PoS\",\"PoW\",\"PoW\",\"PoW\",\"PoW\",\"PoW/PoS\",\"PoW/PoS\",\"PoW\",\"PoST\",\"PoW\",\"PoW\",\"PoW/PoS\",\"PoS\",\"PoW\",\"PoW/PoS\",\"PoW/PoS\",\"PoW\",\"PoW\",\"PoC\",\"PoS\",\"PoW\",\"PoW/PoS\",\"PoW/PoS\",\"PoW\",\"PoS\",\"PoW\",\"PoW/PoS\",\"PoW\",\"PoS\",\"PoW\",\"PoW/PoS\",\"PoW/PoS\",\"PoW\",\"PoW\",\"PoS\",\"PoW\",\"PoW\",\"PoW\",\"PoW/PoS\",\"PoW\",\"PoW\",\"PoW\",\"PoW\",\"PoW\",\"PoW/PoS\",\"PoW/nPoS\",\"PoW\",\"PoW\",\"PoW\",\"PoW/PoS\",\"PoW\",\"PoS/PoW\",\"PoW\",\"PoW\",\"PoS\",\"PoW\",\"PoW/PoS\",\"PoW\",\"PoW/PoS\",\"PoW/PoS\",\"PoW\",\"PoW\",\"PoW/PoS\",\"PoW\",\"PoW\",\"PoW/PoS\",\"PoW/PoS\",\"PoW\",\"PoW/PoS\",\"PoW\",\"PoW/PoS\",\"PoW/PoS\",\"PoS\",\"PoW\",\"PoW\",\"PoW\",\"PoW\",\"PoW/PoS\",\"PoS\",\"PoW/PoS\",\"PoC\",\"PoS\",\"PoW\",\"PoW\",\"PoW\",\"PoW/PoS\",\"PoW/PoS\",\"PoW/PoS\",\"PoW/PoS\",\"PoW/PoS\",\"PoW\",\"PoS\",\"PoW/PoS\",\"PoW/PoS\",\"PoW/PoS\",\"PoS\",\"PoW\",\"PoS\",\"dPoW/PoW\",\"PoW/PoS\",\"PoW/PoS\",\"PoW\",\"PoW/PoS\",\"PoW\",\"PoW/PoS\",\"PoW/PoS\",\"PoW\",\"PoW/PoS\",\"PoW\",\"PoS\",\"PoW\",\"PoW/PoW\",\"PoW\",\"PoW/PoS\",\"PoS\",\"PoW/PoS\",\"PoW/PoS\",\"PoW\",\"PoS\",\"PoS\",\"PoW/PoS\",\"PoS\",\"PoW/PoS\",\"PoW\",\"PoW\",\"DPoS\",\"PoW/PoS\",\"PoW\",\"PoW\",\"PoW/PoS\",\"PoW/PoS\",\"PoS\",\"PoW/PoS\",\"PoW/PoS\",\"PoW\",\"PoS\",\"PoW/PoS\",\"PoW/PoS\",\"PoW/PoS\",\"TPoS\",\"PoW/PoS\",\"PoW/PoS\",\"PoW/PoS\",\"PoW\",\"PoW/PoS\",\"PoS\",\"PoW/PoS\",\"PoW/PoS\",\"PoS\",\"PoW/PoS\",\"PoW\",\"PoW\",\"PoW\",\"PoW/PoS\",\"PoW/PoS\",\"PoW/PoS\",\"PoW/PoS\",\"PoW\",\"PoW/PoS\",\"PoW\",\"PoS\",\"PoW/PoS \",\"PoW\",\"PoS\",\"PoW\",\"PoW\",\"PoW/PoS\",\"PoW\",\"PoW\",\"PoS\",\"PoW\",\"PoW/PoS\",\"PoW/PoS\",\"PoW/PoS\",\"PoW\",\"PoS\",\"PoW/PoS\",\"PoW\",\"PoS\",\"PoW/PoS\",\"PoW/PoS\",\"PoW/PoS\",\"PoW/PoS\",\"PoS\",\"PoW/PoS\",\"PoW\",\"PoS\",\"PoW\",\"PoS\",\"PoW/PoS\",\"PoW/PoS\",\"PoS\",\"PoW\",\"PoS\",\"PoW\",\"PoW/PoS\",\"PoW\",\"PoW\",\"PoW\",\"PoW\",\"PoW/PoS\",\"PoW\",\"PoW/PoS\",\"PoW/PoS\",\"PoW\",\"PoW/PoS\",\"PoW\",\"PoW\",\"PoW\",\"PoW/PoS\",\"PoW\",\"PoW/PoS\",\"PoW\",\"PoW\",\"PoW\",\"PoS\",\"PoW\",\"PoW/PoS\",\"PoW\",\"PoW/PoS\",\"PoS\",\"Proof of Authority\",\"PoW\",\"PoS\",\"PoW\",\"PoW\",\"PoW\",\"PoW\",\"PoW\",\"PoW/PoS\",\"PoW/PoS\",\"PoW\",\"PoS\",\"PoS\",\"PoW/PoS\",\"PoW\",\"PoW/PoS\",\"PoW\",\"PoW/PoS\",\"PoW\",\"PoS\",\"PoW\",\"PoW/PoS\",\"PoW/PoS\",\"PoW/PoS\",\"PoW/PoS\",\"PoW\",\"PoW/PoS\",\"PoW/PoS\",\"PoW\",\"PoS\",\"PoW/PoS\",\"PoS\",\"PoW\",\"PoW\",\"PoW\",\"PoW\",\"PoW/PoS\",\"PoW/PoS\",\"DPoS\",\"PoW/PoS\",\"PoW/PoS\",\"PoW\",\"PoW/PoS\",\"PoW\",\"PoW\",\"PoW\",\"PoS\",\"PoW\",\"PoS\",\"PoW\",\"PoW\",\"PoW/PoS\",\"PoW/PoS\",\"PoW\",\"PoW/PoS\",\"PoW\",\"PoW\",\"PoW/PoS\",\"PoW/PoS\",\"PoW\",\"PoW\",\"PoS\",\"PoW\",\"PoW\",\"PoW/PoS\",\"PoW/PoS\",\"PoS\",\"PoS\",\"PoW\",\"PoW\",\"PoW\",\"PoS\",\"PoS\",\"PoW\",\"PoW and PoS\",\"PoW\",\"PoW\",\"PoW/PoS\",\"PoW\",\"PoS\",\"PoW\",\"PoW/PoS\",\"PoW\",\"PoW\",\"PoS\",\"POBh\",\"PoW + Hive\",\"PoW\",\"PoW\",\"PoW/PoS\",\"PoW/PoS\",\"PoW/PoS\",\"PoW\",\"PoW/PoS\",\"PoA\",\"PoW/PoS\",\"PoW/PoS\",\"PoS\",\"PoS\",\"PoW\",\"PoW\",\"PoW\",\"PoW\",\"PoW\",\"PoW/PoS\",\"PoW\",\"PoW/PoS\",\"PoW/PoS\",\"PoW/PoS\",\"PoW\",\"PoS\",\"PoW\",\"PoS\",\"PoS\",\"PoW/PoS\",\"PoW\",\"DPoS\",\"PoW\",\"PoW/PoS\",\"PoS\",\"PoW\",\"PoS\",\"PoW/PoS\",\"PoW\",\"PoW\",\"PoS/PoW\",\"PoW\",\"PoS\",\"PoW\",\"PoS\",\"PoW/PoS\",\"PoW\",\"PoS\",\"PoW/PoS\",\"PoW\",\"PoW\",\"PoW/PoS\",\"PoW/PoS\",\"PoS\",\"PoS\",\"PoW\",\"PoW/PoS\",\"PoW\",\"PoW/PoS\",\"PoS\",\"HPoW\",\"PoS\",\"PoW/PoS\",\"PoW\",\"PoS\",\"PoS\",\"PoW\",\"PoW\",\"PoW\",\"PoS\",\"PoW/PoS\",\"PoS\",\"PoW/PoS\",\"PoS\",\"PoW/PoS\",\"PoS\",\"PoW\",\"PoW\",\"PoW/PoS\",\"PoW\",\"PoW\",\"PoW\",\"PoW\",\"PoW\",\"PoS\",\"PoW\",\"PoW/PoS\",\"PoS\",\"PoS\",\"PoW\",\"PoW/PoS\",\"PoS\",\"PoW\",\"PoW/PoS\",\"PoW/PoS\",\"PoW/PoS\",\"Zero-Knowledge Proof\",\"PoW\",\"DPOS\",\"PoW\",\"PoS\",\"PoW\",\"PoW\",\"PoS\",\"PoW\",\"PoS\",\"PoW\",\"Pos\",\"PoS\",\"PoW\",\"PoW/PoS\",\"PoW\",\"PoW\",\"PoW\",\"PoW\",\"PoS\",\"PoW\",\"PoW\",\"PoW/PoS\",\"PoW\",\"PoW/PoS\",\"PoW\",\"PoS\",\"PoW/PoS\",\"PoW\",\"PoW\",\"PoS\",\"PoW/PoS\",\"PoW/PoS\",\"PoW/PoS\",\"PoW/PoS\",\"PoW\",\"PoW\",\"PoW\",\"PoW/PoS\",\"DPoS\",\"PoW\",\"PoW/PoS\",\"PoW\",\"PoW/PoS\",\"PoW\",\"PoW/PoS\",\"PoW\",\"PoW/PoS\",\"PoS\",\"PoW/PoS\",\"PoW/PoS\",\"PoW\",\"PoW/PoS\",\"PoW/PoS\",\"PoW/PoS\",\"PoW\",\"PoW/PoS\",\"PoW\",\"PoW/PoS\",\"PoW\",\"PoW/PoS\",\"PoW/PoS\",\"PoS\",\"PoW\",\"PoW\",\"Proof of Trust\",\"PoW/PoS\",\"DPoS\",\"PoS\",\"PoW/PoS\",\"PoW/PoS\",\"DPoC\",\"PoW\",\"PoW/PoS\",\"PoW\",\"PoW\",\"PoW/PoS\",\"DPoS\",\"PoW\",\"DPoS\",\"PoS\",\"PoW/PoS\",\"LPoS\",\"PoS\",\"PoS\",\"DPoS\",\"DPoW\",\"PoS/LPoS\",\"DPoS\",\"PoW/PoS\",\"PoW\",\"PoW\",\"PoS\",\"PoW/PoS\"],\"TotalCoinSupply\":[\"42\",\"532000000\",\"314159265359\",\"21000000\",\"0\",\"84000000\",\"22000000\",\"0\",\"210000000\",\"21000000\",\"3600570502\",\"21000000000\",\"22000000\",\"12500000\",\"21000000\",\"350000000\",\"20000000\",\"64000000\",\"16768584\",\"0\",\"2000000000\",\"384000000000\",\"169795588\",\"250000000\",\"100000000\",\"0\",\"247000000\",\"84000000\",\"48166000\",\"500000\",\"21000000 \",\"1000000\",\"13140000\",\"18000000\",\"40000000000\",\"4380000\",\"16555000000\",\"21000000000\",\"13500000000\",\"21000000 \",\"299792458\",\"32000000\",\"0\",\"0\",\"11235813\",\"336000000\",\"1420609614\",\"70000000\",\"72245700\",\"120000000\",\"0\",\"90600000000\",\"22000000\",\"21000000\",\"265420800\",\"20000000\",\"1350000\",\"100000000\",\"42000000\",\"200000000\",\"0\",\"10000000\",\"2419200000\",\"16180000\",\"0\",\"15000000000\",\"21000000\",\"337000000\",\"0\",\"3770000\",\"420000000\",\"98000000\",\"0\",\"21000000\",\"250000000\",\"51200000\",\"0\",\"1000\",\"888000000\",\"100000000\",\"47011968\",\"2300000000\",\"10000000\",\"42000000\",\"80000000\",\"250000\",\"0\",\"1600000000\",\"100000000\",\"23000000\",\"0\",\"84000000\",\"265420800\",\"5500000\",\"0\",\"45000000\",\"0\",\"1000000000\",\"184467440735\",\"10000000000\",\"2158812800\",\"500000000\",\"105120000\",\"68000000\",\"0\",\"1680000000\",\"0\",\"166386000\",\"12000000\",\"2628000\",\"500000000\",\"160000000\",\"0\",\"10000000\",\"1000000000\",\"1000000000\",\"20000000\",\"0\",\"0\",\"3371337\",\"20000000\",\"10000000000\",\"1840000000\",\"619478\",\"21000000\",\"92000000000\",\"0\",\"78000000\",\"33000000\",\"65789100\",\"53760000\",\"5060000\",\"21000000\",\"0\",\"210240000\",\"250000000\",\"100000000\",\"16906397\",\"50000000\",\"0\",\"1000000000\",\"26298000\",\"16000000\",\"21000000\",\"21000000\",\"210000000\",\"81962100\",\"22000000\",\"26550000000\",\"84000000\",\"10500000\",\"21626280000 \",\"0\",\"42000000\",\"221052632\",\"84000000\",\"30000000\",\"168351300\",\"24000000\",\"384000000\",\" 99000000000\",\"40000000\",\"2147483647\",\"20000000\",\"20000000\",\"84000000\",\"25000000\",\"75000000\",\"222725000\",\"525000000\",\"90000000\",\"139000000\",\"616448\",\"33500000\",\"2000000000\",\"44333333\",\"100000000\",\"200000000\",\"25000000\",\"657000000\",\"200000000\",\"50000000\",\"90000000\",\"10000000\",\"21000000\",\"9736000\",\"3000000\",\"21000000\",\"1200000000\",\"0\",\"200000000\",\"0\",\"10638298\",\"3100000000\",\"30000000\",\"20000000000\",\"74000000\",\"0\",\"1500000000\",\"21400000\",\"39999898\",\"2500124\",\"100000000\",\"301000000\",\"7506000000\",\"26205539\",\"21000000\",\"125000000\",\"30000000\",\"10000000000\",\"500000000\",\"850000000\",\"3853326.77707314\",\"50000000\",\"38540000 \",\"42000000\",\"228000000\",\"20000000\",\"60000000\",\"20000000\",\"33000000\",\"76500000\",\"28000000\",\"650659833\",\"5000000\",\"21000000\",\"144000000\",\"32514916898\",\"13000000\",\"3315789\",\"15000000\",\"78835200\",\"2714286\",\"25000000\",\"9999999\",\"500000000\",\"21000000\",\"9354000\",\"20000000\",\"100000000000\",\"21933333\",\"185000000\",\"55000000\",\"110000000\",\"3360000\",\"14524851.4827\",\"1000000000\",\"17000000\",\"1000000000\",\"100000000 \",\"21000000\",\"34426423\",\"2232901\",\"100000000\",\"36900000\",\"110000000\",\"4000000000\",\"110290030\",\"100000000\",\"48252000\",\"400000000\",\"500000000\",\"21212121\",\"28600000\",\"1000000000\",\"75000000000\",\"40000000\",\"35520400\",\"2000000000\",\"2500000000\",\"30000000\",\"105000000\",\"90000000000\",\"200084200\",\"72000000\",\"100000000\",\"105000000\",\"50000000000\",\"0\",\"340282367\",\"30000000\",\"2000000000\",\"10000000\",\"100000000\",\"120000000\",\"100000000\",\"19276800\",\"30000000\",\" 75000000\",\"60000000\",\"18900000\",\"50000000000\",\"54000000\",\"18898187.6216583\",\"21000000\",\"200000000000\",\"5000000000\",\"137500000\",\"1100000000\",\"100000000\",\"21000000\",\"9507271\",\"17405891.19707116\",\"86712634466\",\"10500000000\",\"61599965\",\"0\",\"20000000\",\"84000000\",\"100000000\",\"100000000\",\"48252000\",\"4200000\",\"88888888\",\"91388946\",\"45000000000\",\"27000000\",\"21000000000\",\"400000000\",\"1800000000\",\"15733333\",\"27000000\",\"24000000\",\"21000000\",\"25000000000\",\"100000000\",\"1200000000\",\"60000000\",\"156306732.71\",\"21000000\",\"200000000\",\"100000000\",\"21000000\",\"14788275.991\",\"9000000000\",\"350000000\",\"45000000\",\"280000000\",\"31800000\",\"57879300\",\"144000000\",\"500000000\",\"30000000000\",\"210000000\",\"660000000\",\"210000000\",\"85000000000\",\"12500000\",\"10000000000\",\"27716121\",\"100000000\",\"20000000\",\"550000000\",\"999481516\",\"50000000000\",\"150000000\",\"4999999999\",\"50000000\",\" 90000000000\",\"19800000\",\"50000000\",\"70000000\",\"21000000\",\"32000000\",\"120000000\",\"500000000\",\"64000000\",\"900000000\",\"4000000\",\"21000000\",\"25000000000\",\"23000000\",\"20166000\",\"23000000\",\"25000000\",\"1618033\",\"24000000\",\"30000000\",\"1000000000000\",\"16600000\",\"232000000\",\"336000000\",\"3980000000\",\"10000000000\",\"25000000\",\"100000000\",\"1100000000\",\"800000000\",\"5200000000\",\"840000000\",\"40000000\",\"18406979840\",\"72000000\",\"25000000\",\"69000000\",\"500000000\",\"19340594\",\"252460800\",\"25000000\",\"60000000\",\"124000000\",\"1000000000\",\"6500000000\",\"1000000000\",\"21000000\",\"10044655075.56243680\",\"25000000\",\"32000000\",\"11892000\",\"50000000\",\"3000000\",\"5000000\",\"70000000\",\"500000000\",\"300000000\",\"21000000\",\"88000000\",\"30000000\",\"21000000\",\"100000000\",\"100000000\",\"200000000\",\"80000000\",\"18400000\",\"45000000\",\"5121951220\",\"21000000\",\"26280000\",\"21000000\",\"18000000\",\"26000000\",\"10500000\",\"30000000\",\"110000000\",\"600000518\",\"8148139\",\"7500000\",\"150000000\",\"184000000000\",\"100000000\",\"10200000000\",\"62000000\",\"44000000\",\"168000000\",\"100000000\",\"1000000000\",\"84000000\",\"90000000\",\"92000000000\",\"650000000 \",\"250000000\",\"545399000\",\"100262205\",\"18081806 \",\"22075700\",\"21000000\",\"21000000\",\"15600000\",\"82546564\",\"21000000\",\"5151000\",\"16880000000\",\"52500000\",\"100000000\",\"22105263\",\"1000000000\",\"1000000000\",\"1750000000\",\"88188888\",\"210000000\",\"184470000000\",\"1000000000\",\"55000000\",\"50000000\",\"50000000\",\"260000000\",\"210000000\",\"2100000000\",\"366000000\",\"100000000\",\"25000000\",\"36500000\",\"18000000000\",\"21000000\",\"1000000000\",\"100000000\",\"1000000000\",\"7600000000\",\"50000000\",\"207000000\",\"84000000\",\"200000000\",\"21000000\",\"38000000\",\"64000000\",\"70000000000\",\"0\",\"8080000000\",\"54000000\",\"21000000\",\"105120001.44\",\"25228800\",\"7000000000\",\"105000000\",\"21000000\",\"120000000\",\"21000000\",\"262800000\",\"19035999\",\"30886000\",\"13370000\",\"74800000000\",\"32700000\",\"100000000\",\"19700000\",\"84000000\",\"500000000\",\"5000000000\",\"420000000\",\"64000000\",\"2100000\",\"168000000\",\"30000000\",\"1000000000\",\"10000000000\",\"35000000000\",\"98100000000\",\"0\",\"4000000000\",\"200000000\",\"7000000000\",\"54256119\",\"21000000\",\"0\",\"500000000\",\"1000000000\",\"10500000000\",\"190000000\",\"1000000000\",\"42000000\",\"15000000\",\"50000000000\",\"400000000\",\"105000000\",\"208000000\",\"160000000\",\"9000000\",\"5000000\",\"182000000\",\"16504333\",\"105000000\",\"159918400\",\"10008835635\",\"300000000\",\"60168145\",\"5000000000\",\"2800000\",\"120000\",\"2100000000\",\"210000000\",\"21000000\",\"0\",\"24487944\",\"0\",\"1000000000\",\"100000000000\",\"100000000\",\"8634140\",\"900000000\",\"990000000000\",\"11000000\",\"1000000000\",\"2000000000\",\"250000000\",\"1400222610\",\"21000000\",\"1000000\",\"100000000\"],\"TotalCoinsMined\":{\"__ndarray__\":\"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\",\"dtype\":\"float64\",\"order\":\"little\",\"shape\":[578]}},\"selected\":{\"id\":\"2643\"},\"selection_policy\":{\"id\":\"2677\"}},\"id\":\"2642\",\"type\":\"ColumnDataSource\"},{\"attributes\":{},\"id\":\"2677\",\"type\":\"UnionRenderers\"},{\"attributes\":{},\"id\":\"2655\",\"type\":\"StringEditor\"},{\"attributes\":{},\"id\":\"2669\",\"type\":\"NumberFormatter\"},{\"attributes\":{\"editor\":{\"id\":\"2650\"},\"field\":\"Algorithm\",\"formatter\":{\"id\":\"2649\"},\"title\":\"Algorithm\"},\"id\":\"2651\",\"type\":\"TableColumn\"},{\"attributes\":{},\"id\":\"2665\",\"type\":\"NumberEditor\"},{\"attributes\":{},\"id\":\"2654\",\"type\":\"StringFormatter\"},{\"attributes\":{\"columns\":[{\"id\":\"2646\"},{\"id\":\"2651\"},{\"id\":\"2656\"},{\"id\":\"2661\"},{\"id\":\"2666\"},{\"id\":\"2671\"}],\"height\":300,\"reorderable\":false,\"source\":{\"id\":\"2642\"},\"view\":{\"id\":\"2676\"},\"width\":700},\"id\":\"2674\",\"type\":\"DataTable\"},{\"attributes\":{\"editor\":{\"id\":\"2670\"},\"field\":\"Class\",\"formatter\":{\"id\":\"2669\"},\"title\":\"Class\"},\"id\":\"2671\",\"type\":\"TableColumn\"},{\"attributes\":{},\"id\":\"2643\",\"type\":\"Selection\"},{\"attributes\":{},\"id\":\"2660\",\"type\":\"StringEditor\"},{\"attributes\":{},\"id\":\"2644\",\"type\":\"StringFormatter\"}],\"root_ids\":[\"2640\"]},\"title\":\"Bokeh Application\",\"version\":\"2.4.2\"}};\n",
       "    var render_items = [{\"docid\":\"d51a151d-faa0-447d-8dac-132859a90300\",\"root_ids\":[\"2640\"],\"roots\":{\"2640\":\"9ee7b1ec-66b2-492e-a038-146c66080f66\"}}];\n",
       "    root.Bokeh.embed.embed_items_notebook(docs_json, render_items);\n",
       "  }\n",
       "  if (root.Bokeh !== undefined && root.Bokeh.Panel !== undefined) {\n",
       "    embed_document(root);\n",
       "  } else {\n",
       "    var attempts = 0;\n",
       "    var timer = setInterval(function(root) {\n",
       "      if (root.Bokeh !== undefined && root.Bokeh.Panel !== undefined) {\n",
       "        clearInterval(timer);\n",
       "        embed_document(root);\n",
       "      } else if (document.readyState == \"complete\") {\n",
       "        attempts++;\n",
       "        if (attempts > 200) {\n",
       "          clearInterval(timer);\n",
       "          console.log(\"Bokeh: ERROR: Unable to run BokehJS code because BokehJS library is missing\");\n",
       "        }\n",
       "      }\n",
       "    }, 25, root)\n",
       "  }\n",
       "})(window);</script>"
      ],
      "text/plain": [
       ":Table   [CoinName,Algorithm,ProofType,TotalCoinSupply,TotalCoinsMined,Class]"
      ]
     },
     "execution_count": 348,
     "metadata": {
      "application/vnd.holoviews_exec.v0+json": {
       "id": "2640"
      }
     },
     "output_type": "execute_result"
    }
   ],
   "source": [
    "# Create a table with tradable cryptocurrencies.\n",
    "crypto_clustered_df.hvplot.table(columns=['CoinName', 'Algorithm', 'ProofType', 'TotalCoinSupply', 'TotalCoinsMined', 'Class'], sortable=True, selectable=True)\n"
   ]
  },
  {
   "cell_type": "code",
   "execution_count": 349,
   "metadata": {},
   "outputs": [
    {
     "data": {
      "text/plain": [
       "578"
      ]
     },
     "execution_count": 349,
     "metadata": {},
     "output_type": "execute_result"
    }
   ],
   "source": [
    "# Print the total number of tradable cryptocurrencies.\n",
    "rows = len(crypto_clustered_df)\n",
    "rows"
   ]
  },
  {
   "cell_type": "code",
   "execution_count": 350,
   "metadata": {},
   "outputs": [
    {
     "data": {
      "text/plain": [
       "array([[4.20000000e-11, 5.94230127e-03],\n",
       "       [5.32000000e-04, 7.00182308e-03],\n",
       "       [3.14159265e-01, 3.53420682e-02],\n",
       "       ...,\n",
       "       [2.10000000e-05, 5.94962775e-03],\n",
       "       [1.00000000e-06, 5.94243008e-03],\n",
       "       [1.00000000e-04, 5.96388077e-03]])"
      ]
     },
     "execution_count": 350,
     "metadata": {},
     "output_type": "execute_result"
    }
   ],
   "source": [
    "# Scaling data to create the scatter plot with tradable cryptocurrencies.\n",
    "crypto_scaled = MinMaxScaler().fit_transform(crypto_clustered_df[['TotalCoinSupply', 'TotalCoinsMined']])\n",
    "crypto_scaled"
   ]
  },
  {
   "cell_type": "code",
   "execution_count": 351,
   "metadata": {},
   "outputs": [
    {
     "data": {
      "text/html": [
       "<div>\n",
       "<style scoped>\n",
       "    .dataframe tbody tr th:only-of-type {\n",
       "        vertical-align: middle;\n",
       "    }\n",
       "\n",
       "    .dataframe tbody tr th {\n",
       "        vertical-align: top;\n",
       "    }\n",
       "\n",
       "    .dataframe thead th {\n",
       "        text-align: right;\n",
       "    }\n",
       "</style>\n",
       "<table border=\"1\" class=\"dataframe\">\n",
       "  <thead>\n",
       "    <tr style=\"text-align: right;\">\n",
       "      <th></th>\n",
       "      <th>TotalCoinSupply</th>\n",
       "      <th>TotalCoinsMined</th>\n",
       "      <th>CoinName</th>\n",
       "      <th>Class</th>\n",
       "    </tr>\n",
       "    <tr>\n",
       "      <th></th>\n",
       "      <th></th>\n",
       "      <th></th>\n",
       "      <th></th>\n",
       "      <th></th>\n",
       "    </tr>\n",
       "  </thead>\n",
       "  <tbody>\n",
       "    <tr>\n",
       "      <th>42</th>\n",
       "      <td>4.200000e-11</td>\n",
       "      <td>0.005942</td>\n",
       "      <td>NaN</td>\n",
       "      <td>3</td>\n",
       "    </tr>\n",
       "    <tr>\n",
       "      <th>404</th>\n",
       "      <td>5.320000e-04</td>\n",
       "      <td>0.007002</td>\n",
       "      <td>NaN</td>\n",
       "      <td>3</td>\n",
       "    </tr>\n",
       "    <tr>\n",
       "      <th>1337</th>\n",
       "      <td>3.141593e-01</td>\n",
       "      <td>0.035342</td>\n",
       "      <td>NaN</td>\n",
       "      <td>3</td>\n",
       "    </tr>\n",
       "    <tr>\n",
       "      <th>BTC</th>\n",
       "      <td>2.100000e-05</td>\n",
       "      <td>0.005960</td>\n",
       "      <td>NaN</td>\n",
       "      <td>1</td>\n",
       "    </tr>\n",
       "    <tr>\n",
       "      <th>ETH</th>\n",
       "      <td>0.000000e+00</td>\n",
       "      <td>0.006050</td>\n",
       "      <td>NaN</td>\n",
       "      <td>1</td>\n",
       "    </tr>\n",
       "    <tr>\n",
       "      <th>LTC</th>\n",
       "      <td>8.400000e-05</td>\n",
       "      <td>0.006006</td>\n",
       "      <td>NaN</td>\n",
       "      <td>1</td>\n",
       "    </tr>\n",
       "    <tr>\n",
       "      <th>DASH</th>\n",
       "      <td>2.200000e-05</td>\n",
       "      <td>0.005951</td>\n",
       "      <td>NaN</td>\n",
       "      <td>3</td>\n",
       "    </tr>\n",
       "    <tr>\n",
       "      <th>XMR</th>\n",
       "      <td>0.000000e+00</td>\n",
       "      <td>0.005960</td>\n",
       "      <td>NaN</td>\n",
       "      <td>1</td>\n",
       "    </tr>\n",
       "    <tr>\n",
       "      <th>ETC</th>\n",
       "      <td>2.100000e-04</td>\n",
       "      <td>0.006056</td>\n",
       "      <td>NaN</td>\n",
       "      <td>1</td>\n",
       "    </tr>\n",
       "    <tr>\n",
       "      <th>ZEC</th>\n",
       "      <td>2.100000e-05</td>\n",
       "      <td>0.005950</td>\n",
       "      <td>NaN</td>\n",
       "      <td>1</td>\n",
       "    </tr>\n",
       "  </tbody>\n",
       "</table>\n",
       "</div>"
      ],
      "text/plain": [
       "      TotalCoinSupply  TotalCoinsMined CoinName  Class\n",
       "                                                      \n",
       "42       4.200000e-11         0.005942      NaN      3\n",
       "404      5.320000e-04         0.007002      NaN      3\n",
       "1337     3.141593e-01         0.035342      NaN      3\n",
       "BTC      2.100000e-05         0.005960      NaN      1\n",
       "ETH      0.000000e+00         0.006050      NaN      1\n",
       "LTC      8.400000e-05         0.006006      NaN      1\n",
       "DASH     2.200000e-05         0.005951      NaN      3\n",
       "XMR      0.000000e+00         0.005960      NaN      1\n",
       "ETC      2.100000e-04         0.006056      NaN      1\n",
       "ZEC      2.100000e-05         0.005950      NaN      1"
      ]
     },
     "execution_count": 351,
     "metadata": {},
     "output_type": "execute_result"
    }
   ],
   "source": [
    "# Create a new DataFrame that has the scaled data with the clustered_df DataFrame index.\n",
    "new_crypto_scaled = pd.DataFrame(\n",
    "    data = crypto_scaled,\n",
    "    columns = ['TotalCoinSupply', 'TotalCoinsMined'],\n",
    "    index = crypto_clustered_df.index)\n",
    "\n",
    "# Add the \"CoinName\" column from the clustered_df DataFrame to the new DataFrame.\n",
    "new_crypto_scaled['CoinName'] = crypto_clustered_df['CoinName']\n",
    "\n",
    "# Add the \"Class\" column from the clustered_df DataFrame to the new DataFrame. \n",
    "new_crypto_scaled['Class'] = crypto_clustered_df['Class']\n",
    "\n",
    "new_crypto_scaled.head(10)"
   ]
  },
  {
   "cell_type": "code",
   "execution_count": 353,
   "metadata": {},
   "outputs": [
    {
     "data": {},
     "metadata": {},
     "output_type": "display_data"
    },
    {
     "data": {
      "application/vnd.holoviews_exec.v0+json": "",
      "text/html": [
       "<div id='3056'>\n",
       "\n",
       "\n",
       "\n",
       "\n",
       "\n",
       "  <div class=\"bk-root\" id=\"9106dfbd-b358-42d3-8e0b-9c761064288b\" data-root-id=\"3056\"></div>\n",
       "</div>\n",
       "<script type=\"application/javascript\">(function(root) {\n",
       "  function embed_document(root) {\n",
       "    var docs_json = {\"783bdcb0-07e8-4426-91af-cf80d24dd2a3\":{\"defs\":[{\"extends\":null,\"module\":null,\"name\":\"ReactiveHTML1\",\"overrides\":[],\"properties\":[]},{\"extends\":null,\"module\":null,\"name\":\"FlexBox1\",\"overrides\":[],\"properties\":[{\"default\":\"flex-start\",\"kind\":null,\"name\":\"align_content\"},{\"default\":\"flex-start\",\"kind\":null,\"name\":\"align_items\"},{\"default\":\"row\",\"kind\":null,\"name\":\"flex_direction\"},{\"default\":\"wrap\",\"kind\":null,\"name\":\"flex_wrap\"},{\"default\":\"flex-start\",\"kind\":null,\"name\":\"justify_content\"}]},{\"extends\":null,\"module\":null,\"name\":\"GridStack1\",\"overrides\":[],\"properties\":[{\"default\":\"warn\",\"kind\":null,\"name\":\"mode\"},{\"default\":null,\"kind\":null,\"name\":\"ncols\"},{\"default\":null,\"kind\":null,\"name\":\"nrows\"},{\"default\":true,\"kind\":null,\"name\":\"allow_resize\"},{\"default\":true,\"kind\":null,\"name\":\"allow_drag\"},{\"default\":[],\"kind\":null,\"name\":\"state\"}]},{\"extends\":null,\"module\":null,\"name\":\"click1\",\"overrides\":[],\"properties\":[{\"default\":\"\",\"kind\":null,\"name\":\"terminal_output\"},{\"default\":\"\",\"kind\":null,\"name\":\"debug_name\"},{\"default\":0,\"kind\":null,\"name\":\"clears\"}]},{\"extends\":null,\"module\":null,\"name\":\"TemplateActions1\",\"overrides\":[],\"properties\":[{\"default\":0,\"kind\":null,\"name\":\"open_modal\"},{\"default\":0,\"kind\":null,\"name\":\"close_modal\"}]},{\"extends\":null,\"module\":null,\"name\":\"MaterialTemplateActions1\",\"overrides\":[],\"properties\":[{\"default\":0,\"kind\":null,\"name\":\"open_modal\"},{\"default\":0,\"kind\":null,\"name\":\"close_modal\"}]}],\"roots\":{\"references\":[{\"attributes\":{\"overlay\":{\"id\":\"3086\"}},\"id\":\"3084\",\"type\":\"BoxZoomTool\"},{\"attributes\":{},\"id\":\"3138\",\"type\":\"UnionRenderers\"},{\"attributes\":{},\"id\":\"3085\",\"type\":\"ResetTool\"},{\"attributes\":{\"coordinates\":null,\"data_source\":{\"id\":\"3167\"},\"glyph\":{\"id\":\"3170\"},\"group\":null,\"hover_glyph\":null,\"muted_glyph\":{\"id\":\"3172\"},\"nonselection_glyph\":{\"id\":\"3171\"},\"selection_glyph\":{\"id\":\"3192\"},\"view\":{\"id\":\"3174\"}},\"id\":\"3173\",\"type\":\"GlyphRenderer\"},{\"attributes\":{\"angle\":{\"value\":0.0},\"fill_alpha\":{\"value\":1.0},\"fill_color\":{\"value\":\"#30a2da\"},\"hatch_alpha\":{\"value\":1.0},\"hatch_color\":{\"value\":\"#30a2da\"},\"hatch_scale\":{\"value\":12.0},\"hatch_weight\":{\"value\":1.0},\"line_alpha\":{\"value\":1.0},\"line_cap\":{\"value\":\"butt\"},\"line_color\":{\"value\":\"#30a2da\"},\"line_dash\":{\"value\":[]},\"line_dash_offset\":{\"value\":0},\"line_join\":{\"value\":\"bevel\"},\"line_width\":{\"value\":1},\"marker\":{\"value\":\"circle\"},\"size\":{\"value\":5.477225575051661},\"x\":{\"field\":\"TotalCoinsMined\"},\"y\":{\"field\":\"TotalCoinSupply\"}},\"id\":\"3120\",\"type\":\"Scatter\"},{\"attributes\":{\"axis\":{\"id\":\"3073\"},\"coordinates\":null,\"grid_line_color\":null,\"group\":null,\"ticker\":null},\"id\":\"3076\",\"type\":\"Grid\"},{\"attributes\":{\"data\":{\"Class\":[0,0,0,0,0,0],\"CoinName\":{\"__ndarray__\":\"AAAAAAAA+H8AAAAAAAD4fwAAAAAAAPh/AAAAAAAA+H8AAAAAAAD4fwAAAAAAAPh/\",\"dtype\":\"float64\",\"order\":\"little\",\"shape\":[6]},\"TotalCoinSupply\":{\"__ndarray__\":\"+nQumcwytj+U9gZfmEx1P7x5qkNuhks/hFoo4ZaLMD/8qfHSTWJQPyxDHOviNho/\",\"dtype\":\"float64\",\"order\":\"little\",\"shape\":[6]},\"TotalCoinsMined\":{\"__ndarray__\":\"XRjsm06Nrz94ezWzw6B/P3CNJR8Z93o/4dGMXT8ueT//4pYZ13N8P7kL9DY+wHg/\",\"dtype\":\"float64\",\"order\":\"little\",\"shape\":[6]}},\"selected\":{\"id\":\"3101\"},\"selection_policy\":{\"id\":\"3115\"}},\"id\":\"3100\",\"type\":\"ColumnDataSource\"},{\"attributes\":{},\"id\":\"3115\",\"type\":\"UnionRenderers\"},{\"attributes\":{\"tools\":[{\"id\":\"3060\"},{\"id\":\"3081\"},{\"id\":\"3082\"},{\"id\":\"3083\"},{\"id\":\"3084\"},{\"id\":\"3085\"}]},\"id\":\"3087\",\"type\":\"Toolbar\"},{\"attributes\":{\"label\":{\"value\":\"2\"},\"renderers\":[{\"id\":\"3149\"}]},\"id\":\"3165\",\"type\":\"LegendItem\"},{\"attributes\":{\"bottom_units\":\"screen\",\"coordinates\":null,\"fill_alpha\":0.5,\"fill_color\":\"lightgrey\",\"group\":null,\"left_units\":\"screen\",\"level\":\"overlay\",\"line_alpha\":1.0,\"line_color\":\"black\",\"line_dash\":[4,4],\"line_width\":2,\"right_units\":\"screen\",\"syncable\":false,\"top_units\":\"screen\"},\"id\":\"3086\",\"type\":\"BoxAnnotation\"},{\"attributes\":{\"fill_alpha\":{\"value\":0.1},\"fill_color\":{\"value\":\"#fc4f30\"},\"hatch_alpha\":{\"value\":0.1},\"hatch_color\":{\"value\":\"#fc4f30\"},\"line_alpha\":{\"value\":0.1},\"line_color\":{\"value\":\"#fc4f30\"},\"size\":{\"value\":5.477225575051661},\"x\":{\"field\":\"TotalCoinsMined\"},\"y\":{\"field\":\"TotalCoinSupply\"}},\"id\":\"3125\",\"type\":\"Scatter\"},{\"attributes\":{\"label\":{\"value\":\"1\"},\"renderers\":[{\"id\":\"3127\"}]},\"id\":\"3141\",\"type\":\"LegendItem\"},{\"attributes\":{\"angle\":{\"value\":0.0},\"fill_alpha\":{\"value\":1.0},\"fill_color\":{\"value\":\"#fc4f30\"},\"hatch_alpha\":{\"value\":1.0},\"hatch_color\":{\"value\":\"#fc4f30\"},\"hatch_scale\":{\"value\":12.0},\"hatch_weight\":{\"value\":1.0},\"line_alpha\":{\"value\":1.0},\"line_cap\":{\"value\":\"butt\"},\"line_color\":{\"value\":\"#fc4f30\"},\"line_dash\":{\"value\":[]},\"line_dash_offset\":{\"value\":0},\"line_join\":{\"value\":\"bevel\"},\"line_width\":{\"value\":1},\"marker\":{\"value\":\"circle\"},\"size\":{\"value\":5.477225575051661},\"x\":{\"field\":\"TotalCoinsMined\"},\"y\":{\"field\":\"TotalCoinSupply\"}},\"id\":\"3142\",\"type\":\"Scatter\"},{\"attributes\":{\"end\":1.1,\"reset_end\":1.1,\"reset_start\":-0.1,\"start\":-0.1,\"tags\":[[[\"TotalCoinSupply\",\"TotalCoinSupply\",null]]]},\"id\":\"3059\",\"type\":\"Range1d\"},{\"attributes\":{\"label\":{\"value\":\"0\"},\"renderers\":[{\"id\":\"3106\"}]},\"id\":\"3119\",\"type\":\"LegendItem\"},{\"attributes\":{},\"id\":\"3168\",\"type\":\"Selection\"},{\"attributes\":{\"end\":1.042857142857143,\"reset_end\":1.042857142857143,\"reset_start\":-0.04285714285714286,\"start\":-0.04285714285714286,\"tags\":[[[\"TotalCoinsMined\",\"TotalCoinsMined\",null]]]},\"id\":\"3058\",\"type\":\"Range1d\"},{\"attributes\":{\"margin\":[5,5,5,5],\"name\":\"HSpacer05644\",\"sizing_mode\":\"stretch_width\"},\"id\":\"3337\",\"type\":\"Spacer\"},{\"attributes\":{\"source\":{\"id\":\"3100\"}},\"id\":\"3107\",\"type\":\"CDSView\"},{\"attributes\":{},\"id\":\"3122\",\"type\":\"Selection\"},{\"attributes\":{},\"id\":\"3099\",\"type\":\"AllLabels\"},{\"attributes\":{\"children\":[{\"id\":\"3057\"},{\"id\":\"3064\"},{\"id\":\"3337\"}],\"margin\":[0,0,0,0],\"name\":\"Row05639\",\"tags\":[\"embedded\"]},\"id\":\"3056\",\"type\":\"Row\"},{\"attributes\":{\"fill_alpha\":{\"value\":0.1},\"fill_color\":{\"value\":\"#30a2da\"},\"hatch_alpha\":{\"value\":0.1},\"hatch_color\":{\"value\":\"#30a2da\"},\"line_alpha\":{\"value\":0.1},\"line_color\":{\"value\":\"#30a2da\"},\"size\":{\"value\":5.477225575051661},\"x\":{\"field\":\"TotalCoinsMined\"},\"y\":{\"field\":\"TotalCoinSupply\"}},\"id\":\"3104\",\"type\":\"Scatter\"},{\"attributes\":{\"source\":{\"id\":\"3121\"}},\"id\":\"3128\",\"type\":\"CDSView\"},{\"attributes\":{\"margin\":[5,5,5,5],\"name\":\"HSpacer05643\",\"sizing_mode\":\"stretch_width\"},\"id\":\"3057\",\"type\":\"Spacer\"},{\"attributes\":{\"angle\":{\"value\":0.0},\"fill_alpha\":{\"value\":1.0},\"fill_color\":{\"value\":\"#e5ae38\"},\"hatch_alpha\":{\"value\":1.0},\"hatch_color\":{\"value\":\"#e5ae38\"},\"hatch_scale\":{\"value\":12.0},\"hatch_weight\":{\"value\":1.0},\"line_alpha\":{\"value\":1.0},\"line_cap\":{\"value\":\"butt\"},\"line_color\":{\"value\":\"#e5ae38\"},\"line_dash\":{\"value\":[]},\"line_dash_offset\":{\"value\":0},\"line_join\":{\"value\":\"bevel\"},\"line_width\":{\"value\":1},\"marker\":{\"value\":\"circle\"},\"size\":{\"value\":5.477225575051661},\"x\":{\"field\":\"TotalCoinsMined\"},\"y\":{\"field\":\"TotalCoinSupply\"}},\"id\":\"3166\",\"type\":\"Scatter\"},{\"attributes\":{\"coordinates\":null,\"data_source\":{\"id\":\"3121\"},\"glyph\":{\"id\":\"3124\"},\"group\":null,\"hover_glyph\":null,\"muted_glyph\":{\"id\":\"3126\"},\"nonselection_glyph\":{\"id\":\"3125\"},\"selection_glyph\":{\"id\":\"3142\"},\"view\":{\"id\":\"3128\"}},\"id\":\"3127\",\"type\":\"GlyphRenderer\"},{\"attributes\":{\"coordinates\":null,\"data_source\":{\"id\":\"3100\"},\"glyph\":{\"id\":\"3103\"},\"group\":null,\"hover_glyph\":null,\"muted_glyph\":{\"id\":\"3105\"},\"nonselection_glyph\":{\"id\":\"3104\"},\"selection_glyph\":{\"id\":\"3120\"},\"view\":{\"id\":\"3107\"}},\"id\":\"3106\",\"type\":\"GlyphRenderer\"},{\"attributes\":{\"fill_color\":{\"value\":\"#fc4f30\"},\"hatch_color\":{\"value\":\"#fc4f30\"},\"line_color\":{\"value\":\"#fc4f30\"},\"size\":{\"value\":5.477225575051661},\"x\":{\"field\":\"TotalCoinsMined\"},\"y\":{\"field\":\"TotalCoinSupply\"}},\"id\":\"3124\",\"type\":\"Scatter\"},{\"attributes\":{},\"id\":\"3074\",\"type\":\"BasicTicker\"},{\"attributes\":{},\"id\":\"3101\",\"type\":\"Selection\"},{\"attributes\":{\"fill_alpha\":{\"value\":0.2},\"fill_color\":{\"value\":\"#fc4f30\"},\"hatch_alpha\":{\"value\":0.2},\"hatch_color\":{\"value\":\"#fc4f30\"},\"line_alpha\":{\"value\":0.2},\"line_color\":{\"value\":\"#fc4f30\"},\"size\":{\"value\":5.477225575051661},\"x\":{\"field\":\"TotalCoinsMined\"},\"y\":{\"field\":\"TotalCoinSupply\"}},\"id\":\"3126\",\"type\":\"Scatter\"},{\"attributes\":{\"coordinates\":null,\"group\":null,\"text_color\":\"black\",\"text_font_size\":\"12pt\"},\"id\":\"3065\",\"type\":\"Title\"},{\"attributes\":{\"data\":{\"Class\":[3,3,3,3,3,3,3,3,3,3,3,3,3,3,3,3,3,3,3,3,3,3,3,3,3,3,3,3,3,3,3,3,3,3,3,3,3,3,3,3,3,3,3,3,3,3,3,3,3,3,3,3,3,3,3,3,3,3,3,3,3,3,3,3,3,3,3,3,3,3,3,3,3,3,3,3,3,3,3,3,3,3,3,3,3,3,3,3,3,3,3,3,3,3,3,3,3,3,3,3,3,3,3,3,3,3,3,3,3,3,3,3,3,3,3,3,3,3,3,3,3,3,3,3,3,3,3,3,3,3,3,3,3,3,3,3,3,3,3,3,3,3,3,3,3,3,3,3,3,3,3,3,3,3,3,3,3,3,3,3,3,3,3,3,3,3,3,3,3,3,3,3,3,3,3,3,3,3,3,3,3,3,3,3,3,3,3,3,3,3,3,3,3,3,3,3,3,3,3,3,3,3,3,3,3,3,3,3,3,3,3,3,3,3,3,3,3,3,3,3,3,3,3,3,3,3,3,3,3,3,3,3,3,3,3,3,3,3,3,3,3,3,3,3,3,3,3,3,3,3,3,3,3,3,3,3,3,3,3,3,3,3,3,3,3,3,3,3,3,3,3,3,3,3,3,3,3,3,3,3,3,3,3,3,3,3,3,3,3,3,3,3,3,3,3,3,3,3,3,3,3,3,3,3,3,3,3,3,3,3,3,3],\"CoinName\":{\"__ndarray__\":\"AAAAAAAA+H8AAAAAAAD4fwAAAAAAAPh/AAAAAAAA+H8AAAAAAAD4fwAAAAAAAPh/AAAAAAAA+H8AAAAAAAD4fwAAAAAAAPh/AAAAAAAA+H8AAAAAAAD4fwAAAAAAAPh/AAAAAAAA+H8AAAAAAAD4fwAAAAAAAPh/AAAAAAAA+H8AAAAAAAD4fwAAAAAAAPh/AAAAAAAA+H8AAAAAAAD4fwAAAAAAAPh/AAAAAAAA+H8AAAAAAAD4fwAAAAAAAPh/AAAAAAAA+H8AAAAAAAD4fwAAAAAAAPh/AAAAAAAA+H8AAAAAAAD4fwAAAAAAAPh/AAAAAAAA+H8AAAAAAAD4fwAAAAAAAPh/AAAAAAAA+H8AAAAAAAD4fwAAAAAAAPh/AAAAAAAA+H8AAAAAAAD4fwAAAAAAAPh/AAAAAAAA+H8AAAAAAAD4fwAAAAAAAPh/AAAAAAAA+H8AAAAAAAD4fwAAAAAAAPh/AAAAAAAA+H8AAAAAAAD4fwAAAAAAAPh/AAAAAAAA+H8AAAAAAAD4fwAAAAAAAPh/AAAAAAAA+H8AAAAAAAD4fwAAAAAAAPh/AAAAAAAA+H8AAAAAAAD4fwAAAAAAAPh/AAAAAAAA+H8AAAAAAAD4fwAAAAAAAPh/AAAAAAAA+H8AAAAAAAD4fwAAAAAAAPh/AAAAAAAA+H8AAAAAAAD4fwAAAAAAAPh/AAAAAAAA+H8AAAAAAAD4fwAAAAAAAPh/AAAAAAAA+H8AAAAAAAD4fwAAAAAAAPh/AAAAAAAA+H8AAAAAAAD4fwAAAAAAAPh/AAAAAAAA+H8AAAAAAAD4fwAAAAAAAPh/AAAAAAAA+H8AAAAAAAD4fwAAAAAAAPh/AAAAAAAA+H8AAAAAAAD4fwAAAAAAAPh/AAAAAAAA+H8AAAAAAAD4fwAAAAAAAPh/AAAAAAAA+H8AAAAAAAD4fwAAAAAAAPh/AAAAAAAA+H8AAAAAAAD4fwAAAAAAAPh/AAAAAAAA+H8AAAAAAAD4fwAAAAAAAPh/AAAAAAAA+H8AAAAAAAD4fwAAAAAAAPh/AAAAAAAA+H8AAAAAAAD4fwAAAAAAAPh/AAAAAAAA+H8AAAAAAAD4fwAAAAAAAPh/AAAAAAAA+H8AAAAAAAD4fwAAAAAAAPh/AAAAAAAA+H8AAAAAAAD4fwAAAAAAAPh/AAAAAAAA+H8AAAAAAAD4fwAAAAAAAPh/AAAAAAAA+H8AAAAAAAD4fwAAAAAAAPh/AAAAAAAA+H8AAAAAAAD4fwAAAAAAAPh/AAAAAAAA+H8AAAAAAAD4fwAAAAAAAPh/AAAAAAAA+H8AAAAAAAD4fwAAAAAAAPh/AAAAAAAA+H8AAAAAAAD4fwAAAAAAAPh/AAAAAAAA+H8AAAAAAAD4fwAAAAAAAPh/AAAAAAAA+H8AAAAAAAD4fwAAAAAAAPh/AAAAAAAA+H8AAAAAAAD4fwAAAAAAAPh/AAAAAAAA+H8AAAAAAAD4fwAAAAAAAPh/AAAAAAAA+H8AAAAAAAD4fwAAAAAAAPh/AAAAAAAA+H8AAAAAAAD4fwAAAAAAAPh/AAAAAAAA+H8AAAAAAAD4fwAAAAAAAPh/AAAAAAAA+H8AAAAAAAD4fwAAAAAAAPh/AAAAAAAA+H8AAAAAAAD4fwAAAAAAAPh/AAAAAAAA+H8AAAAAAAD4fwAAAAAAAPh/AAAAAAAA+H8AAAAAAAD4fwAAAAAAAPh/AAAAAAAA+H8AAAAAAAD4fwAAAAAAAPh/AAAAAAAA+H8AAAAAAAD4fwAAAAAAAPh/AAAAAAAA+H8AAAAAAAD4fwAAAAAAAPh/AAAAAAAA+H8AAAAAAAD4fwAAAAAAAPh/AAAAAAAA+H8AAAAAAAD4fwAAAAAAAPh/AAAAAAAA+H8AAAAAAAD4fwAAAAAAAPh/AAAAAAAA+H8AAAAAAAD4fwAAAAAAAPh/AAAAAAAA+H8AAAAAAAD4fwAAAAAAAPh/AAAAAAAA+H8AAAAAAAD4fwAAAAAAAPh/AAAAAAAA+H8AAAAAAAD4fwAAAAAAAPh/AAAAAAAA+H8AAAAAAAD4fwAAAAAAAPh/AAAAAAAA+H8AAAAAAAD4fwAAAAAAAPh/AAAAAAAA+H8AAAAAAAD4fwAAAAAAAPh/AAAAAAAA+H8AAAAAAAD4fwAAAAAAAPh/AAAAAAAA+H8AAAAAAAD4fwAAAAAAAPh/AAAAAAAA+H8AAAAAAAD4fwAAAAAAAPh/AAAAAAAA+H8AAAAAAAD4fwAAAAAAAPh/AAAAAAAA+H8AAAAAAAD4fwAAAAAAAPh/AAAAAAAA+H8AAAAAAAD4fwAAAAAAAPh/AAAAAAAA+H8AAAAAAAD4fwAAAAAAAPh/AAAAAAAA+H8AAAAAAAD4fwAAAAAAAPh/AAAAAAAA+H8AAAAAAAD4fwAAAAAAAPh/AAAAAAAA+H8AAAAAAAD4fwAAAAAAAPh/AAAAAAAA+H8AAAAAAAD4fwAAAAAAAPh/AAAAAAAA+H8AAAAAAAD4fwAAAAAAAPh/AAAAAAAA+H8AAAAAAAD4fwAAAAAAAPh/AAAAAAAA+H8AAAAAAAD4fwAAAAAAAPh/AAAAAAAA+H8AAAAAAAD4fwAAAAAAAPh/AAAAAAAA+H8AAAAAAAD4fwAAAAAAAPh/AAAAAAAA+H8AAAAAAAD4fwAAAAAAAPh/AAAAAAAA+H8AAAAAAAD4fwAAAAAAAPh/AAAAAAAA+H8AAAAAAAD4fwAAAAAAAPh/AAAAAAAA+H8AAAAAAAD4fwAAAAAAAPh/AAAAAAAA+H8AAAAAAAD4fwAAAAAAAPh/AAAAAAAA+H8AAAAAAAD4fwAAAAAAAPh/AAAAAAAA+H8AAAAAAAD4fwAAAAAAAPh/AAAAAAAA+H8AAAAAAAD4fwAAAAAAAPh/AAAAAAAA+H8AAAAAAAD4fwAAAAAAAPh/AAAAAAAA+H8AAAAAAAD4fwAAAAAAAPh/AAAAAAAA+H8AAAAAAAD4fwAAAAAAAPh/AAAAAAAA+H8AAAAAAAD4fwAAAAAAAPh/AAAAAAAA+H8AAAAAAAD4fwAAAAAAAPh/AAAAAAAA+H8AAAAAAAD4fwAAAAAAAPh/AAAAAAAA+H8AAAAAAAD4fwAAAAAAAPh/AAAAAAAA+H8AAAAAAAD4fwAAAAAAAPh/AAAAAAAA+H8AAAAAAAD4fwAAAAAAAPh/AAAAAAAA+H8AAAAAAAD4fwAAAAAAAPh/AAAAAAAA+H8AAAAAAAD4fwAAAAAAAPh/AAAAAAAA+H8AAAAAAAD4fwAAAAAAAPh/AAAAAAAA+H8AAAAAAAD4fwAAAAAAAPh/\",\"dtype\":\"float64\",\"order\":\"little\",\"shape\":[312]},\"TotalCoinSupply\":{\"__ndarray__\":\"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\",\"dtype\":\"float64\",\"order\":\"little\",\"shape\":[312]},\"TotalCoinsMined\":{\"__ndarray__\":\"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\",\"dtype\":\"float64\",\"order\":\"little\",\"shape\":[312]}},\"selected\":{\"id\":\"3168\"},\"selection_policy\":{\"id\":\"3188\"}},\"id\":\"3167\",\"type\":\"ColumnDataSource\"},{\"attributes\":{\"data\":{\"Class\":[1,1,1,1,1,1,1,1,1,1,1,1,1,1,1,1,1,1,1,1,1,1,1,1,1,1,1,1,1,1,1,1,1,1,1,1,1,1,1,1,1,1,1,1,1,1,1,1,1,1,1,1,1,1,1,1,1,1,1,1,1,1,1,1,1,1,1,1,1,1,1,1,1,1,1,1,1,1,1,1,1,1,1,1,1,1,1,1,1,1,1,1,1,1,1,1,1,1,1,1,1,1,1,1,1,1,1,1,1,1,1,1,1,1,1,1,1,1,1,1,1,1,1,1,1,1,1,1,1,1,1,1,1,1,1,1,1,1,1,1,1,1,1,1,1,1,1,1,1,1,1,1,1,1,1,1,1,1,1,1,1,1,1,1,1,1,1,1,1,1,1,1,1,1,1,1,1,1,1,1,1,1,1,1,1,1,1,1,1,1,1,1,1,1,1,1,1,1,1,1,1,1,1,1,1,1,1,1,1,1,1,1,1,1,1,1,1,1,1,1,1,1,1,1,1,1,1,1,1,1,1,1,1,1,1,1,1,1,1,1,1,1,1,1,1,1,1,1,1,1,1,1,1,1,1,1,1,1,1],\"CoinName\":{\"__ndarray__\":\"AAAAAAAA+H8AAAAAAAD4fwAAAAAAAPh/AAAAAAAA+H8AAAAAAAD4fwAAAAAAAPh/AAAAAAAA+H8AAAAAAAD4fwAAAAAAAPh/AAAAAAAA+H8AAAAAAAD4fwAAAAAAAPh/AAAAAAAA+H8AAAAAAAD4fwAAAAAAAPh/AAAAAAAA+H8AAAAAAAD4fwAAAAAAAPh/AAAAAAAA+H8AAAAAAAD4fwAAAAAAAPh/AAAAAAAA+H8AAAAAAAD4fwAAAAAAAPh/AAAAAAAA+H8AAAAAAAD4fwAAAAAAAPh/AAAAAAAA+H8AAAAAAAD4fwAAAAAAAPh/AAAAAAAA+H8AAAAAAAD4fwAAAAAAAPh/AAAAAAAA+H8AAAAAAAD4fwAAAAAAAPh/AAAAAAAA+H8AAAAAAAD4fwAAAAAAAPh/AAAAAAAA+H8AAAAAAAD4fwAAAAAAAPh/AAAAAAAA+H8AAAAAAAD4fwAAAAAAAPh/AAAAAAAA+H8AAAAAAAD4fwAAAAAAAPh/AAAAAAAA+H8AAAAAAAD4fwAAAAAAAPh/AAAAAAAA+H8AAAAAAAD4fwAAAAAAAPh/AAAAAAAA+H8AAAAAAAD4fwAAAAAAAPh/AAAAAAAA+H8AAAAAAAD4fwAAAAAAAPh/AAAAAAAA+H8AAAAAAAD4fwAAAAAAAPh/AAAAAAAA+H8AAAAAAAD4fwAAAAAAAPh/AAAAAAAA+H8AAAAAAAD4fwAAAAAAAPh/AAAAAAAA+H8AAAAAAAD4fwAAAAAAAPh/AAAAAAAA+H8AAAAAAAD4fwAAAAAAAPh/AAAAAAAA+H8AAAAAAAD4fwAAAAAAAPh/AAAAAAAA+H8AAAAAAAD4fwAAAAAAAPh/AAAAAAAA+H8AAAAAAAD4fwAAAAAAAPh/AAAAAAAA+H8AAAAAAAD4fwAAAAAAAPh/AAAAAAAA+H8AAAAAAAD4fwAAAAAAAPh/AAAAAAAA+H8AAAAAAAD4fwAAAAAAAPh/AAAAAAAA+H8AAAAAAAD4fwAAAAAAAPh/AAAAAAAA+H8AAAAAAAD4fwAAAAAAAPh/AAAAAAAA+H8AAAAAAAD4fwAAAAAAAPh/AAAAAAAA+H8AAAAAAAD4fwAAAAAAAPh/AAAAAAAA+H8AAAAAAAD4fwAAAAAAAPh/AAAAAAAA+H8AAAAAAAD4fwAAAAAAAPh/AAAAAAAA+H8AAAAAAAD4fwAAAAAAAPh/AAAAAAAA+H8AAAAAAAD4fwAAAAAAAPh/AAAAAAAA+H8AAAAAAAD4fwAAAAAAAPh/AAAAAAAA+H8AAAAAAAD4fwAAAAAAAPh/AAAAAAAA+H8AAAAAAAD4fwAAAAAAAPh/AAAAAAAA+H8AAAAAAAD4fwAAAAAAAPh/AAAAAAAA+H8AAAAAAAD4fwAAAAAAAPh/AAAAAAAA+H8AAAAAAAD4fwAAAAAAAPh/AAAAAAAA+H8AAAAAAAD4fwAAAAAAAPh/AAAAAAAA+H8AAAAAAAD4fwAAAAAAAPh/AAAAAAAA+H8AAAAAAAD4fwAAAAAAAPh/AAAAAAAA+H8AAAAAAAD4fwAAAAAAAPh/AAAAAAAA+H8AAAAAAAD4fwAAAAAAAPh/AAAAAAAA+H8AAAAAAAD4fwAAAAAAAPh/AAAAAAAA+H8AAAAAAAD4fwAAAAAAAPh/AAAAAAAA+H8AAAAAAAD4fwAAAAAAAPh/AAAAAAAA+H8AAAAAAAD4fwAAAAAAAPh/AAAAAAAA+H8AAAAAAAD4fwAAAAAAAPh/AAAAAAAA+H8AAAAAAAD4fwAAAAAAAPh/AAAAAAAA+H8AAAAAAAD4fwAAAAAAAPh/AAAAAAAA+H8AAAAAAAD4fwAAAAAAAPh/AAAAAAAA+H8AAAAAAAD4fwAAAAAAAPh/AAAAAAAA+H8AAAAAAAD4fwAAAAAAAPh/AAAAAAAA+H8AAAAAAAD4fwAAAAAAAPh/AAAAAAAA+H8AAAAAAAD4fwAAAAAAAPh/AAAAAAAA+H8AAAAAAAD4fwAAAAAAAPh/AAAAAAAA+H8AAAAAAAD4fwAAAAAAAPh/AAAAAAAA+H8AAAAAAAD4fwAAAAAAAPh/AAAAAAAA+H8AAAAAAAD4fwAAAAAAAPh/AAAAAAAA+H8AAAAAAAD4fwAAAAAAAPh/AAAAAAAA+H8AAAAAAAD4fwAAAAAAAPh/AAAAAAAA+H8AAAAAAAD4fwAAAAAAAPh/AAAAAAAA+H8AAAAAAAD4fwAAAAAAAPh/AAAAAAAA+H8AAAAAAAD4fwAAAAAAAPh/AAAAAAAA+H8AAAAAAAD4fwAAAAAAAPh/AAAAAAAA+H8AAAAAAAD4fwAAAAAAAPh/AAAAAAAA+H8AAAAAAAD4fwAAAAAAAPh/AAAAAAAA+H8AAAAAAAD4fwAAAAAAAPh/AAAAAAAA+H8AAAAAAAD4fwAAAAAAAPh/AAAAAAAA+H8AAAAAAAD4fwAAAAAAAPh/AAAAAAAA+H8AAAAAAAD4fwAAAAAAAPh/AAAAAAAA+H8AAAAAAAD4fwAAAAAAAPh/AAAAAAAA+H8AAAAAAAD4fwAAAAAAAPh/AAAAAAAA+H8AAAAAAAD4fwAAAAAAAPh/AAAAAAAA+H8AAAAAAAD4fwAAAAAAAPh/AAAAAAAA+H8AAAAAAAD4fwAAAAAAAPh/AAAAAAAA+H8AAAAAAAD4fwAAAAAAAPh/AAAAAAAA+H8AAAAAAAD4fwAAAAAAAPh/AAAAAAAA+H8AAAAAAAD4fwAAAAAAAPh/AAAAAAAA+H8=\",\"dtype\":\"float64\",\"order\":\"little\",\"shape\":[259]},\"TotalCoinSupply\":{\"__ndarray__\":\"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\",\"dtype\":\"float64\",\"order\":\"little\",\"shape\":[259]},\"TotalCoinsMined\":{\"__ndarray__\":\"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\",\"dtype\":\"float64\",\"order\":\"little\",\"shape\":[259]}},\"selected\":{\"id\":\"3122\"},\"selection_policy\":{\"id\":\"3138\"}},\"id\":\"3121\",\"type\":\"ColumnDataSource\"},{\"attributes\":{},\"id\":\"3078\",\"type\":\"BasicTicker\"},{\"attributes\":{\"fill_color\":{\"value\":\"#e5ae38\"},\"hatch_color\":{\"value\":\"#e5ae38\"},\"line_color\":{\"value\":\"#e5ae38\"},\"size\":{\"value\":5.477225575051661},\"x\":{\"field\":\"TotalCoinsMined\"},\"y\":{\"field\":\"TotalCoinSupply\"}},\"id\":\"3146\",\"type\":\"Scatter\"},{\"attributes\":{},\"id\":\"3162\",\"type\":\"UnionRenderers\"},{\"attributes\":{},\"id\":\"3071\",\"type\":\"LinearScale\"},{\"attributes\":{\"source\":{\"id\":\"3143\"}},\"id\":\"3150\",\"type\":\"CDSView\"},{\"attributes\":{},\"id\":\"3188\",\"type\":\"UnionRenderers\"},{\"attributes\":{\"axis_label\":\"TotalCoinSupply\",\"coordinates\":null,\"formatter\":{\"id\":\"3098\"},\"group\":null,\"major_label_policy\":{\"id\":\"3099\"},\"ticker\":{\"id\":\"3078\"}},\"id\":\"3077\",\"type\":\"LinearAxis\"},{\"attributes\":{\"label\":{\"value\":\"3\"},\"renderers\":[{\"id\":\"3173\"}]},\"id\":\"3191\",\"type\":\"LegendItem\"},{\"attributes\":{\"axis_label\":\"TotalCoinsMined\",\"coordinates\":null,\"formatter\":{\"id\":\"3095\"},\"group\":null,\"major_label_policy\":{\"id\":\"3096\"},\"ticker\":{\"id\":\"3074\"}},\"id\":\"3073\",\"type\":\"LinearAxis\"},{\"attributes\":{\"axis\":{\"id\":\"3077\"},\"coordinates\":null,\"dimension\":1,\"grid_line_color\":null,\"group\":null,\"ticker\":null},\"id\":\"3080\",\"type\":\"Grid\"},{\"attributes\":{\"coordinates\":null,\"data_source\":{\"id\":\"3143\"},\"glyph\":{\"id\":\"3146\"},\"group\":null,\"hover_glyph\":null,\"muted_glyph\":{\"id\":\"3148\"},\"nonselection_glyph\":{\"id\":\"3147\"},\"selection_glyph\":{\"id\":\"3166\"},\"view\":{\"id\":\"3150\"}},\"id\":\"3149\",\"type\":\"GlyphRenderer\"},{\"attributes\":{\"fill_alpha\":{\"value\":0.2},\"fill_color\":{\"value\":\"#30a2da\"},\"hatch_alpha\":{\"value\":0.2},\"hatch_color\":{\"value\":\"#30a2da\"},\"line_alpha\":{\"value\":0.2},\"line_color\":{\"value\":\"#30a2da\"},\"size\":{\"value\":5.477225575051661},\"x\":{\"field\":\"TotalCoinsMined\"},\"y\":{\"field\":\"TotalCoinSupply\"}},\"id\":\"3105\",\"type\":\"Scatter\"},{\"attributes\":{},\"id\":\"3069\",\"type\":\"LinearScale\"},{\"attributes\":{\"source\":{\"id\":\"3167\"}},\"id\":\"3174\",\"type\":\"CDSView\"},{\"attributes\":{},\"id\":\"3098\",\"type\":\"BasicTickFormatter\"},{\"attributes\":{\"fill_alpha\":{\"value\":0.2},\"fill_color\":{\"value\":\"#e5ae38\"},\"hatch_alpha\":{\"value\":0.2},\"hatch_color\":{\"value\":\"#e5ae38\"},\"line_alpha\":{\"value\":0.2},\"line_color\":{\"value\":\"#e5ae38\"},\"size\":{\"value\":5.477225575051661},\"x\":{\"field\":\"TotalCoinsMined\"},\"y\":{\"field\":\"TotalCoinSupply\"}},\"id\":\"3148\",\"type\":\"Scatter\"},{\"attributes\":{\"fill_color\":{\"value\":\"#6d904f\"},\"hatch_color\":{\"value\":\"#6d904f\"},\"line_color\":{\"value\":\"#6d904f\"},\"size\":{\"value\":5.477225575051661},\"x\":{\"field\":\"TotalCoinsMined\"},\"y\":{\"field\":\"TotalCoinSupply\"}},\"id\":\"3170\",\"type\":\"Scatter\"},{\"attributes\":{\"click_policy\":\"mute\",\"coordinates\":null,\"group\":null,\"items\":[{\"id\":\"3119\"},{\"id\":\"3141\"},{\"id\":\"3165\"},{\"id\":\"3191\"}],\"location\":[0,0],\"title\":\"Class\"},\"id\":\"3118\",\"type\":\"Legend\"},{\"attributes\":{},\"id\":\"3083\",\"type\":\"WheelZoomTool\"},{\"attributes\":{},\"id\":\"3144\",\"type\":\"Selection\"},{\"attributes\":{\"data\":{\"Class\":[2],\"CoinName\":{\"__ndarray__\":\"AAAAAAAA+H8=\",\"dtype\":\"float64\",\"order\":\"little\",\"shape\":[1]},\"TotalCoinSupply\":{\"__ndarray__\":\"rkfhehSu7z8=\",\"dtype\":\"float64\",\"order\":\"little\",\"shape\":[1]},\"TotalCoinsMined\":{\"__ndarray__\":\"AAAAAAAA8D8=\",\"dtype\":\"float64\",\"order\":\"little\",\"shape\":[1]}},\"selected\":{\"id\":\"3144\"},\"selection_policy\":{\"id\":\"3162\"}},\"id\":\"3143\",\"type\":\"ColumnDataSource\"},{\"attributes\":{\"fill_alpha\":{\"value\":0.1},\"fill_color\":{\"value\":\"#e5ae38\"},\"hatch_alpha\":{\"value\":0.1},\"hatch_color\":{\"value\":\"#e5ae38\"},\"line_alpha\":{\"value\":0.1},\"line_color\":{\"value\":\"#e5ae38\"},\"size\":{\"value\":5.477225575051661},\"x\":{\"field\":\"TotalCoinsMined\"},\"y\":{\"field\":\"TotalCoinSupply\"}},\"id\":\"3147\",\"type\":\"Scatter\"},{\"attributes\":{\"fill_alpha\":{\"value\":0.2},\"fill_color\":{\"value\":\"#6d904f\"},\"hatch_alpha\":{\"value\":0.2},\"hatch_color\":{\"value\":\"#6d904f\"},\"line_alpha\":{\"value\":0.2},\"line_color\":{\"value\":\"#6d904f\"},\"size\":{\"value\":5.477225575051661},\"x\":{\"field\":\"TotalCoinsMined\"},\"y\":{\"field\":\"TotalCoinSupply\"}},\"id\":\"3172\",\"type\":\"Scatter\"},{\"attributes\":{},\"id\":\"3081\",\"type\":\"SaveTool\"},{\"attributes\":{\"below\":[{\"id\":\"3073\"}],\"center\":[{\"id\":\"3076\"},{\"id\":\"3080\"}],\"height\":300,\"left\":[{\"id\":\"3077\"}],\"margin\":[5,5,5,5],\"min_border_bottom\":10,\"min_border_left\":10,\"min_border_right\":10,\"min_border_top\":10,\"renderers\":[{\"id\":\"3106\"},{\"id\":\"3127\"},{\"id\":\"3149\"},{\"id\":\"3173\"}],\"right\":[{\"id\":\"3118\"}],\"sizing_mode\":\"fixed\",\"title\":{\"id\":\"3065\"},\"toolbar\":{\"id\":\"3087\"},\"width\":700,\"x_range\":{\"id\":\"3058\"},\"x_scale\":{\"id\":\"3069\"},\"y_range\":{\"id\":\"3059\"},\"y_scale\":{\"id\":\"3071\"}},\"id\":\"3064\",\"subtype\":\"Figure\",\"type\":\"Plot\"},{\"attributes\":{},\"id\":\"3082\",\"type\":\"PanTool\"},{\"attributes\":{},\"id\":\"3096\",\"type\":\"AllLabels\"},{\"attributes\":{\"fill_color\":{\"value\":\"#30a2da\"},\"hatch_color\":{\"value\":\"#30a2da\"},\"line_color\":{\"value\":\"#30a2da\"},\"size\":{\"value\":5.477225575051661},\"x\":{\"field\":\"TotalCoinsMined\"},\"y\":{\"field\":\"TotalCoinSupply\"}},\"id\":\"3103\",\"type\":\"Scatter\"},{\"attributes\":{\"fill_alpha\":{\"value\":0.1},\"fill_color\":{\"value\":\"#6d904f\"},\"hatch_alpha\":{\"value\":0.1},\"hatch_color\":{\"value\":\"#6d904f\"},\"line_alpha\":{\"value\":0.1},\"line_color\":{\"value\":\"#6d904f\"},\"size\":{\"value\":5.477225575051661},\"x\":{\"field\":\"TotalCoinsMined\"},\"y\":{\"field\":\"TotalCoinSupply\"}},\"id\":\"3171\",\"type\":\"Scatter\"},{\"attributes\":{\"callback\":null,\"renderers\":[{\"id\":\"3106\"},{\"id\":\"3127\"},{\"id\":\"3149\"},{\"id\":\"3173\"}],\"tags\":[\"hv_created\"],\"tooltips\":[[\"Class\",\"@{Class}\"],[\"TotalCoinsMined\",\"@{TotalCoinsMined}\"],[\"TotalCoinSupply\",\"@{TotalCoinSupply}\"],[\"CoinName\",\"@{CoinName}\"]]},\"id\":\"3060\",\"type\":\"HoverTool\"},{\"attributes\":{},\"id\":\"3095\",\"type\":\"BasicTickFormatter\"},{\"attributes\":{\"angle\":{\"value\":0.0},\"fill_alpha\":{\"value\":1.0},\"fill_color\":{\"value\":\"#6d904f\"},\"hatch_alpha\":{\"value\":1.0},\"hatch_color\":{\"value\":\"#6d904f\"},\"hatch_scale\":{\"value\":12.0},\"hatch_weight\":{\"value\":1.0},\"line_alpha\":{\"value\":1.0},\"line_cap\":{\"value\":\"butt\"},\"line_color\":{\"value\":\"#6d904f\"},\"line_dash\":{\"value\":[]},\"line_dash_offset\":{\"value\":0},\"line_join\":{\"value\":\"bevel\"},\"line_width\":{\"value\":1},\"marker\":{\"value\":\"circle\"},\"size\":{\"value\":5.477225575051661},\"x\":{\"field\":\"TotalCoinsMined\"},\"y\":{\"field\":\"TotalCoinSupply\"}},\"id\":\"3192\",\"type\":\"Scatter\"}],\"root_ids\":[\"3056\"]},\"title\":\"Bokeh Application\",\"version\":\"2.4.2\"}};\n",
       "    var render_items = [{\"docid\":\"783bdcb0-07e8-4426-91af-cf80d24dd2a3\",\"root_ids\":[\"3056\"],\"roots\":{\"3056\":\"9106dfbd-b358-42d3-8e0b-9c761064288b\"}}];\n",
       "    root.Bokeh.embed.embed_items_notebook(docs_json, render_items);\n",
       "  }\n",
       "  if (root.Bokeh !== undefined && root.Bokeh.Panel !== undefined) {\n",
       "    embed_document(root);\n",
       "  } else {\n",
       "    var attempts = 0;\n",
       "    var timer = setInterval(function(root) {\n",
       "      if (root.Bokeh !== undefined && root.Bokeh.Panel !== undefined) {\n",
       "        clearInterval(timer);\n",
       "        embed_document(root);\n",
       "      } else if (document.readyState == \"complete\") {\n",
       "        attempts++;\n",
       "        if (attempts > 200) {\n",
       "          clearInterval(timer);\n",
       "          console.log(\"Bokeh: ERROR: Unable to run BokehJS code because BokehJS library is missing\");\n",
       "        }\n",
       "      }\n",
       "    }, 25, root)\n",
       "  }\n",
       "})(window);</script>"
      ],
      "text/plain": [
       ":NdOverlay   [Class]\n",
       "   :Scatter   [TotalCoinsMined]   (TotalCoinSupply,CoinName)"
      ]
     },
     "execution_count": 353,
     "metadata": {
      "application/vnd.holoviews_exec.v0+json": {
       "id": "3056"
      }
     },
     "output_type": "execute_result"
    }
   ],
   "source": [
    "# Create a hvplot.scatter plot using x=\"TotalCoinsMined\" and y=\"TotalCoinSupply\".\n",
    "new_crypto_scaled.hvplot.scatter(\n",
    "    x=\"TotalCoinsMined\",\n",
    "    y=\"TotalCoinSupply\",\n",
    "    hover_cols=[\"CoinName\"],\n",
    "    by=\"Class\"\n",
    ")"
   ]
  }
 ],
 "metadata": {
  "file_extension": ".py",
  "kernelspec": {
   "display_name": "mlenv",
   "language": "python",
   "name": "mlenv"
  },
  "language_info": {
   "codemirror_mode": {
    "name": "ipython",
    "version": 3
   },
   "file_extension": ".py",
   "mimetype": "text/x-python",
   "name": "python",
   "nbconvert_exporter": "python",
   "pygments_lexer": "ipython3",
   "version": "3.7.13"
  },
  "latex_envs": {
   "LaTeX_envs_menu_present": true,
   "autoclose": false,
   "autocomplete": true,
   "bibliofile": "biblio.bib",
   "cite_by": "apalike",
   "current_citInitial": 1,
   "eqLabelWithNumbers": true,
   "eqNumInitial": 1,
   "hotkeys": {
    "equation": "Ctrl-E",
    "itemize": "Ctrl-I"
   },
   "labels_anchors": false,
   "latex_user_defs": false,
   "report_style_numbering": false,
   "user_envs_cfg": false
  },
  "mimetype": "text/x-python",
  "name": "python",
  "npconvert_exporter": "python",
  "pygments_lexer": "ipython3",
  "version": 3
 },
 "nbformat": 4,
 "nbformat_minor": 2
}
